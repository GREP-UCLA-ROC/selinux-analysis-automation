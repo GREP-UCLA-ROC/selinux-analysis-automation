{
  "nbformat": 4,
  "nbformat_minor": 0,
  "metadata": {
    "colab": {
      "provenance": []
    },
    "kernelspec": {
      "name": "python3",
      "display_name": "Python 3"
    },
    "language_info": {
      "name": "python"
    },
    "widgets": {
      "application/vnd.jupyter.widget-state+json": {
        "e06726746a584c91a9163d0bbcbdfce9": {
          "model_module": "@jupyter-widgets/controls",
          "model_name": "HBoxModel",
          "model_module_version": "1.5.0",
          "state": {
            "_dom_classes": [],
            "_model_module": "@jupyter-widgets/controls",
            "_model_module_version": "1.5.0",
            "_model_name": "HBoxModel",
            "_view_count": null,
            "_view_module": "@jupyter-widgets/controls",
            "_view_module_version": "1.5.0",
            "_view_name": "HBoxView",
            "box_style": "",
            "children": [
              "IPY_MODEL_66ba4b42fd7247a58a465014b924e064",
              "IPY_MODEL_49955725f31f458bbcf3ec5f81362953",
              "IPY_MODEL_c3cc584f4a2d49d1884c1b519003a352"
            ],
            "layout": "IPY_MODEL_cee88150688f4e38a99afc5e820960d4"
          }
        },
        "66ba4b42fd7247a58a465014b924e064": {
          "model_module": "@jupyter-widgets/controls",
          "model_name": "HTMLModel",
          "model_module_version": "1.5.0",
          "state": {
            "_dom_classes": [],
            "_model_module": "@jupyter-widgets/controls",
            "_model_module_version": "1.5.0",
            "_model_name": "HTMLModel",
            "_view_count": null,
            "_view_module": "@jupyter-widgets/controls",
            "_view_module_version": "1.5.0",
            "_view_name": "HTMLView",
            "description": "",
            "description_tooltip": null,
            "layout": "IPY_MODEL_9d76ec49694442d4a985d220c9d63542",
            "placeholder": "​",
            "style": "IPY_MODEL_0e38f424c7aa43f19321f5e1abf70821",
            "value": "Computing transition probabilities: 100%"
          }
        },
        "49955725f31f458bbcf3ec5f81362953": {
          "model_module": "@jupyter-widgets/controls",
          "model_name": "FloatProgressModel",
          "model_module_version": "1.5.0",
          "state": {
            "_dom_classes": [],
            "_model_module": "@jupyter-widgets/controls",
            "_model_module_version": "1.5.0",
            "_model_name": "FloatProgressModel",
            "_view_count": null,
            "_view_module": "@jupyter-widgets/controls",
            "_view_module_version": "1.5.0",
            "_view_name": "ProgressView",
            "bar_style": "success",
            "description": "",
            "description_tooltip": null,
            "layout": "IPY_MODEL_512e7d0ff3084091b32d7ee686a4288d",
            "max": 4721,
            "min": 0,
            "orientation": "horizontal",
            "style": "IPY_MODEL_0b1db7b943f8484497f77316e4abc6d8",
            "value": 4721
          }
        },
        "c3cc584f4a2d49d1884c1b519003a352": {
          "model_module": "@jupyter-widgets/controls",
          "model_name": "HTMLModel",
          "model_module_version": "1.5.0",
          "state": {
            "_dom_classes": [],
            "_model_module": "@jupyter-widgets/controls",
            "_model_module_version": "1.5.0",
            "_model_name": "HTMLModel",
            "_view_count": null,
            "_view_module": "@jupyter-widgets/controls",
            "_view_module_version": "1.5.0",
            "_view_name": "HTMLView",
            "description": "",
            "description_tooltip": null,
            "layout": "IPY_MODEL_02fd9207313c4f1aab8f2fccf8aee559",
            "placeholder": "​",
            "style": "IPY_MODEL_af3521472a6f4bafa680f510942f1d96",
            "value": " 4721/4721 [00:03&lt;00:00, 3982.73it/s]"
          }
        },
        "cee88150688f4e38a99afc5e820960d4": {
          "model_module": "@jupyter-widgets/base",
          "model_name": "LayoutModel",
          "model_module_version": "1.2.0",
          "state": {
            "_model_module": "@jupyter-widgets/base",
            "_model_module_version": "1.2.0",
            "_model_name": "LayoutModel",
            "_view_count": null,
            "_view_module": "@jupyter-widgets/base",
            "_view_module_version": "1.2.0",
            "_view_name": "LayoutView",
            "align_content": null,
            "align_items": null,
            "align_self": null,
            "border": null,
            "bottom": null,
            "display": null,
            "flex": null,
            "flex_flow": null,
            "grid_area": null,
            "grid_auto_columns": null,
            "grid_auto_flow": null,
            "grid_auto_rows": null,
            "grid_column": null,
            "grid_gap": null,
            "grid_row": null,
            "grid_template_areas": null,
            "grid_template_columns": null,
            "grid_template_rows": null,
            "height": null,
            "justify_content": null,
            "justify_items": null,
            "left": null,
            "margin": null,
            "max_height": null,
            "max_width": null,
            "min_height": null,
            "min_width": null,
            "object_fit": null,
            "object_position": null,
            "order": null,
            "overflow": null,
            "overflow_x": null,
            "overflow_y": null,
            "padding": null,
            "right": null,
            "top": null,
            "visibility": null,
            "width": null
          }
        },
        "9d76ec49694442d4a985d220c9d63542": {
          "model_module": "@jupyter-widgets/base",
          "model_name": "LayoutModel",
          "model_module_version": "1.2.0",
          "state": {
            "_model_module": "@jupyter-widgets/base",
            "_model_module_version": "1.2.0",
            "_model_name": "LayoutModel",
            "_view_count": null,
            "_view_module": "@jupyter-widgets/base",
            "_view_module_version": "1.2.0",
            "_view_name": "LayoutView",
            "align_content": null,
            "align_items": null,
            "align_self": null,
            "border": null,
            "bottom": null,
            "display": null,
            "flex": null,
            "flex_flow": null,
            "grid_area": null,
            "grid_auto_columns": null,
            "grid_auto_flow": null,
            "grid_auto_rows": null,
            "grid_column": null,
            "grid_gap": null,
            "grid_row": null,
            "grid_template_areas": null,
            "grid_template_columns": null,
            "grid_template_rows": null,
            "height": null,
            "justify_content": null,
            "justify_items": null,
            "left": null,
            "margin": null,
            "max_height": null,
            "max_width": null,
            "min_height": null,
            "min_width": null,
            "object_fit": null,
            "object_position": null,
            "order": null,
            "overflow": null,
            "overflow_x": null,
            "overflow_y": null,
            "padding": null,
            "right": null,
            "top": null,
            "visibility": null,
            "width": null
          }
        },
        "0e38f424c7aa43f19321f5e1abf70821": {
          "model_module": "@jupyter-widgets/controls",
          "model_name": "DescriptionStyleModel",
          "model_module_version": "1.5.0",
          "state": {
            "_model_module": "@jupyter-widgets/controls",
            "_model_module_version": "1.5.0",
            "_model_name": "DescriptionStyleModel",
            "_view_count": null,
            "_view_module": "@jupyter-widgets/base",
            "_view_module_version": "1.2.0",
            "_view_name": "StyleView",
            "description_width": ""
          }
        },
        "512e7d0ff3084091b32d7ee686a4288d": {
          "model_module": "@jupyter-widgets/base",
          "model_name": "LayoutModel",
          "model_module_version": "1.2.0",
          "state": {
            "_model_module": "@jupyter-widgets/base",
            "_model_module_version": "1.2.0",
            "_model_name": "LayoutModel",
            "_view_count": null,
            "_view_module": "@jupyter-widgets/base",
            "_view_module_version": "1.2.0",
            "_view_name": "LayoutView",
            "align_content": null,
            "align_items": null,
            "align_self": null,
            "border": null,
            "bottom": null,
            "display": null,
            "flex": null,
            "flex_flow": null,
            "grid_area": null,
            "grid_auto_columns": null,
            "grid_auto_flow": null,
            "grid_auto_rows": null,
            "grid_column": null,
            "grid_gap": null,
            "grid_row": null,
            "grid_template_areas": null,
            "grid_template_columns": null,
            "grid_template_rows": null,
            "height": null,
            "justify_content": null,
            "justify_items": null,
            "left": null,
            "margin": null,
            "max_height": null,
            "max_width": null,
            "min_height": null,
            "min_width": null,
            "object_fit": null,
            "object_position": null,
            "order": null,
            "overflow": null,
            "overflow_x": null,
            "overflow_y": null,
            "padding": null,
            "right": null,
            "top": null,
            "visibility": null,
            "width": null
          }
        },
        "0b1db7b943f8484497f77316e4abc6d8": {
          "model_module": "@jupyter-widgets/controls",
          "model_name": "ProgressStyleModel",
          "model_module_version": "1.5.0",
          "state": {
            "_model_module": "@jupyter-widgets/controls",
            "_model_module_version": "1.5.0",
            "_model_name": "ProgressStyleModel",
            "_view_count": null,
            "_view_module": "@jupyter-widgets/base",
            "_view_module_version": "1.2.0",
            "_view_name": "StyleView",
            "bar_color": null,
            "description_width": ""
          }
        },
        "02fd9207313c4f1aab8f2fccf8aee559": {
          "model_module": "@jupyter-widgets/base",
          "model_name": "LayoutModel",
          "model_module_version": "1.2.0",
          "state": {
            "_model_module": "@jupyter-widgets/base",
            "_model_module_version": "1.2.0",
            "_model_name": "LayoutModel",
            "_view_count": null,
            "_view_module": "@jupyter-widgets/base",
            "_view_module_version": "1.2.0",
            "_view_name": "LayoutView",
            "align_content": null,
            "align_items": null,
            "align_self": null,
            "border": null,
            "bottom": null,
            "display": null,
            "flex": null,
            "flex_flow": null,
            "grid_area": null,
            "grid_auto_columns": null,
            "grid_auto_flow": null,
            "grid_auto_rows": null,
            "grid_column": null,
            "grid_gap": null,
            "grid_row": null,
            "grid_template_areas": null,
            "grid_template_columns": null,
            "grid_template_rows": null,
            "height": null,
            "justify_content": null,
            "justify_items": null,
            "left": null,
            "margin": null,
            "max_height": null,
            "max_width": null,
            "min_height": null,
            "min_width": null,
            "object_fit": null,
            "object_position": null,
            "order": null,
            "overflow": null,
            "overflow_x": null,
            "overflow_y": null,
            "padding": null,
            "right": null,
            "top": null,
            "visibility": null,
            "width": null
          }
        },
        "af3521472a6f4bafa680f510942f1d96": {
          "model_module": "@jupyter-widgets/controls",
          "model_name": "DescriptionStyleModel",
          "model_module_version": "1.5.0",
          "state": {
            "_model_module": "@jupyter-widgets/controls",
            "_model_module_version": "1.5.0",
            "_model_name": "DescriptionStyleModel",
            "_view_count": null,
            "_view_module": "@jupyter-widgets/base",
            "_view_module_version": "1.2.0",
            "_view_name": "StyleView",
            "description_width": ""
          }
        },
        "5b25b328b08d4a24898b71058f9bb806": {
          "model_module": "@jupyter-widgets/controls",
          "model_name": "HBoxModel",
          "model_module_version": "1.5.0",
          "state": {
            "_dom_classes": [],
            "_model_module": "@jupyter-widgets/controls",
            "_model_module_version": "1.5.0",
            "_model_name": "HBoxModel",
            "_view_count": null,
            "_view_module": "@jupyter-widgets/controls",
            "_view_module_version": "1.5.0",
            "_view_name": "HBoxView",
            "box_style": "",
            "children": [
              "IPY_MODEL_b971ed310a324525995035c2d89234b3",
              "IPY_MODEL_a4ed7475c0324554af5a6bccbef06b39",
              "IPY_MODEL_217991a6d77b490da8a7f020be6be66e"
            ],
            "layout": "IPY_MODEL_5f1766caccff4954bad1f8c6581c8805"
          }
        },
        "b971ed310a324525995035c2d89234b3": {
          "model_module": "@jupyter-widgets/controls",
          "model_name": "HTMLModel",
          "model_module_version": "1.5.0",
          "state": {
            "_dom_classes": [],
            "_model_module": "@jupyter-widgets/controls",
            "_model_module_version": "1.5.0",
            "_model_name": "HTMLModel",
            "_view_count": null,
            "_view_module": "@jupyter-widgets/controls",
            "_view_module_version": "1.5.0",
            "_view_name": "HTMLView",
            "description": "",
            "description_tooltip": null,
            "layout": "IPY_MODEL_617793ea51c14056816cf31017051e4c",
            "placeholder": "​",
            "style": "IPY_MODEL_925e3c9f21744b69a6e9f67cde2d9c29",
            "value": "Computing transition probabilities: 100%"
          }
        },
        "a4ed7475c0324554af5a6bccbef06b39": {
          "model_module": "@jupyter-widgets/controls",
          "model_name": "FloatProgressModel",
          "model_module_version": "1.5.0",
          "state": {
            "_dom_classes": [],
            "_model_module": "@jupyter-widgets/controls",
            "_model_module_version": "1.5.0",
            "_model_name": "FloatProgressModel",
            "_view_count": null,
            "_view_module": "@jupyter-widgets/controls",
            "_view_module_version": "1.5.0",
            "_view_name": "ProgressView",
            "bar_style": "success",
            "description": "",
            "description_tooltip": null,
            "layout": "IPY_MODEL_84e9051654984a4ea97d8de794f6e788",
            "max": 10,
            "min": 0,
            "orientation": "horizontal",
            "style": "IPY_MODEL_47461ec557824b458b6702f6bf0650a1",
            "value": 10
          }
        },
        "217991a6d77b490da8a7f020be6be66e": {
          "model_module": "@jupyter-widgets/controls",
          "model_name": "HTMLModel",
          "model_module_version": "1.5.0",
          "state": {
            "_dom_classes": [],
            "_model_module": "@jupyter-widgets/controls",
            "_model_module_version": "1.5.0",
            "_model_name": "HTMLModel",
            "_view_count": null,
            "_view_module": "@jupyter-widgets/controls",
            "_view_module_version": "1.5.0",
            "_view_name": "HTMLView",
            "description": "",
            "description_tooltip": null,
            "layout": "IPY_MODEL_8e03217c64234a639411f96e5f1e8a19",
            "placeholder": "​",
            "style": "IPY_MODEL_78d265b988ea41b2acbecc8efae124ec",
            "value": " 10/10 [00:00&lt;00:00, 506.37it/s]"
          }
        },
        "5f1766caccff4954bad1f8c6581c8805": {
          "model_module": "@jupyter-widgets/base",
          "model_name": "LayoutModel",
          "model_module_version": "1.2.0",
          "state": {
            "_model_module": "@jupyter-widgets/base",
            "_model_module_version": "1.2.0",
            "_model_name": "LayoutModel",
            "_view_count": null,
            "_view_module": "@jupyter-widgets/base",
            "_view_module_version": "1.2.0",
            "_view_name": "LayoutView",
            "align_content": null,
            "align_items": null,
            "align_self": null,
            "border": null,
            "bottom": null,
            "display": null,
            "flex": null,
            "flex_flow": null,
            "grid_area": null,
            "grid_auto_columns": null,
            "grid_auto_flow": null,
            "grid_auto_rows": null,
            "grid_column": null,
            "grid_gap": null,
            "grid_row": null,
            "grid_template_areas": null,
            "grid_template_columns": null,
            "grid_template_rows": null,
            "height": null,
            "justify_content": null,
            "justify_items": null,
            "left": null,
            "margin": null,
            "max_height": null,
            "max_width": null,
            "min_height": null,
            "min_width": null,
            "object_fit": null,
            "object_position": null,
            "order": null,
            "overflow": null,
            "overflow_x": null,
            "overflow_y": null,
            "padding": null,
            "right": null,
            "top": null,
            "visibility": null,
            "width": null
          }
        },
        "617793ea51c14056816cf31017051e4c": {
          "model_module": "@jupyter-widgets/base",
          "model_name": "LayoutModel",
          "model_module_version": "1.2.0",
          "state": {
            "_model_module": "@jupyter-widgets/base",
            "_model_module_version": "1.2.0",
            "_model_name": "LayoutModel",
            "_view_count": null,
            "_view_module": "@jupyter-widgets/base",
            "_view_module_version": "1.2.0",
            "_view_name": "LayoutView",
            "align_content": null,
            "align_items": null,
            "align_self": null,
            "border": null,
            "bottom": null,
            "display": null,
            "flex": null,
            "flex_flow": null,
            "grid_area": null,
            "grid_auto_columns": null,
            "grid_auto_flow": null,
            "grid_auto_rows": null,
            "grid_column": null,
            "grid_gap": null,
            "grid_row": null,
            "grid_template_areas": null,
            "grid_template_columns": null,
            "grid_template_rows": null,
            "height": null,
            "justify_content": null,
            "justify_items": null,
            "left": null,
            "margin": null,
            "max_height": null,
            "max_width": null,
            "min_height": null,
            "min_width": null,
            "object_fit": null,
            "object_position": null,
            "order": null,
            "overflow": null,
            "overflow_x": null,
            "overflow_y": null,
            "padding": null,
            "right": null,
            "top": null,
            "visibility": null,
            "width": null
          }
        },
        "925e3c9f21744b69a6e9f67cde2d9c29": {
          "model_module": "@jupyter-widgets/controls",
          "model_name": "DescriptionStyleModel",
          "model_module_version": "1.5.0",
          "state": {
            "_model_module": "@jupyter-widgets/controls",
            "_model_module_version": "1.5.0",
            "_model_name": "DescriptionStyleModel",
            "_view_count": null,
            "_view_module": "@jupyter-widgets/base",
            "_view_module_version": "1.2.0",
            "_view_name": "StyleView",
            "description_width": ""
          }
        },
        "84e9051654984a4ea97d8de794f6e788": {
          "model_module": "@jupyter-widgets/base",
          "model_name": "LayoutModel",
          "model_module_version": "1.2.0",
          "state": {
            "_model_module": "@jupyter-widgets/base",
            "_model_module_version": "1.2.0",
            "_model_name": "LayoutModel",
            "_view_count": null,
            "_view_module": "@jupyter-widgets/base",
            "_view_module_version": "1.2.0",
            "_view_name": "LayoutView",
            "align_content": null,
            "align_items": null,
            "align_self": null,
            "border": null,
            "bottom": null,
            "display": null,
            "flex": null,
            "flex_flow": null,
            "grid_area": null,
            "grid_auto_columns": null,
            "grid_auto_flow": null,
            "grid_auto_rows": null,
            "grid_column": null,
            "grid_gap": null,
            "grid_row": null,
            "grid_template_areas": null,
            "grid_template_columns": null,
            "grid_template_rows": null,
            "height": null,
            "justify_content": null,
            "justify_items": null,
            "left": null,
            "margin": null,
            "max_height": null,
            "max_width": null,
            "min_height": null,
            "min_width": null,
            "object_fit": null,
            "object_position": null,
            "order": null,
            "overflow": null,
            "overflow_x": null,
            "overflow_y": null,
            "padding": null,
            "right": null,
            "top": null,
            "visibility": null,
            "width": null
          }
        },
        "47461ec557824b458b6702f6bf0650a1": {
          "model_module": "@jupyter-widgets/controls",
          "model_name": "ProgressStyleModel",
          "model_module_version": "1.5.0",
          "state": {
            "_model_module": "@jupyter-widgets/controls",
            "_model_module_version": "1.5.0",
            "_model_name": "ProgressStyleModel",
            "_view_count": null,
            "_view_module": "@jupyter-widgets/base",
            "_view_module_version": "1.2.0",
            "_view_name": "StyleView",
            "bar_color": null,
            "description_width": ""
          }
        },
        "8e03217c64234a639411f96e5f1e8a19": {
          "model_module": "@jupyter-widgets/base",
          "model_name": "LayoutModel",
          "model_module_version": "1.2.0",
          "state": {
            "_model_module": "@jupyter-widgets/base",
            "_model_module_version": "1.2.0",
            "_model_name": "LayoutModel",
            "_view_count": null,
            "_view_module": "@jupyter-widgets/base",
            "_view_module_version": "1.2.0",
            "_view_name": "LayoutView",
            "align_content": null,
            "align_items": null,
            "align_self": null,
            "border": null,
            "bottom": null,
            "display": null,
            "flex": null,
            "flex_flow": null,
            "grid_area": null,
            "grid_auto_columns": null,
            "grid_auto_flow": null,
            "grid_auto_rows": null,
            "grid_column": null,
            "grid_gap": null,
            "grid_row": null,
            "grid_template_areas": null,
            "grid_template_columns": null,
            "grid_template_rows": null,
            "height": null,
            "justify_content": null,
            "justify_items": null,
            "left": null,
            "margin": null,
            "max_height": null,
            "max_width": null,
            "min_height": null,
            "min_width": null,
            "object_fit": null,
            "object_position": null,
            "order": null,
            "overflow": null,
            "overflow_x": null,
            "overflow_y": null,
            "padding": null,
            "right": null,
            "top": null,
            "visibility": null,
            "width": null
          }
        },
        "78d265b988ea41b2acbecc8efae124ec": {
          "model_module": "@jupyter-widgets/controls",
          "model_name": "DescriptionStyleModel",
          "model_module_version": "1.5.0",
          "state": {
            "_model_module": "@jupyter-widgets/controls",
            "_model_module_version": "1.5.0",
            "_model_name": "DescriptionStyleModel",
            "_view_count": null,
            "_view_module": "@jupyter-widgets/base",
            "_view_module_version": "1.2.0",
            "_view_name": "StyleView",
            "description_width": ""
          }
        }
      }
    }
  },
  "cells": [
    {
      "cell_type": "code",
      "execution_count": null,
      "metadata": {
        "colab": {
          "base_uri": "https://localhost:8080/"
        },
        "id": "vfke8XCghxj6",
        "outputId": "debf2b46-6940-4594-ab22-254151c578da"
      },
      "outputs": [
        {
          "output_type": "stream",
          "name": "stdout",
          "text": [
            "Requirement already satisfied: pandas in /usr/local/lib/python3.10/dist-packages (2.0.3)\n",
            "Requirement already satisfied: networkx in /usr/local/lib/python3.10/dist-packages (2.8.8)\n",
            "Requirement already satisfied: py2neo in /usr/local/lib/python3.10/dist-packages (2021.2.4)\n",
            "Requirement already satisfied: neo4j in /usr/local/lib/python3.10/dist-packages (5.21.0)\n",
            "Requirement already satisfied: node2vec in /usr/local/lib/python3.10/dist-packages (0.4.6)\n",
            "Requirement already satisfied: faiss-cpu in /usr/local/lib/python3.10/dist-packages (1.8.0)\n",
            "Requirement already satisfied: python-dateutil>=2.8.2 in /usr/local/lib/python3.10/dist-packages (from pandas) (2.8.2)\n",
            "Requirement already satisfied: pytz>=2020.1 in /usr/local/lib/python3.10/dist-packages (from pandas) (2023.4)\n",
            "Requirement already satisfied: tzdata>=2022.1 in /usr/local/lib/python3.10/dist-packages (from pandas) (2024.1)\n",
            "Requirement already satisfied: numpy>=1.21.0 in /usr/local/lib/python3.10/dist-packages (from pandas) (1.25.2)\n",
            "Requirement already satisfied: certifi in /usr/local/lib/python3.10/dist-packages (from py2neo) (2024.6.2)\n",
            "Requirement already satisfied: interchange~=2021.0.4 in /usr/local/lib/python3.10/dist-packages (from py2neo) (2021.0.4)\n",
            "Requirement already satisfied: monotonic in /usr/local/lib/python3.10/dist-packages (from py2neo) (1.6)\n",
            "Requirement already satisfied: packaging in /usr/local/lib/python3.10/dist-packages (from py2neo) (24.1)\n",
            "Requirement already satisfied: pansi>=2020.7.3 in /usr/local/lib/python3.10/dist-packages (from py2neo) (2020.7.3)\n",
            "Requirement already satisfied: pygments>=2.0.0 in /usr/local/lib/python3.10/dist-packages (from py2neo) (2.16.1)\n",
            "Requirement already satisfied: six>=1.15.0 in /usr/local/lib/python3.10/dist-packages (from py2neo) (1.16.0)\n",
            "Requirement already satisfied: urllib3 in /usr/local/lib/python3.10/dist-packages (from py2neo) (2.0.7)\n",
            "Requirement already satisfied: gensim<5.0.0,>=4.1.2 in /usr/local/lib/python3.10/dist-packages (from node2vec) (4.3.2)\n",
            "Requirement already satisfied: joblib<2.0.0,>=1.1.0 in /usr/local/lib/python3.10/dist-packages (from node2vec) (1.4.2)\n",
            "Requirement already satisfied: tqdm<5.0.0,>=4.55.1 in /usr/local/lib/python3.10/dist-packages (from node2vec) (4.66.4)\n",
            "Requirement already satisfied: scipy>=1.7.0 in /usr/local/lib/python3.10/dist-packages (from gensim<5.0.0,>=4.1.2->node2vec) (1.11.4)\n",
            "Requirement already satisfied: smart-open>=1.8.1 in /usr/local/lib/python3.10/dist-packages (from gensim<5.0.0,>=4.1.2->node2vec) (7.0.4)\n",
            "Requirement already satisfied: wrapt in /usr/local/lib/python3.10/dist-packages (from smart-open>=1.8.1->gensim<5.0.0,>=4.1.2->node2vec) (1.14.1)\n"
          ]
        }
      ],
      "source": [
        "!pip install pandas networkx py2neo neo4j node2vec faiss-cpu"
      ]
    },
    {
      "cell_type": "code",
      "source": [
        "from google.colab import files\n",
        "uploaded = files.upload()"
      ],
      "metadata": {
        "colab": {
          "base_uri": "https://localhost:8080/",
          "height": 143
        },
        "id": "Bjo-p4E-h9vT",
        "outputId": "dd7cace5-935e-48ae-be65-8af6f0c1c7ee"
      },
      "execution_count": null,
      "outputs": [
        {
          "output_type": "display_data",
          "data": {
            "text/plain": [
              "<IPython.core.display.HTML object>"
            ],
            "text/html": [
              "\n",
              "     <input type=\"file\" id=\"files-c17a335f-27ea-4c06-99cf-cfd6c93446db\" name=\"files[]\" multiple disabled\n",
              "        style=\"border:none\" />\n",
              "     <output id=\"result-c17a335f-27ea-4c06-99cf-cfd6c93446db\">\n",
              "      Upload widget is only available when the cell has been executed in the\n",
              "      current browser session. Please rerun this cell to enable.\n",
              "      </output>\n",
              "      <script>// Copyright 2017 Google LLC\n",
              "//\n",
              "// Licensed under the Apache License, Version 2.0 (the \"License\");\n",
              "// you may not use this file except in compliance with the License.\n",
              "// You may obtain a copy of the License at\n",
              "//\n",
              "//      http://www.apache.org/licenses/LICENSE-2.0\n",
              "//\n",
              "// Unless required by applicable law or agreed to in writing, software\n",
              "// distributed under the License is distributed on an \"AS IS\" BASIS,\n",
              "// WITHOUT WARRANTIES OR CONDITIONS OF ANY KIND, either express or implied.\n",
              "// See the License for the specific language governing permissions and\n",
              "// limitations under the License.\n",
              "\n",
              "/**\n",
              " * @fileoverview Helpers for google.colab Python module.\n",
              " */\n",
              "(function(scope) {\n",
              "function span(text, styleAttributes = {}) {\n",
              "  const element = document.createElement('span');\n",
              "  element.textContent = text;\n",
              "  for (const key of Object.keys(styleAttributes)) {\n",
              "    element.style[key] = styleAttributes[key];\n",
              "  }\n",
              "  return element;\n",
              "}\n",
              "\n",
              "// Max number of bytes which will be uploaded at a time.\n",
              "const MAX_PAYLOAD_SIZE = 100 * 1024;\n",
              "\n",
              "function _uploadFiles(inputId, outputId) {\n",
              "  const steps = uploadFilesStep(inputId, outputId);\n",
              "  const outputElement = document.getElementById(outputId);\n",
              "  // Cache steps on the outputElement to make it available for the next call\n",
              "  // to uploadFilesContinue from Python.\n",
              "  outputElement.steps = steps;\n",
              "\n",
              "  return _uploadFilesContinue(outputId);\n",
              "}\n",
              "\n",
              "// This is roughly an async generator (not supported in the browser yet),\n",
              "// where there are multiple asynchronous steps and the Python side is going\n",
              "// to poll for completion of each step.\n",
              "// This uses a Promise to block the python side on completion of each step,\n",
              "// then passes the result of the previous step as the input to the next step.\n",
              "function _uploadFilesContinue(outputId) {\n",
              "  const outputElement = document.getElementById(outputId);\n",
              "  const steps = outputElement.steps;\n",
              "\n",
              "  const next = steps.next(outputElement.lastPromiseValue);\n",
              "  return Promise.resolve(next.value.promise).then((value) => {\n",
              "    // Cache the last promise value to make it available to the next\n",
              "    // step of the generator.\n",
              "    outputElement.lastPromiseValue = value;\n",
              "    return next.value.response;\n",
              "  });\n",
              "}\n",
              "\n",
              "/**\n",
              " * Generator function which is called between each async step of the upload\n",
              " * process.\n",
              " * @param {string} inputId Element ID of the input file picker element.\n",
              " * @param {string} outputId Element ID of the output display.\n",
              " * @return {!Iterable<!Object>} Iterable of next steps.\n",
              " */\n",
              "function* uploadFilesStep(inputId, outputId) {\n",
              "  const inputElement = document.getElementById(inputId);\n",
              "  inputElement.disabled = false;\n",
              "\n",
              "  const outputElement = document.getElementById(outputId);\n",
              "  outputElement.innerHTML = '';\n",
              "\n",
              "  const pickedPromise = new Promise((resolve) => {\n",
              "    inputElement.addEventListener('change', (e) => {\n",
              "      resolve(e.target.files);\n",
              "    });\n",
              "  });\n",
              "\n",
              "  const cancel = document.createElement('button');\n",
              "  inputElement.parentElement.appendChild(cancel);\n",
              "  cancel.textContent = 'Cancel upload';\n",
              "  const cancelPromise = new Promise((resolve) => {\n",
              "    cancel.onclick = () => {\n",
              "      resolve(null);\n",
              "    };\n",
              "  });\n",
              "\n",
              "  // Wait for the user to pick the files.\n",
              "  const files = yield {\n",
              "    promise: Promise.race([pickedPromise, cancelPromise]),\n",
              "    response: {\n",
              "      action: 'starting',\n",
              "    }\n",
              "  };\n",
              "\n",
              "  cancel.remove();\n",
              "\n",
              "  // Disable the input element since further picks are not allowed.\n",
              "  inputElement.disabled = true;\n",
              "\n",
              "  if (!files) {\n",
              "    return {\n",
              "      response: {\n",
              "        action: 'complete',\n",
              "      }\n",
              "    };\n",
              "  }\n",
              "\n",
              "  for (const file of files) {\n",
              "    const li = document.createElement('li');\n",
              "    li.append(span(file.name, {fontWeight: 'bold'}));\n",
              "    li.append(span(\n",
              "        `(${file.type || 'n/a'}) - ${file.size} bytes, ` +\n",
              "        `last modified: ${\n",
              "            file.lastModifiedDate ? file.lastModifiedDate.toLocaleDateString() :\n",
              "                                    'n/a'} - `));\n",
              "    const percent = span('0% done');\n",
              "    li.appendChild(percent);\n",
              "\n",
              "    outputElement.appendChild(li);\n",
              "\n",
              "    const fileDataPromise = new Promise((resolve) => {\n",
              "      const reader = new FileReader();\n",
              "      reader.onload = (e) => {\n",
              "        resolve(e.target.result);\n",
              "      };\n",
              "      reader.readAsArrayBuffer(file);\n",
              "    });\n",
              "    // Wait for the data to be ready.\n",
              "    let fileData = yield {\n",
              "      promise: fileDataPromise,\n",
              "      response: {\n",
              "        action: 'continue',\n",
              "      }\n",
              "    };\n",
              "\n",
              "    // Use a chunked sending to avoid message size limits. See b/62115660.\n",
              "    let position = 0;\n",
              "    do {\n",
              "      const length = Math.min(fileData.byteLength - position, MAX_PAYLOAD_SIZE);\n",
              "      const chunk = new Uint8Array(fileData, position, length);\n",
              "      position += length;\n",
              "\n",
              "      const base64 = btoa(String.fromCharCode.apply(null, chunk));\n",
              "      yield {\n",
              "        response: {\n",
              "          action: 'append',\n",
              "          file: file.name,\n",
              "          data: base64,\n",
              "        },\n",
              "      };\n",
              "\n",
              "      let percentDone = fileData.byteLength === 0 ?\n",
              "          100 :\n",
              "          Math.round((position / fileData.byteLength) * 100);\n",
              "      percent.textContent = `${percentDone}% done`;\n",
              "\n",
              "    } while (position < fileData.byteLength);\n",
              "  }\n",
              "\n",
              "  // All done.\n",
              "  yield {\n",
              "    response: {\n",
              "      action: 'complete',\n",
              "    }\n",
              "  };\n",
              "}\n",
              "\n",
              "scope.google = scope.google || {};\n",
              "scope.google.colab = scope.google.colab || {};\n",
              "scope.google.colab._files = {\n",
              "  _uploadFiles,\n",
              "  _uploadFilesContinue,\n",
              "};\n",
              "})(self);\n",
              "</script> "
            ]
          },
          "metadata": {}
        },
        {
          "output_type": "stream",
          "name": "stdout",
          "text": [
            "Saving objectclass.csv to objectclass.csv\n",
            "Saving attributes.csv to attributes.csv\n",
            "Saving SELinuxRealTE.csv to SELinuxRealTE.csv\n"
          ]
        }
      ]
    },
    {
      "cell_type": "code",
      "source": [
        "import networkx as nx\n",
        "import pandas as pd"
      ],
      "metadata": {
        "id": "q89s7PjPj2f4"
      },
      "execution_count": null,
      "outputs": []
    },
    {
      "cell_type": "code",
      "source": [
        "# Load CSV files and print their columns\n",
        "#csv files loaded from: https://github.com/joannsum/selinux-analysis-automation/tree/main/csv",
        "initial_type_enforcement_df = pd.read_csv('SELinuxRealTE.csv')\n",
        "object_class_df = pd.read_csv('objectclass.csv')\n",
        "attributes_df = pd.read_csv('attributes.csv')\n",
        "\n",
        "print(\"Initial Type Enforcement Columns:\", initial_type_enforcement_df.columns)\n",
        "print(\"Object Class Columns:\", object_class_df.columns)\n",
        "print(\"Attributes Columns:\", attributes_df.columns)\n"
      ],
      "metadata": {
        "colab": {
          "base_uri": "https://localhost:8080/"
        },
        "id": "xorKDo11k2q9",
        "outputId": "2f8407ab-67e4-41e7-a56c-5b979d2802e2"
      },
      "execution_count": null,
      "outputs": [
        {
          "output_type": "stream",
          "name": "stdout",
          "text": [
            "Initial Type Enforcement Columns: Index(['Source', 'Target', 'ObjectClass', 'Permission'], dtype='object')\n",
            "Object Class Columns: Index(['Name', 'Permissions'], dtype='object')\n",
            "Attributes Columns: Index(['1', '2'], dtype='object')\n"
          ]
        }
      ]
    },
    {
      "cell_type": "code",
      "source": [
        "import networkx as nx\n",
        "\n",
        "# Create a NetworkX graph\n",
        "G_train = nx.DiGraph()\n",
        "\n",
        "# Debug: Print the first few rows of each dataframe\n",
        "print(\"Initial Type Enforcement Data (first 5 rows):\\n\", initial_type_enforcement_df.head())\n",
        "print(\"Attributes Data (first 5 rows):\\n\", attributes_df.head())"
      ],
      "metadata": {
        "colab": {
          "base_uri": "https://localhost:8080/"
        },
        "id": "0CWPxYnVj57s",
        "outputId": "9c7f4db9-0605-436a-cbae-14b6eef54ad3"
      },
      "execution_count": null,
      "outputs": [
        {
          "output_type": "stream",
          "name": "stdout",
          "text": [
            "Initial Type Enforcement Data (first 5 rows):\n",
            "              Source                      Target ObjectClass        Permission\n",
            "0       httpd_php_t                       lib_t        file  execute_no_trans\n",
            "1         openvpn_t  http_cache_client_packet_t      packet              recv\n",
            "2         openvpn_t  http_cache_client_packet_t      packet              send\n",
            "3  systemd_logind_t                  polydomain     process           getattr\n",
            "4   kern_unconfined                 sysctl_type    lnk_file            append\n",
            "Attributes Data (first 5 rows):\n",
            "                               1  \\\n",
            "0       NetworkManager_etc_rw_t   \n",
            "1          NetworkManager_etc_t   \n",
            "2         NetworkManager_exec_t   \n",
            "3  NetworkManager_initrc_exec_t   \n",
            "4          NetworkManager_log_t   \n",
            "\n",
            "                                                   2  \n",
            "0  configfile, file_type, non_auth_file_type, non...  \n",
            "1  configfile, file_type, non_auth_file_type, non...  \n",
            "2  application_exec_type, direct_init_entry, entr...  \n",
            "3  entry_type, exec_type, file_type, init_script_...  \n",
            "4  file_type, logfile, non_auth_file_type, non_se...  \n"
          ]
        }
      ]
    },
    {
      "cell_type": "code",
      "source": [
        "# Add nodes and edges from the type enforcement data\n",
        "for index, row in initial_type_enforcement_df.iterrows():\n",
        "    source = row['Source']\n",
        "    target = row['Target']\n",
        "    object_class = row['ObjectClass']\n",
        "    permission = row['Permission']\n",
        "    G_train.add_node(source, label='Type')\n",
        "    G_train.add_node(target, label='Type')\n",
        "    G_train.add_edge(source, target, object_class=object_class, permission=permission)\n",
        "\n",
        "# Add attributes to the nodes\n",
        "for index, row in attributes_df.iterrows():\n",
        "    node = row['1']\n",
        "    attributes = row['2'].split(', ')\n",
        "    if node in G_train.nodes:\n",
        "        G_train.nodes[node]['attributes'] = attributes\n",
        "\n",
        "# Add object class permissions to nodes\n",
        "for index, row in object_class_df.iterrows():\n",
        "    obj_class = row['Name']\n",
        "    permissions = row['Permissions'].split(', ')\n",
        "    for node in G_train.nodes():\n",
        "        if G_train.nodes[node].get('object_class') == obj_class:\n",
        "            G_train.nodes[node]['permissions'] = permissions\n",
        "\n",
        "# Print the training graph nodes and edges\n",
        "print(\"Training graph nodes:\", G_train.nodes(data=True))\n",
        "print(\"Training graph edges:\", G_train.edges(data=True))\n"
      ],
      "metadata": {
        "colab": {
          "base_uri": "https://localhost:8080/"
        },
        "id": "VG0SmHy1lHXb",
        "outputId": "ed47906c-f4ca-4b52-e19e-16bb3c663f60"
      },
      "execution_count": null,
      "outputs": [
        {
          "output_type": "stream",
          "name": "stderr",
          "text": [
            "IOPub data rate exceeded.\n",
            "The notebook server will temporarily stop sending output\n",
            "to the client in order to avoid crashing it.\n",
            "To change this limit, set the config variable\n",
            "`--NotebookApp.iopub_data_rate_limit`.\n",
            "\n",
            "Current values:\n",
            "NotebookApp.iopub_data_rate_limit=1000000.0 (bytes/sec)\n",
            "NotebookApp.rate_limit_window=3.0 (secs)\n",
            "\n"
          ]
        }
      ]
    },
    {
      "cell_type": "code",
      "source": [
        "from node2vec import Node2Vec\n",
        "#Trying to Generate node embeddings using Node2Vec...\n",
        "#Initialize Node2Vec model\n",
        "node2vec_train = Node2Vec(G_train, dimensions=64, walk_length=30, num_walks=200, workers=4)\n",
        "\n",
        "#Generate node embeddings\n",
        "model_train = node2vec_train.fit(window=10, min_count=1, batch_words=4)\n",
        "\n",
        "#Save embeddings\n",
        "embeddings_train = {node: model_train.wv[node] for node in G_train.nodes()}\n"
      ],
      "metadata": {
        "colab": {
          "base_uri": "https://localhost:8080/",
          "height": 347,
          "referenced_widgets": [
            "e06726746a584c91a9163d0bbcbdfce9",
            "66ba4b42fd7247a58a465014b924e064",
            "49955725f31f458bbcf3ec5f81362953",
            "c3cc584f4a2d49d1884c1b519003a352",
            "cee88150688f4e38a99afc5e820960d4",
            "9d76ec49694442d4a985d220c9d63542",
            "0e38f424c7aa43f19321f5e1abf70821",
            "512e7d0ff3084091b32d7ee686a4288d",
            "0b1db7b943f8484497f77316e4abc6d8",
            "02fd9207313c4f1aab8f2fccf8aee559",
            "af3521472a6f4bafa680f510942f1d96"
          ]
        },
        "id": "jVo7w8knkXsH",
        "outputId": "6cc55831-839c-4ae3-a345-fe8b0bccff93"
      },
      "execution_count": null,
      "outputs": [
        {
          "data": {
            "application/vnd.jupyter.widget-view+json": {
              "model_id": "e06726746a584c91a9163d0bbcbdfce9",
              "version_major": 2,
              "version_minor": 0
            },
            "text/plain": [
              "Computing transition probabilities:   0%|          | 0/4721 [00:00<?, ?it/s]"
            ]
          },
          "metadata": {},
          "output_type": "display_data"
        },
        {
          "output_type": "stream",
          "name": "stdout",
          "text": [
            "Sample embedding for node 'httpd_php_t': [-6.0077059e-01  1.2624412e+00  6.6329074e-01 -2.3486604e-01\n",
            " -2.7117640e-02 -7.3234953e-02  3.8428552e-02  1.1602613e+00\n",
            " -9.3400568e-01  2.4144404e-01  1.6100215e+00  4.2023534e-01\n",
            "  1.8373679e-01  6.4155626e-01  8.5333192e-01 -2.2673802e-01\n",
            " -2.5958899e-02  5.0024515e-01  4.1162723e-01 -6.0138393e-02\n",
            "  1.1830294e+00 -4.9293309e-01  6.4358634e-01  5.2072056e-02\n",
            "  9.0261120e-01 -9.3721575e-01 -3.4434497e-01 -2.0696074e-01\n",
            "  2.3168472e-03  3.5499781e-01 -2.1007393e-01  1.2934551e-01\n",
            " -4.5095462e-01 -8.4831679e-01  5.6176656e-01  6.9861341e-01\n",
            " -4.3279806e-01 -1.3679823e-01  1.0203922e+00 -4.0896416e-01\n",
            " -2.7646089e-01  3.0773755e-02 -5.8253318e-01  6.3450110e-01\n",
            "  9.5154887e-01  2.8449807e-01  3.2420602e-01 -4.9126503e-01\n",
            " -1.3990233e+00 -5.4145414e-02  3.5768262e-01 -2.8089536e-02\n",
            " -1.4233436e-01  1.6063888e-01 -1.3634166e-01  1.1217101e-04\n",
            "  4.0518889e-01 -4.2152655e-01 -2.8373504e-02 -1.6614632e-01\n",
            "  5.3528339e-01 -7.1923506e-01  3.3426470e-01 -6.4518529e-01]\n"
          ]
        }
      ]
    },
    {
      "cell_type": "code",
      "source": [
        "from sklearn.preprocessing import StandardScaler\n",
        "from sklearn.ensemble import IsolationForest\n",
        "import numpy as np\n",
        "# using isolation forest to train the anomaly detection model.\n",
        "# Convert embeddings to a matrix\n",
        "embedding_matrix_train = np.array([embeddings_train[node] for node in G_train.nodes()])\n",
        "node_list_train = list(G_train.nodes())\n",
        "\n",
        "# Standardize the embeddings\n",
        "scaler_train = StandardScaler()\n",
        "embedding_matrix_scaled_train = scaler_train.fit_transform(embedding_matrix_train)\n",
        "\n",
        "# Train Isolation Forest for anomaly detection\n",
        "iso_forest_train = IsolationForest(contamination=0.1)\n",
        "iso_forest_train.fit(embedding_matrix_scaled_train)"
      ],
      "metadata": {
        "colab": {
          "base_uri": "https://localhost:8080/",
          "height": 75
        },
        "id": "s0Sd7d7AnDFg",
        "outputId": "c6f3f3a0-6c32-4b26-e3bf-532bc1a60ae0"
      },
      "execution_count": null,
      "outputs": [
        {
          "output_type": "execute_result",
          "data": {
            "text/plain": [
              "IsolationForest(contamination=0.1)"
            ],
            "text/html": [
              "<style>#sk-container-id-1 {color: black;background-color: white;}#sk-container-id-1 pre{padding: 0;}#sk-container-id-1 div.sk-toggleable {background-color: white;}#sk-container-id-1 label.sk-toggleable__label {cursor: pointer;display: block;width: 100%;margin-bottom: 0;padding: 0.3em;box-sizing: border-box;text-align: center;}#sk-container-id-1 label.sk-toggleable__label-arrow:before {content: \"▸\";float: left;margin-right: 0.25em;color: #696969;}#sk-container-id-1 label.sk-toggleable__label-arrow:hover:before {color: black;}#sk-container-id-1 div.sk-estimator:hover label.sk-toggleable__label-arrow:before {color: black;}#sk-container-id-1 div.sk-toggleable__content {max-height: 0;max-width: 0;overflow: hidden;text-align: left;background-color: #f0f8ff;}#sk-container-id-1 div.sk-toggleable__content pre {margin: 0.2em;color: black;border-radius: 0.25em;background-color: #f0f8ff;}#sk-container-id-1 input.sk-toggleable__control:checked~div.sk-toggleable__content {max-height: 200px;max-width: 100%;overflow: auto;}#sk-container-id-1 input.sk-toggleable__control:checked~label.sk-toggleable__label-arrow:before {content: \"▾\";}#sk-container-id-1 div.sk-estimator input.sk-toggleable__control:checked~label.sk-toggleable__label {background-color: #d4ebff;}#sk-container-id-1 div.sk-label input.sk-toggleable__control:checked~label.sk-toggleable__label {background-color: #d4ebff;}#sk-container-id-1 input.sk-hidden--visually {border: 0;clip: rect(1px 1px 1px 1px);clip: rect(1px, 1px, 1px, 1px);height: 1px;margin: -1px;overflow: hidden;padding: 0;position: absolute;width: 1px;}#sk-container-id-1 div.sk-estimator {font-family: monospace;background-color: #f0f8ff;border: 1px dotted black;border-radius: 0.25em;box-sizing: border-box;margin-bottom: 0.5em;}#sk-container-id-1 div.sk-estimator:hover {background-color: #d4ebff;}#sk-container-id-1 div.sk-parallel-item::after {content: \"\";width: 100%;border-bottom: 1px solid gray;flex-grow: 1;}#sk-container-id-1 div.sk-label:hover label.sk-toggleable__label {background-color: #d4ebff;}#sk-container-id-1 div.sk-serial::before {content: \"\";position: absolute;border-left: 1px solid gray;box-sizing: border-box;top: 0;bottom: 0;left: 50%;z-index: 0;}#sk-container-id-1 div.sk-serial {display: flex;flex-direction: column;align-items: center;background-color: white;padding-right: 0.2em;padding-left: 0.2em;position: relative;}#sk-container-id-1 div.sk-item {position: relative;z-index: 1;}#sk-container-id-1 div.sk-parallel {display: flex;align-items: stretch;justify-content: center;background-color: white;position: relative;}#sk-container-id-1 div.sk-item::before, #sk-container-id-1 div.sk-parallel-item::before {content: \"\";position: absolute;border-left: 1px solid gray;box-sizing: border-box;top: 0;bottom: 0;left: 50%;z-index: -1;}#sk-container-id-1 div.sk-parallel-item {display: flex;flex-direction: column;z-index: 1;position: relative;background-color: white;}#sk-container-id-1 div.sk-parallel-item:first-child::after {align-self: flex-end;width: 50%;}#sk-container-id-1 div.sk-parallel-item:last-child::after {align-self: flex-start;width: 50%;}#sk-container-id-1 div.sk-parallel-item:only-child::after {width: 0;}#sk-container-id-1 div.sk-dashed-wrapped {border: 1px dashed gray;margin: 0 0.4em 0.5em 0.4em;box-sizing: border-box;padding-bottom: 0.4em;background-color: white;}#sk-container-id-1 div.sk-label label {font-family: monospace;font-weight: bold;display: inline-block;line-height: 1.2em;}#sk-container-id-1 div.sk-label-container {text-align: center;}#sk-container-id-1 div.sk-container {/* jupyter's `normalize.less` sets `[hidden] { display: none; }` but bootstrap.min.css set `[hidden] { display: none !important; }` so we also need the `!important` here to be able to override the default hidden behavior on the sphinx rendered scikit-learn.org. See: https://github.com/scikit-learn/scikit-learn/issues/21755 */display: inline-block !important;position: relative;}#sk-container-id-1 div.sk-text-repr-fallback {display: none;}</style><div id=\"sk-container-id-1\" class=\"sk-top-container\"><div class=\"sk-text-repr-fallback\"><pre>IsolationForest(contamination=0.1)</pre><b>In a Jupyter environment, please rerun this cell to show the HTML representation or trust the notebook. <br />On GitHub, the HTML representation is unable to render, please try loading this page with nbviewer.org.</b></div><div class=\"sk-container\" hidden><div class=\"sk-item\"><div class=\"sk-estimator sk-toggleable\"><input class=\"sk-toggleable__control sk-hidden--visually\" id=\"sk-estimator-id-1\" type=\"checkbox\" checked><label for=\"sk-estimator-id-1\" class=\"sk-toggleable__label sk-toggleable__label-arrow\">IsolationForest</label><div class=\"sk-toggleable__content\"><pre>IsolationForest(contamination=0.1)</pre></div></div></div></div></div>"
            ]
          },
          "metadata": {},
          "execution_count": 16
        }
      ]
    },
    {
      "cell_type": "code",
      "source": [
        "# random example graph for testing anomaly detection:\n",
        "# Example Type Enforcement CSV for Anomaly Detection\n",
        "example_type_enforcement_data = {\n",
        "    'Source': ['new_t1', 'new_t2', 'new_t3', 'new_t4', 'new_t5'],\n",
        "    'Target': ['new_t6', 'new_t7', 'new_t8', 'new_t9', 'new_t10'],\n",
        "    'ObjectClass': ['file', 'packet', 'process', 'lnk_file', 'socket'],\n",
        "    'Permission': ['read', 'send', 'getattr', 'execute', 'connect']\n",
        "}\n",
        "\n",
        "example_type_enforcement_df = pd.DataFrame(example_type_enforcement_data)\n",
        "example_type_enforcement_df.to_csv('example_type_enforcement.csv', index=False)\n",
        "\n",
        "example_type_enforcement_df = pd.read_csv('example_type_enforcement.csv')\n",
        "\n",
        "# Debug: Print the first few rows of the example dataframe\n",
        "print(\"Example Type Enforcement Data (first 5 rows):\\n\", example_type_enforcement_df.head())\n",
        "\n",
        "# Create a NetworkX graph for the example data\n",
        "G_example = nx.DiGraph()\n",
        "\n",
        "# Add nodes and edges from the example type enforcement data\n",
        "for index, row in example_type_enforcement_df.iterrows():\n",
        "    source = row['Source']\n",
        "    target = row['Target']\n",
        "    object_class = row['ObjectClass']\n",
        "    permission = row['Permission']\n",
        "    G_example.add_node(source, label='Type')\n",
        "    G_example.add_node(target, label='Type')\n",
        "    G_example.add_edge(source, target, object_class=object_class, permission=permission)\n",
        "\n",
        "# Print the example graph nodes and edges\n",
        "print(\"Example graph nodes:\", G_example.nodes(data=True))\n",
        "print(\"Example graph edges:\", G_example.edges(data=True))"
      ],
      "metadata": {
        "colab": {
          "base_uri": "https://localhost:8080/"
        },
        "id": "z3B9ga2InOBr",
        "outputId": "b0101e23-2e2d-46e0-f921-dba800a34c1f"
      },
      "execution_count": null,
      "outputs": [
        {
          "output_type": "stream",
          "name": "stdout",
          "text": [
            "Example Type Enforcement Data (first 5 rows):\n",
            "    Source   Target ObjectClass Permission\n",
            "0  new_t1   new_t6        file       read\n",
            "1  new_t2   new_t7      packet       send\n",
            "2  new_t3   new_t8     process    getattr\n",
            "3  new_t4   new_t9    lnk_file    execute\n",
            "4  new_t5  new_t10      socket    connect\n",
            "Example graph nodes: [('new_t1', {'label': 'Type'}), ('new_t6', {'label': 'Type'}), ('new_t2', {'label': 'Type'}), ('new_t7', {'label': 'Type'}), ('new_t3', {'label': 'Type'}), ('new_t8', {'label': 'Type'}), ('new_t4', {'label': 'Type'}), ('new_t9', {'label': 'Type'}), ('new_t5', {'label': 'Type'}), ('new_t10', {'label': 'Type'})]\n",
            "Example graph edges: [('new_t1', 'new_t6', {'object_class': 'file', 'permission': 'read'}), ('new_t2', 'new_t7', {'object_class': 'packet', 'permission': 'send'}), ('new_t3', 'new_t8', {'object_class': 'process', 'permission': 'getattr'}), ('new_t4', 'new_t9', {'object_class': 'lnk_file', 'permission': 'execute'}), ('new_t5', 'new_t10', {'object_class': 'socket', 'permission': 'connect'})]\n"
          ]
        }
      ]
    },
    {
      "cell_type": "code",
      "source": [
        "# Testing example graph\n",
        "node2vec_example = Node2Vec(G_example, dimensions=64, walk_length=30, num_walks=200, workers=4)\n",
        "\n",
        "# Generate node embeddings\n",
        "model_example = node2vec_example.fit(window=10, min_count=1, batch_words=4)\n",
        "\n",
        "# Save embeddings\n",
        "embeddings_example = {node: model_example.wv[node] for node in G_example.nodes()}\n",
        "\n",
        "# Print sample embeddings\n",
        "print(\"Sample embedding for node 'new_t1':\", embeddings_example['new_t1'] if 'new_t1' in embeddings_example else 'Node not found')\n"
      ],
      "metadata": {
        "colab": {
          "base_uri": "https://localhost:8080/",
          "height": 260,
          "referenced_widgets": [
            "5b25b328b08d4a24898b71058f9bb806",
            "b971ed310a324525995035c2d89234b3",
            "a4ed7475c0324554af5a6bccbef06b39",
            "217991a6d77b490da8a7f020be6be66e",
            "5f1766caccff4954bad1f8c6581c8805",
            "617793ea51c14056816cf31017051e4c",
            "925e3c9f21744b69a6e9f67cde2d9c29",
            "84e9051654984a4ea97d8de794f6e788",
            "47461ec557824b458b6702f6bf0650a1",
            "8e03217c64234a639411f96e5f1e8a19",
            "78d265b988ea41b2acbecc8efae124ec"
          ]
        },
        "id": "4XfJyAePnRZF",
        "outputId": "754da9cc-b8cb-4c18-fd0b-79b92799584c"
      },
      "execution_count": null,
      "outputs": [
        {
          "output_type": "display_data",
          "data": {
            "text/plain": [
              "Computing transition probabilities:   0%|          | 0/10 [00:00<?, ?it/s]"
            ],
            "application/vnd.jupyter.widget-view+json": {
              "version_major": 2,
              "version_minor": 0,
              "model_id": "5b25b328b08d4a24898b71058f9bb806"
            }
          },
          "metadata": {}
        },
        {
          "output_type": "stream",
          "name": "stdout",
          "text": [
            "Sample embedding for node 'new_t1': [-0.01142641 -0.0152467  -0.00424712 -0.0130976  -0.00957451 -0.00909534\n",
            " -0.00368017 -0.00263007 -0.01423001 -0.00113438  0.01294927  0.01211359\n",
            " -0.01142839 -0.00570974  0.00488248 -0.01504921  0.00233289  0.01032688\n",
            "  0.00892792 -0.01391491 -0.0069497  -0.01273761  0.00014257  0.0146379\n",
            "  0.009535    0.00798257  0.0079075  -0.00504998  0.0149343  -0.01166455\n",
            " -0.0116177  -0.00370478 -0.00107936 -0.00516782 -0.00093771  0.01178881\n",
            " -0.00098471 -0.00266132  0.00441953 -0.01327955  0.01222267  0.01355267\n",
            " -0.01521714  0.00374294  0.01563385 -0.01204567 -0.01105226 -0.01209219\n",
            "  0.01333462 -0.00104715  0.01437656 -0.01282991  0.00582543  0.00416459\n",
            "  0.00131313  0.0035917  -0.01179719 -0.01485545  0.00365494  0.0098603\n",
            "  0.01254043  0.00896441 -0.00131159  0.01300476]\n"
          ]
        }
      ]
    },
    {
      "cell_type": "code",
      "source": [
        "# Anomaly Detection on Example Graph\n",
        "embedding_matrix_example = np.array([embeddings_example[node] for node in G_example.nodes()])\n",
        "node_list_example = list(G_example.nodes())\n",
        "\n",
        "embedding_matrix_scaled_example = scaler_train.transform(embedding_matrix_example)\n",
        "anomaly_scores = iso_forest_train.decision_function(embedding_matrix_scaled_example)\n",
        "anomaly_labels = iso_forest_train.predict(embedding_matrix_scaled_example)"
      ],
      "metadata": {
        "id": "BkI2cH7gyGfD"
      },
      "execution_count": null,
      "outputs": []
    },
    {
      "cell_type": "code",
      "source": [
        "import matplotlib.pyplot as plt\n",
        "\n",
        "# plotting out the Anomaly Detection Results\n",
        "plt.figure(figsize=(12, 8))\n",
        "\n",
        "# Node layer\n",
        "pos = nx.spring_layout(G_example)\n",
        "\n",
        "# Draw the graph with node labels\n",
        "nx.draw(G_example, pos, with_labels=True, node_color='lightblue', edge_color='gray', node_size=500, font_size=10, font_weight='bold')\n",
        "\n",
        "# Highlight anomalies\n",
        "anomaly_nodes = [node for node, label in zip(node_list_example, anomaly_labels) if label == -1]\n",
        "nx.draw_networkx_nodes(G_example, pos, nodelist=anomaly_nodes, node_color='red', node_size=700)\n",
        "\n",
        "# Add legend\n",
        "plt.legend(['Normal', 'Anomaly'], loc='upper left')\n",
        "\n",
        "plt.title('Anomaly Detection in Example SELinux Policy Graph')\n",
        "plt.show()"
      ],
      "metadata": {
        "colab": {
          "base_uri": "https://localhost:8080/",
          "height": 450
        },
        "id": "_PIsN3AkpGDc",
        "outputId": "a6a43a67-13c6-4944-ac8d-ec0e1f818318"
      },
      "execution_count": null,
      "outputs": [
        {
          "output_type": "display_data",
          "data": {
            "text/plain": [
              "<Figure size 1200x800 with 1 Axes>"
            ],
            "image/png": "[encoded data removed]"
          },
          "metadata": {}
        }
      ]
    }
  ]
}
