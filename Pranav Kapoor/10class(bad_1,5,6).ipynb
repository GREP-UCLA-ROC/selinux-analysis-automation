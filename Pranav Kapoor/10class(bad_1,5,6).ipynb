{
  "nbformat": 4,
  "nbformat_minor": 0,
  "metadata": {
    "colab": {
      "provenance": []
    },
    "kernelspec": {
      "name": "python3",
      "display_name": "Python 3"
    },
    "language_info": {
      "name": "python"
    },
    "widgets": {
      "application/vnd.jupyter.widget-state+json": {
        "fe3fe5bb7c1a40f1a41847c74ff4f7db": {
          "model_module": "@jupyter-widgets/controls",
          "model_name": "HBoxModel",
          "model_module_version": "1.5.0",
          "state": {
            "_dom_classes": [],
            "_model_module": "@jupyter-widgets/controls",
            "_model_module_version": "1.5.0",
            "_model_name": "HBoxModel",
            "_view_count": null,
            "_view_module": "@jupyter-widgets/controls",
            "_view_module_version": "1.5.0",
            "_view_name": "HBoxView",
            "box_style": "",
            "children": [
              "IPY_MODEL_624fc67446744243becb4386e5188e0d",
              "IPY_MODEL_15ab6869cd204863b03a71d7d08cb891",
              "IPY_MODEL_5b5a0398ef49466ba213ea82e17aeb81"
            ],
            "layout": "IPY_MODEL_4739758584514df0a30c6855df8023a6"
          }
        },
        "624fc67446744243becb4386e5188e0d": {
          "model_module": "@jupyter-widgets/controls",
          "model_name": "HTMLModel",
          "model_module_version": "1.5.0",
          "state": {
            "_dom_classes": [],
            "_model_module": "@jupyter-widgets/controls",
            "_model_module_version": "1.5.0",
            "_model_name": "HTMLModel",
            "_view_count": null,
            "_view_module": "@jupyter-widgets/controls",
            "_view_module_version": "1.5.0",
            "_view_name": "HTMLView",
            "description": "",
            "description_tooltip": null,
            "layout": "IPY_MODEL_5e2c6ba8e87f4b6e9bac1f20443ce126",
            "placeholder": "​",
            "style": "IPY_MODEL_e14c7ac34da447d581e3665d53475e2f",
            "value": "Computing transition probabilities: 100%"
          }
        },
        "15ab6869cd204863b03a71d7d08cb891": {
          "model_module": "@jupyter-widgets/controls",
          "model_name": "FloatProgressModel",
          "model_module_version": "1.5.0",
          "state": {
            "_dom_classes": [],
            "_model_module": "@jupyter-widgets/controls",
            "_model_module_version": "1.5.0",
            "_model_name": "FloatProgressModel",
            "_view_count": null,
            "_view_module": "@jupyter-widgets/controls",
            "_view_module_version": "1.5.0",
            "_view_name": "ProgressView",
            "bar_style": "success",
            "description": "",
            "description_tooltip": null,
            "layout": "IPY_MODEL_739950c9be0d4c239885712b7b5db5ab",
            "max": 407,
            "min": 0,
            "orientation": "horizontal",
            "style": "IPY_MODEL_0f154f78c4f64781ae73b0d8636c1bd1",
            "value": 407
          }
        },
        "5b5a0398ef49466ba213ea82e17aeb81": {
          "model_module": "@jupyter-widgets/controls",
          "model_name": "HTMLModel",
          "model_module_version": "1.5.0",
          "state": {
            "_dom_classes": [],
            "_model_module": "@jupyter-widgets/controls",
            "_model_module_version": "1.5.0",
            "_model_name": "HTMLModel",
            "_view_count": null,
            "_view_module": "@jupyter-widgets/controls",
            "_view_module_version": "1.5.0",
            "_view_name": "HTMLView",
            "description": "",
            "description_tooltip": null,
            "layout": "IPY_MODEL_9c8cbf15ee854082bdde8cab2f66d274",
            "placeholder": "​",
            "style": "IPY_MODEL_07a28cc888ec43c5b2af14ea228d8691",
            "value": " 407/407 [00:00&lt;00:00, 1083.93it/s]"
          }
        },
        "4739758584514df0a30c6855df8023a6": {
          "model_module": "@jupyter-widgets/base",
          "model_name": "LayoutModel",
          "model_module_version": "1.2.0",
          "state": {
            "_model_module": "@jupyter-widgets/base",
            "_model_module_version": "1.2.0",
            "_model_name": "LayoutModel",
            "_view_count": null,
            "_view_module": "@jupyter-widgets/base",
            "_view_module_version": "1.2.0",
            "_view_name": "LayoutView",
            "align_content": null,
            "align_items": null,
            "align_self": null,
            "border": null,
            "bottom": null,
            "display": null,
            "flex": null,
            "flex_flow": null,
            "grid_area": null,
            "grid_auto_columns": null,
            "grid_auto_flow": null,
            "grid_auto_rows": null,
            "grid_column": null,
            "grid_gap": null,
            "grid_row": null,
            "grid_template_areas": null,
            "grid_template_columns": null,
            "grid_template_rows": null,
            "height": null,
            "justify_content": null,
            "justify_items": null,
            "left": null,
            "margin": null,
            "max_height": null,
            "max_width": null,
            "min_height": null,
            "min_width": null,
            "object_fit": null,
            "object_position": null,
            "order": null,
            "overflow": null,
            "overflow_x": null,
            "overflow_y": null,
            "padding": null,
            "right": null,
            "top": null,
            "visibility": null,
            "width": null
          }
        },
        "5e2c6ba8e87f4b6e9bac1f20443ce126": {
          "model_module": "@jupyter-widgets/base",
          "model_name": "LayoutModel",
          "model_module_version": "1.2.0",
          "state": {
            "_model_module": "@jupyter-widgets/base",
            "_model_module_version": "1.2.0",
            "_model_name": "LayoutModel",
            "_view_count": null,
            "_view_module": "@jupyter-widgets/base",
            "_view_module_version": "1.2.0",
            "_view_name": "LayoutView",
            "align_content": null,
            "align_items": null,
            "align_self": null,
            "border": null,
            "bottom": null,
            "display": null,
            "flex": null,
            "flex_flow": null,
            "grid_area": null,
            "grid_auto_columns": null,
            "grid_auto_flow": null,
            "grid_auto_rows": null,
            "grid_column": null,
            "grid_gap": null,
            "grid_row": null,
            "grid_template_areas": null,
            "grid_template_columns": null,
            "grid_template_rows": null,
            "height": null,
            "justify_content": null,
            "justify_items": null,
            "left": null,
            "margin": null,
            "max_height": null,
            "max_width": null,
            "min_height": null,
            "min_width": null,
            "object_fit": null,
            "object_position": null,
            "order": null,
            "overflow": null,
            "overflow_x": null,
            "overflow_y": null,
            "padding": null,
            "right": null,
            "top": null,
            "visibility": null,
            "width": null
          }
        },
        "e14c7ac34da447d581e3665d53475e2f": {
          "model_module": "@jupyter-widgets/controls",
          "model_name": "DescriptionStyleModel",
          "model_module_version": "1.5.0",
          "state": {
            "_model_module": "@jupyter-widgets/controls",
            "_model_module_version": "1.5.0",
            "_model_name": "DescriptionStyleModel",
            "_view_count": null,
            "_view_module": "@jupyter-widgets/base",
            "_view_module_version": "1.2.0",
            "_view_name": "StyleView",
            "description_width": ""
          }
        },
        "739950c9be0d4c239885712b7b5db5ab": {
          "model_module": "@jupyter-widgets/base",
          "model_name": "LayoutModel",
          "model_module_version": "1.2.0",
          "state": {
            "_model_module": "@jupyter-widgets/base",
            "_model_module_version": "1.2.0",
            "_model_name": "LayoutModel",
            "_view_count": null,
            "_view_module": "@jupyter-widgets/base",
            "_view_module_version": "1.2.0",
            "_view_name": "LayoutView",
            "align_content": null,
            "align_items": null,
            "align_self": null,
            "border": null,
            "bottom": null,
            "display": null,
            "flex": null,
            "flex_flow": null,
            "grid_area": null,
            "grid_auto_columns": null,
            "grid_auto_flow": null,
            "grid_auto_rows": null,
            "grid_column": null,
            "grid_gap": null,
            "grid_row": null,
            "grid_template_areas": null,
            "grid_template_columns": null,
            "grid_template_rows": null,
            "height": null,
            "justify_content": null,
            "justify_items": null,
            "left": null,
            "margin": null,
            "max_height": null,
            "max_width": null,
            "min_height": null,
            "min_width": null,
            "object_fit": null,
            "object_position": null,
            "order": null,
            "overflow": null,
            "overflow_x": null,
            "overflow_y": null,
            "padding": null,
            "right": null,
            "top": null,
            "visibility": null,
            "width": null
          }
        },
        "0f154f78c4f64781ae73b0d8636c1bd1": {
          "model_module": "@jupyter-widgets/controls",
          "model_name": "ProgressStyleModel",
          "model_module_version": "1.5.0",
          "state": {
            "_model_module": "@jupyter-widgets/controls",
            "_model_module_version": "1.5.0",
            "_model_name": "ProgressStyleModel",
            "_view_count": null,
            "_view_module": "@jupyter-widgets/base",
            "_view_module_version": "1.2.0",
            "_view_name": "StyleView",
            "bar_color": null,
            "description_width": ""
          }
        },
        "9c8cbf15ee854082bdde8cab2f66d274": {
          "model_module": "@jupyter-widgets/base",
          "model_name": "LayoutModel",
          "model_module_version": "1.2.0",
          "state": {
            "_model_module": "@jupyter-widgets/base",
            "_model_module_version": "1.2.0",
            "_model_name": "LayoutModel",
            "_view_count": null,
            "_view_module": "@jupyter-widgets/base",
            "_view_module_version": "1.2.0",
            "_view_name": "LayoutView",
            "align_content": null,
            "align_items": null,
            "align_self": null,
            "border": null,
            "bottom": null,
            "display": null,
            "flex": null,
            "flex_flow": null,
            "grid_area": null,
            "grid_auto_columns": null,
            "grid_auto_flow": null,
            "grid_auto_rows": null,
            "grid_column": null,
            "grid_gap": null,
            "grid_row": null,
            "grid_template_areas": null,
            "grid_template_columns": null,
            "grid_template_rows": null,
            "height": null,
            "justify_content": null,
            "justify_items": null,
            "left": null,
            "margin": null,
            "max_height": null,
            "max_width": null,
            "min_height": null,
            "min_width": null,
            "object_fit": null,
            "object_position": null,
            "order": null,
            "overflow": null,
            "overflow_x": null,
            "overflow_y": null,
            "padding": null,
            "right": null,
            "top": null,
            "visibility": null,
            "width": null
          }
        },
        "07a28cc888ec43c5b2af14ea228d8691": {
          "model_module": "@jupyter-widgets/controls",
          "model_name": "DescriptionStyleModel",
          "model_module_version": "1.5.0",
          "state": {
            "_model_module": "@jupyter-widgets/controls",
            "_model_module_version": "1.5.0",
            "_model_name": "DescriptionStyleModel",
            "_view_count": null,
            "_view_module": "@jupyter-widgets/base",
            "_view_module_version": "1.2.0",
            "_view_name": "StyleView",
            "description_width": ""
          }
        },
        "282e989f809b4d90be81a2eb9e5289e6": {
          "model_module": "@jupyter-widgets/controls",
          "model_name": "HBoxModel",
          "model_module_version": "1.5.0",
          "state": {
            "_dom_classes": [],
            "_model_module": "@jupyter-widgets/controls",
            "_model_module_version": "1.5.0",
            "_model_name": "HBoxModel",
            "_view_count": null,
            "_view_module": "@jupyter-widgets/controls",
            "_view_module_version": "1.5.0",
            "_view_name": "HBoxView",
            "box_style": "",
            "children": [
              "IPY_MODEL_4f6003067d744adba8df899794743b7e",
              "IPY_MODEL_55385b061b3e4f3dad52e50638da9178",
              "IPY_MODEL_8363e187688649789dad3e735482c5c7"
            ],
            "layout": "IPY_MODEL_97413d64eb2941e0bd93964e104e36c0"
          }
        },
        "4f6003067d744adba8df899794743b7e": {
          "model_module": "@jupyter-widgets/controls",
          "model_name": "HTMLModel",
          "model_module_version": "1.5.0",
          "state": {
            "_dom_classes": [],
            "_model_module": "@jupyter-widgets/controls",
            "_model_module_version": "1.5.0",
            "_model_name": "HTMLModel",
            "_view_count": null,
            "_view_module": "@jupyter-widgets/controls",
            "_view_module_version": "1.5.0",
            "_view_name": "HTMLView",
            "description": "",
            "description_tooltip": null,
            "layout": "IPY_MODEL_ffc5032bee6e426b862887e7147404f3",
            "placeholder": "​",
            "style": "IPY_MODEL_90962fb74f2b4edcb034a9b5bc1d3bd5",
            "value": "Computing transition probabilities: 100%"
          }
        },
        "55385b061b3e4f3dad52e50638da9178": {
          "model_module": "@jupyter-widgets/controls",
          "model_name": "FloatProgressModel",
          "model_module_version": "1.5.0",
          "state": {
            "_dom_classes": [],
            "_model_module": "@jupyter-widgets/controls",
            "_model_module_version": "1.5.0",
            "_model_name": "FloatProgressModel",
            "_view_count": null,
            "_view_module": "@jupyter-widgets/controls",
            "_view_module_version": "1.5.0",
            "_view_name": "ProgressView",
            "bar_style": "success",
            "description": "",
            "description_tooltip": null,
            "layout": "IPY_MODEL_4a602f5abbcb43e484eb3d4fc1fcb644",
            "max": 407,
            "min": 0,
            "orientation": "horizontal",
            "style": "IPY_MODEL_a1bcd81eabb64adea33a5080fc3f1bfd",
            "value": 407
          }
        },
        "8363e187688649789dad3e735482c5c7": {
          "model_module": "@jupyter-widgets/controls",
          "model_name": "HTMLModel",
          "model_module_version": "1.5.0",
          "state": {
            "_dom_classes": [],
            "_model_module": "@jupyter-widgets/controls",
            "_model_module_version": "1.5.0",
            "_model_name": "HTMLModel",
            "_view_count": null,
            "_view_module": "@jupyter-widgets/controls",
            "_view_module_version": "1.5.0",
            "_view_name": "HTMLView",
            "description": "",
            "description_tooltip": null,
            "layout": "IPY_MODEL_a4c7f6209d0945f8a3366dfa481175c7",
            "placeholder": "​",
            "style": "IPY_MODEL_f6ca22be168b4d368e10f9f6963bf613",
            "value": " 407/407 [00:00&lt;00:00, 1923.59it/s]"
          }
        },
        "97413d64eb2941e0bd93964e104e36c0": {
          "model_module": "@jupyter-widgets/base",
          "model_name": "LayoutModel",
          "model_module_version": "1.2.0",
          "state": {
            "_model_module": "@jupyter-widgets/base",
            "_model_module_version": "1.2.0",
            "_model_name": "LayoutModel",
            "_view_count": null,
            "_view_module": "@jupyter-widgets/base",
            "_view_module_version": "1.2.0",
            "_view_name": "LayoutView",
            "align_content": null,
            "align_items": null,
            "align_self": null,
            "border": null,
            "bottom": null,
            "display": null,
            "flex": null,
            "flex_flow": null,
            "grid_area": null,
            "grid_auto_columns": null,
            "grid_auto_flow": null,
            "grid_auto_rows": null,
            "grid_column": null,
            "grid_gap": null,
            "grid_row": null,
            "grid_template_areas": null,
            "grid_template_columns": null,
            "grid_template_rows": null,
            "height": null,
            "justify_content": null,
            "justify_items": null,
            "left": null,
            "margin": null,
            "max_height": null,
            "max_width": null,
            "min_height": null,
            "min_width": null,
            "object_fit": null,
            "object_position": null,
            "order": null,
            "overflow": null,
            "overflow_x": null,
            "overflow_y": null,
            "padding": null,
            "right": null,
            "top": null,
            "visibility": null,
            "width": null
          }
        },
        "ffc5032bee6e426b862887e7147404f3": {
          "model_module": "@jupyter-widgets/base",
          "model_name": "LayoutModel",
          "model_module_version": "1.2.0",
          "state": {
            "_model_module": "@jupyter-widgets/base",
            "_model_module_version": "1.2.0",
            "_model_name": "LayoutModel",
            "_view_count": null,
            "_view_module": "@jupyter-widgets/base",
            "_view_module_version": "1.2.0",
            "_view_name": "LayoutView",
            "align_content": null,
            "align_items": null,
            "align_self": null,
            "border": null,
            "bottom": null,
            "display": null,
            "flex": null,
            "flex_flow": null,
            "grid_area": null,
            "grid_auto_columns": null,
            "grid_auto_flow": null,
            "grid_auto_rows": null,
            "grid_column": null,
            "grid_gap": null,
            "grid_row": null,
            "grid_template_areas": null,
            "grid_template_columns": null,
            "grid_template_rows": null,
            "height": null,
            "justify_content": null,
            "justify_items": null,
            "left": null,
            "margin": null,
            "max_height": null,
            "max_width": null,
            "min_height": null,
            "min_width": null,
            "object_fit": null,
            "object_position": null,
            "order": null,
            "overflow": null,
            "overflow_x": null,
            "overflow_y": null,
            "padding": null,
            "right": null,
            "top": null,
            "visibility": null,
            "width": null
          }
        },
        "90962fb74f2b4edcb034a9b5bc1d3bd5": {
          "model_module": "@jupyter-widgets/controls",
          "model_name": "DescriptionStyleModel",
          "model_module_version": "1.5.0",
          "state": {
            "_model_module": "@jupyter-widgets/controls",
            "_model_module_version": "1.5.0",
            "_model_name": "DescriptionStyleModel",
            "_view_count": null,
            "_view_module": "@jupyter-widgets/base",
            "_view_module_version": "1.2.0",
            "_view_name": "StyleView",
            "description_width": ""
          }
        },
        "4a602f5abbcb43e484eb3d4fc1fcb644": {
          "model_module": "@jupyter-widgets/base",
          "model_name": "LayoutModel",
          "model_module_version": "1.2.0",
          "state": {
            "_model_module": "@jupyter-widgets/base",
            "_model_module_version": "1.2.0",
            "_model_name": "LayoutModel",
            "_view_count": null,
            "_view_module": "@jupyter-widgets/base",
            "_view_module_version": "1.2.0",
            "_view_name": "LayoutView",
            "align_content": null,
            "align_items": null,
            "align_self": null,
            "border": null,
            "bottom": null,
            "display": null,
            "flex": null,
            "flex_flow": null,
            "grid_area": null,
            "grid_auto_columns": null,
            "grid_auto_flow": null,
            "grid_auto_rows": null,
            "grid_column": null,
            "grid_gap": null,
            "grid_row": null,
            "grid_template_areas": null,
            "grid_template_columns": null,
            "grid_template_rows": null,
            "height": null,
            "justify_content": null,
            "justify_items": null,
            "left": null,
            "margin": null,
            "max_height": null,
            "max_width": null,
            "min_height": null,
            "min_width": null,
            "object_fit": null,
            "object_position": null,
            "order": null,
            "overflow": null,
            "overflow_x": null,
            "overflow_y": null,
            "padding": null,
            "right": null,
            "top": null,
            "visibility": null,
            "width": null
          }
        },
        "a1bcd81eabb64adea33a5080fc3f1bfd": {
          "model_module": "@jupyter-widgets/controls",
          "model_name": "ProgressStyleModel",
          "model_module_version": "1.5.0",
          "state": {
            "_model_module": "@jupyter-widgets/controls",
            "_model_module_version": "1.5.0",
            "_model_name": "ProgressStyleModel",
            "_view_count": null,
            "_view_module": "@jupyter-widgets/base",
            "_view_module_version": "1.2.0",
            "_view_name": "StyleView",
            "bar_color": null,
            "description_width": ""
          }
        },
        "a4c7f6209d0945f8a3366dfa481175c7": {
          "model_module": "@jupyter-widgets/base",
          "model_name": "LayoutModel",
          "model_module_version": "1.2.0",
          "state": {
            "_model_module": "@jupyter-widgets/base",
            "_model_module_version": "1.2.0",
            "_model_name": "LayoutModel",
            "_view_count": null,
            "_view_module": "@jupyter-widgets/base",
            "_view_module_version": "1.2.0",
            "_view_name": "LayoutView",
            "align_content": null,
            "align_items": null,
            "align_self": null,
            "border": null,
            "bottom": null,
            "display": null,
            "flex": null,
            "flex_flow": null,
            "grid_area": null,
            "grid_auto_columns": null,
            "grid_auto_flow": null,
            "grid_auto_rows": null,
            "grid_column": null,
            "grid_gap": null,
            "grid_row": null,
            "grid_template_areas": null,
            "grid_template_columns": null,
            "grid_template_rows": null,
            "height": null,
            "justify_content": null,
            "justify_items": null,
            "left": null,
            "margin": null,
            "max_height": null,
            "max_width": null,
            "min_height": null,
            "min_width": null,
            "object_fit": null,
            "object_position": null,
            "order": null,
            "overflow": null,
            "overflow_x": null,
            "overflow_y": null,
            "padding": null,
            "right": null,
            "top": null,
            "visibility": null,
            "width": null
          }
        },
        "f6ca22be168b4d368e10f9f6963bf613": {
          "model_module": "@jupyter-widgets/controls",
          "model_name": "DescriptionStyleModel",
          "model_module_version": "1.5.0",
          "state": {
            "_model_module": "@jupyter-widgets/controls",
            "_model_module_version": "1.5.0",
            "_model_name": "DescriptionStyleModel",
            "_view_count": null,
            "_view_module": "@jupyter-widgets/base",
            "_view_module_version": "1.2.0",
            "_view_name": "StyleView",
            "description_width": ""
          }
        }
      }
    }
  },
  "cells": [
    {
      "cell_type": "code",
      "source": [
        "# Violation classes:\n",
        "# 0: No anomalies\n",
        "# 1: Separation of Duty (SoD) violation\n",
        "# 2: Overly permissive access\n",
        "# 3: Improper privilege assignment\n",
        "# 4: Critical system file modification\n",
        "# 5: Contradictory rules\n",
        "# 6: Missing necessary rules\n",
        "# 7: Incorrect type usage\n",
        "# 8: Domain transition issues\n",
        "# 9: Mislabeled files or processes\n",
        "# 10: Unauthorized network access"
      ],
      "metadata": {
        "id": "CxksYU2CWmOh"
      },
      "execution_count": null,
      "outputs": []
    },
    {
      "cell_type": "code",
      "execution_count": null,
      "metadata": {
        "colab": {
          "base_uri": "https://localhost:8080/"
        },
        "id": "H34PqzzERmhg",
        "outputId": "7596176e-f04c-412f-996b-d3eb297fd3e1"
      },
      "outputs": [
        {
          "output_type": "stream",
          "name": "stdout",
          "text": [
            "Requirement already satisfied: networkx in /usr/local/lib/python3.10/dist-packages (3.3)\n",
            "Requirement already satisfied: node2vec in /usr/local/lib/python3.10/dist-packages (0.5.0)\n",
            "Requirement already satisfied: scikit-learn in /usr/local/lib/python3.10/dist-packages (1.3.2)\n",
            "Requirement already satisfied: pandas in /usr/local/lib/python3.10/dist-packages (2.1.4)\n",
            "Requirement already satisfied: gensim<5.0.0,>=4.3.0 in /usr/local/lib/python3.10/dist-packages (from node2vec) (4.3.3)\n",
            "Requirement already satisfied: joblib<2.0.0,>=1.4.0 in /usr/local/lib/python3.10/dist-packages (from node2vec) (1.4.2)\n",
            "Requirement already satisfied: numpy<2.0.0,>=1.24.0 in /usr/local/lib/python3.10/dist-packages (from node2vec) (1.26.4)\n",
            "Requirement already satisfied: tqdm<5.0.0,>=4.66.1 in /usr/local/lib/python3.10/dist-packages (from node2vec) (4.66.5)\n",
            "Requirement already satisfied: scipy>=1.5.0 in /usr/local/lib/python3.10/dist-packages (from scikit-learn) (1.13.1)\n",
            "Requirement already satisfied: threadpoolctl>=2.0.0 in /usr/local/lib/python3.10/dist-packages (from scikit-learn) (3.5.0)\n",
            "Requirement already satisfied: python-dateutil>=2.8.2 in /usr/local/lib/python3.10/dist-packages (from pandas) (2.8.2)\n",
            "Requirement already satisfied: pytz>=2020.1 in /usr/local/lib/python3.10/dist-packages (from pandas) (2024.1)\n",
            "Requirement already satisfied: tzdata>=2022.1 in /usr/local/lib/python3.10/dist-packages (from pandas) (2024.1)\n",
            "Requirement already satisfied: smart-open>=1.8.1 in /usr/local/lib/python3.10/dist-packages (from gensim<5.0.0,>=4.3.0->node2vec) (7.0.4)\n",
            "Requirement already satisfied: six>=1.5 in /usr/local/lib/python3.10/dist-packages (from python-dateutil>=2.8.2->pandas) (1.16.0)\n",
            "Requirement already satisfied: wrapt in /usr/local/lib/python3.10/dist-packages (from smart-open>=1.8.1->gensim<5.0.0,>=4.3.0->node2vec) (1.16.0)\n"
          ]
        }
      ],
      "source": [
        "!pip install networkx node2vec scikit-learn pandas"
      ]
    },
    {
      "cell_type": "code",
      "source": [
        "import pandas as pd\n",
        "import networkx as nx\n",
        "from node2vec import Node2Vec\n",
        "from sklearn.model_selection import train_test_split\n",
        "from sklearn.ensemble import RandomForestClassifier\n",
        "from sklearn.svm import SVC\n",
        "from sklearn.neural_network import MLPClassifier\n",
        "from sklearn.metrics import classification_report, confusion_matrix"
      ],
      "metadata": {
        "id": "wGExxed9SJlU"
      },
      "execution_count": null,
      "outputs": []
    },
    {
      "cell_type": "code",
      "source": [
        "# Load the data\n",
        "objectclass_df = pd.read_csv('/content/Data/objectclass.csv')\n",
        "attributes_df = pd.read_csv('/content/Data/attributes.csv')\n",
        "violations_df = pd.read_csv('/content/Data/rules_separated_permissions.csv')"
      ],
      "metadata": {
        "id": "3KmQe27CSseu"
      },
      "execution_count": null,
      "outputs": []
    },
    {
      "cell_type": "code",
      "source": [
        "# Create a graph\n",
        "G = nx.Graph()\n",
        "\n",
        "# Add nodes and edges from attributes and object classes\n",
        "for index, row in attributes_df.iterrows():\n",
        "    attribute = row['attribute']\n",
        "    types = row['types'].split(',')\n",
        "    for t in types:\n",
        "        G.add_node(t, type=attribute)\n",
        "        G.add_edge(attribute, t)\n",
        "\n",
        "for index, row in objectclass_df.iterrows():\n",
        "    object_class = row['object_class']\n",
        "    permissions = row['permissions'].split(',')\n",
        "    for perm in permissions:\n",
        "        G.add_node(perm, type='permission')\n",
        "        G.add_edge(object_class, perm)\n"
      ],
      "metadata": {
        "id": "_2SMWoFeTp9t"
      },
      "execution_count": null,
      "outputs": []
    },
    {
      "cell_type": "code",
      "source": [
        "# Add nodes and edges for violations\n",
        "for index, row in violations_df.iterrows():\n",
        "    source = row['source_type']\n",
        "    target = row['target_type']\n",
        "    obj_class = row['object_class']\n",
        "    perms = row['permissions'].split(',')\n",
        "\n",
        "    # Add nodes for source, target, and object class\n",
        "    G.add_node(source, type='source_type')\n",
        "    G.add_node(target, type='target_type')\n",
        "    G.add_node(obj_class, type='object_class')\n",
        "\n",
        "    # Add edges between source, target, object class, and permissions\n",
        "    G.add_edge(source, target)\n",
        "    G.add_edge(source, obj_class)\n",
        "    for perm in perms:\n",
        "        G.add_edge(obj_class, perm)\n"
      ],
      "metadata": {
        "id": "xOpyLyZnTqeo"
      },
      "execution_count": null,
      "outputs": []
    },
    {
      "cell_type": "code",
      "source": [
        "# Generate node embeddings using Node2Vec\n",
        "node2vec = Node2Vec(G, dimensions=64, walk_length=15, num_walks=200, workers=2)\n",
        "model = node2vec.fit(window=5, min_count=1, batch_words=4)\n"
      ],
      "metadata": {
        "colab": {
          "base_uri": "https://localhost:8080/",
          "height": 49,
          "referenced_widgets": [
            "fe3fe5bb7c1a40f1a41847c74ff4f7db",
            "624fc67446744243becb4386e5188e0d",
            "15ab6869cd204863b03a71d7d08cb891",
            "5b5a0398ef49466ba213ea82e17aeb81",
            "4739758584514df0a30c6855df8023a6",
            "5e2c6ba8e87f4b6e9bac1f20443ce126",
            "e14c7ac34da447d581e3665d53475e2f",
            "739950c9be0d4c239885712b7b5db5ab",
            "0f154f78c4f64781ae73b0d8636c1bd1",
            "9c8cbf15ee854082bdde8cab2f66d274",
            "07a28cc888ec43c5b2af14ea228d8691"
          ]
        },
        "id": "qXfmfYRCTr57",
        "outputId": "bb46c44f-ca1e-4356-9bf9-799aa6e9d15d"
      },
      "execution_count": null,
      "outputs": [
        {
          "output_type": "display_data",
          "data": {
            "text/plain": [
              "Computing transition probabilities:   0%|          | 0/407 [00:00<?, ?it/s]"
            ],
            "application/vnd.jupyter.widget-view+json": {
              "version_major": 2,
              "version_minor": 0,
              "model_id": "fe3fe5bb7c1a40f1a41847c74ff4f7db"
            }
          },
          "metadata": {}
        }
      ]
    },
    {
      "cell_type": "code",
      "source": [
        "# Create embeddings for the source, target, and object classes\n",
        "def get_embedding(row):\n",
        "    source_emb = model.wv[row['source_type']]\n",
        "    target_emb = model.wv[row['target_type']]\n",
        "    obj_class_emb = model.wv[row['object_class']]\n",
        "    return (source_emb + target_emb + obj_class_emb) / 3\n",
        "\n",
        "violations_df['embedding'] = violations_df.apply(get_embedding, axis=1)\n"
      ],
      "metadata": {
        "id": "Ly3hHTknTtZG"
      },
      "execution_count": null,
      "outputs": []
    },
    {
      "cell_type": "code",
      "source": [
        "# Prepare data for classification\n",
        "X = list(violations_df['embedding'])\n",
        "y = violations_df['violation_class'].astype(int)\n"
      ],
      "metadata": {
        "id": "6qA3uQ-yUCWg"
      },
      "execution_count": null,
      "outputs": []
    },
    {
      "cell_type": "code",
      "source": [
        "# Split data into train and test sets\n",
        "X_train, X_test, y_train, y_test = train_test_split(X, y, test_size=0.3, random_state=42)\n",
        "\n",
        "# Initialize and train the models\n",
        "rf_clf = RandomForestClassifier(n_estimators=200, random_state=42)\n",
        "svm_clf = SVC(kernel='rbf', gamma='scale', random_state=42)\n",
        "mlp_clf = MLPClassifier(hidden_layer_sizes=(64, 32, 16), max_iter=500, random_state=42)\n"
      ],
      "metadata": {
        "id": "UZNr9m6AUDbh"
      },
      "execution_count": null,
      "outputs": []
    },
    {
      "cell_type": "code",
      "source": [
        "# Train the classifiers\n",
        "rf_clf.fit(X_train, y_train)\n",
        "svm_clf.fit(X_train, y_train)\n",
        "mlp_clf.fit(X_train, y_train)\n",
        "\n",
        "# Make predictions\n",
        "y_pred_rf = rf_clf.predict(X_test)\n",
        "y_pred_svm = svm_clf.predict(X_test)\n",
        "y_pred_mlp = mlp_clf.predict(X_test)"
      ],
      "metadata": {
        "id": "LjsNCH4KUExh"
      },
      "execution_count": null,
      "outputs": []
    },
    {
      "cell_type": "code",
      "source": [
        "# Evaluate the models\n",
        "def evaluate_model(y_true, y_pred, model_name):\n",
        "    print(f\"{model_name} Evaluation:\")\n",
        "    print(classification_report(y_true, y_pred))\n",
        "    print(\"Confusion Matrix:\")\n",
        "    print(confusion_matrix(y_true, y_pred))\n",
        "    print(\"\\n\")\n",
        "\n",
        "evaluate_model(y_test, y_pred_rf, \"Random Forest\")\n",
        "evaluate_model(y_test, y_pred_svm, \"SVM\")\n",
        "evaluate_model(y_test, y_pred_mlp, \"MLP Neural Network\")"
      ],
      "metadata": {
        "colab": {
          "base_uri": "https://localhost:8080/"
        },
        "id": "0sKj61jQUGkx",
        "outputId": "afc27f47-e12f-4698-9e3a-f7125c17513a"
      },
      "execution_count": null,
      "outputs": [
        {
          "output_type": "stream",
          "name": "stdout",
          "text": [
            "Random Forest Evaluation:\n",
            "              precision    recall  f1-score   support\n",
            "\n",
            "           0       0.85      0.78      0.82       125\n",
            "           1       0.63      0.71      0.67        34\n",
            "           2       0.95      1.00      0.98        83\n",
            "           3       1.00      0.97      0.99        40\n",
            "           4       1.00      0.88      0.93        24\n",
            "           5       0.32      0.73      0.44        11\n",
            "           6       0.00      0.00      0.00         7\n",
            "           7       1.00      0.86      0.92        14\n",
            "           8       1.00      1.00      1.00        19\n",
            "           9       1.00      0.70      0.82        10\n",
            "          10       1.00      0.88      0.93         8\n",
            "\n",
            "    accuracy                           0.85       375\n",
            "   macro avg       0.80      0.77      0.77       375\n",
            "weighted avg       0.87      0.85      0.85       375\n",
            "\n",
            "Confusion Matrix:\n",
            "[[98 12  0  0  0 12  3  0  0  0  0]\n",
            " [ 8 24  2  0  0  0  0  0  0  0  0]\n",
            " [ 0  0 83  0  0  0  0  0  0  0  0]\n",
            " [ 1  0  0 39  0  0  0  0  0  0  0]\n",
            " [ 1  0  2  0 21  0  0  0  0  0  0]\n",
            " [ 1  0  0  0  0  8  2  0  0  0  0]\n",
            " [ 2  0  0  0  0  5  0  0  0  0  0]\n",
            " [ 0  2  0  0  0  0  0 12  0  0  0]\n",
            " [ 0  0  0  0  0  0  0  0 19  0  0]\n",
            " [ 3  0  0  0  0  0  0  0  0  7  0]\n",
            " [ 1  0  0  0  0  0  0  0  0  0  7]]\n",
            "\n",
            "\n",
            "SVM Evaluation:\n",
            "              precision    recall  f1-score   support\n",
            "\n",
            "           0       0.65      0.82      0.73       125\n",
            "           1       0.36      0.53      0.43        34\n",
            "           2       1.00      0.84      0.92        83\n",
            "           3       1.00      0.97      0.99        40\n",
            "           4       0.74      0.96      0.84        24\n",
            "           5       0.00      0.00      0.00        11\n",
            "           6       0.00      0.00      0.00         7\n",
            "           7       0.00      0.00      0.00        14\n",
            "           8       1.00      1.00      1.00        19\n",
            "           9       0.00      0.00      0.00        10\n",
            "          10       0.00      0.00      0.00         8\n",
            "\n",
            "    accuracy                           0.73       375\n",
            "   macro avg       0.43      0.47      0.45       375\n",
            "weighted avg       0.68      0.73      0.69       375\n",
            "\n",
            "Confusion Matrix:\n",
            "[[103  16   0   0   2   0   0   0   0   0   4]\n",
            " [ 16  18   0   0   0   0   0   0   0   0   0]\n",
            " [  1   6  70   0   6   0   0   0   0   0   0]\n",
            " [  0   1   0  39   0   0   0   0   0   0   0]\n",
            " [  1   0   0   0  23   0   0   0   0   0   0]\n",
            " [  7   0   0   0   0   0   0   0   0   0   4]\n",
            " [  7   0   0   0   0   0   0   0   0   0   0]\n",
            " [  7   7   0   0   0   0   0   0   0   0   0]\n",
            " [  0   0   0   0   0   0   0   0  19   0   0]\n",
            " [  8   2   0   0   0   0   0   0   0   0   0]\n",
            " [  8   0   0   0   0   0   0   0   0   0   0]]\n",
            "\n",
            "\n",
            "MLP Neural Network Evaluation:\n",
            "              precision    recall  f1-score   support\n",
            "\n",
            "           0       0.85      0.77      0.81       125\n",
            "           1       0.56      0.79      0.66        34\n",
            "           2       0.97      0.93      0.95        83\n",
            "           3       1.00      0.97      0.99        40\n",
            "           4       1.00      0.92      0.96        24\n",
            "           5       0.31      0.73      0.43        11\n",
            "           6       0.00      0.00      0.00         7\n",
            "           7       0.92      0.86      0.89        14\n",
            "           8       1.00      1.00      1.00        19\n",
            "           9       1.00      0.30      0.46        10\n",
            "          10       1.00      0.88      0.93         8\n",
            "\n",
            "    accuracy                           0.83       375\n",
            "   macro avg       0.78      0.74      0.73       375\n",
            "weighted avg       0.86      0.83      0.83       375\n",
            "\n",
            "Confusion Matrix:\n",
            "[[96 13  0  0  0 12  4  0  0  0  0]\n",
            " [ 7 27  0  0  0  0  0  0  0  0  0]\n",
            " [ 0  6 77  0  0  0  0  0  0  0  0]\n",
            " [ 0  0  0 39  0  0  0  1  0  0  0]\n",
            " [ 0  0  2  0 22  0  0  0  0  0  0]\n",
            " [ 1  0  0  0  0  8  2  0  0  0  0]\n",
            " [ 2  0  0  0  0  5  0  0  0  0  0]\n",
            " [ 0  2  0  0  0  0  0 12  0  0  0]\n",
            " [ 0  0  0  0  0  0  0  0 19  0  0]\n",
            " [ 7  0  0  0  0  0  0  0  0  3  0]\n",
            " [ 0  0  0  0  0  1  0  0  0  0  7]]\n",
            "\n",
            "\n"
          ]
        },
        {
          "output_type": "stream",
          "name": "stderr",
          "text": [
            "/usr/local/lib/python3.10/dist-packages/sklearn/metrics/_classification.py:1471: UndefinedMetricWarning: Precision and F-score are ill-defined and being set to 0.0 in labels with no predicted samples. Use `zero_division` parameter to control this behavior.\n",
            "  _warn_prf(average, modifier, msg_start, len(result))\n",
            "/usr/local/lib/python3.10/dist-packages/sklearn/metrics/_classification.py:1471: UndefinedMetricWarning: Precision and F-score are ill-defined and being set to 0.0 in labels with no predicted samples. Use `zero_division` parameter to control this behavior.\n",
            "  _warn_prf(average, modifier, msg_start, len(result))\n",
            "/usr/local/lib/python3.10/dist-packages/sklearn/metrics/_classification.py:1471: UndefinedMetricWarning: Precision and F-score are ill-defined and being set to 0.0 in labels with no predicted samples. Use `zero_division` parameter to control this behavior.\n",
            "  _warn_prf(average, modifier, msg_start, len(result))\n"
          ]
        }
      ]
    },
    {
      "cell_type": "code",
      "source": [
        "!pip install dask[dataframe]"
      ],
      "metadata": {
        "colab": {
          "base_uri": "https://localhost:8080/"
        },
        "id": "eSjJxc6PYqqB",
        "outputId": "87aa1099-e113-42e6-ece3-59d986ff39e4"
      },
      "execution_count": null,
      "outputs": [
        {
          "output_type": "stream",
          "name": "stdout",
          "text": [
            "Requirement already satisfied: dask[dataframe] in /usr/local/lib/python3.10/dist-packages (2024.7.1)\n",
            "Requirement already satisfied: click>=8.1 in /usr/local/lib/python3.10/dist-packages (from dask[dataframe]) (8.1.7)\n",
            "Requirement already satisfied: cloudpickle>=1.5.0 in /usr/local/lib/python3.10/dist-packages (from dask[dataframe]) (2.2.1)\n",
            "Requirement already satisfied: fsspec>=2021.09.0 in /usr/local/lib/python3.10/dist-packages (from dask[dataframe]) (2024.6.1)\n",
            "Requirement already satisfied: packaging>=20.0 in /usr/local/lib/python3.10/dist-packages (from dask[dataframe]) (24.1)\n",
            "Requirement already satisfied: partd>=1.4.0 in /usr/local/lib/python3.10/dist-packages (from dask[dataframe]) (1.4.2)\n",
            "Requirement already satisfied: pyyaml>=5.3.1 in /usr/local/lib/python3.10/dist-packages (from dask[dataframe]) (6.0.2)\n",
            "Requirement already satisfied: toolz>=0.10.0 in /usr/local/lib/python3.10/dist-packages (from dask[dataframe]) (0.12.1)\n",
            "Requirement already satisfied: importlib-metadata>=4.13.0 in /usr/local/lib/python3.10/dist-packages (from dask[dataframe]) (8.2.0)\n",
            "Requirement already satisfied: pandas>=2.0 in /usr/local/lib/python3.10/dist-packages (from dask[dataframe]) (2.1.4)\n",
            "Collecting dask-expr<1.2,>=1.1 (from dask[dataframe])\n",
            "  Downloading dask_expr-1.1.11-py3-none-any.whl.metadata (2.5 kB)\n",
            "INFO: pip is looking at multiple versions of dask-expr to determine which version is compatible with other requirements. This could take a while.\n",
            "  Downloading dask_expr-1.1.10-py3-none-any.whl.metadata (2.5 kB)\n",
            "  Downloading dask_expr-1.1.9-py3-none-any.whl.metadata (2.5 kB)\n",
            "Requirement already satisfied: pyarrow>=7.0.0 in /usr/local/lib/python3.10/dist-packages (from dask-expr<1.2,>=1.1->dask[dataframe]) (14.0.2)\n",
            "Requirement already satisfied: zipp>=0.5 in /usr/local/lib/python3.10/dist-packages (from importlib-metadata>=4.13.0->dask[dataframe]) (3.20.0)\n",
            "Requirement already satisfied: numpy<2,>=1.22.4 in /usr/local/lib/python3.10/dist-packages (from pandas>=2.0->dask[dataframe]) (1.26.4)\n",
            "Requirement already satisfied: python-dateutil>=2.8.2 in /usr/local/lib/python3.10/dist-packages (from pandas>=2.0->dask[dataframe]) (2.8.2)\n",
            "Requirement already satisfied: pytz>=2020.1 in /usr/local/lib/python3.10/dist-packages (from pandas>=2.0->dask[dataframe]) (2024.1)\n",
            "Requirement already satisfied: tzdata>=2022.1 in /usr/local/lib/python3.10/dist-packages (from pandas>=2.0->dask[dataframe]) (2024.1)\n",
            "Requirement already satisfied: locket in /usr/local/lib/python3.10/dist-packages (from partd>=1.4.0->dask[dataframe]) (1.0.0)\n",
            "Requirement already satisfied: six>=1.5 in /usr/local/lib/python3.10/dist-packages (from python-dateutil>=2.8.2->pandas>=2.0->dask[dataframe]) (1.16.0)\n",
            "Downloading dask_expr-1.1.9-py3-none-any.whl (241 kB)\n",
            "\u001b[2K   \u001b[90m━━━━━━━━━━━━━━━━━━━━━━━━━━━━━━━━━━━━━━━━\u001b[0m \u001b[32m241.9/241.9 kB\u001b[0m \u001b[31m3.7 MB/s\u001b[0m eta \u001b[36m0:00:00\u001b[0m\n",
            "\u001b[?25hInstalling collected packages: dask-expr\n",
            "Successfully installed dask-expr-1.1.9\n"
          ]
        }
      ]
    },
    {
      "cell_type": "code",
      "source": [
        "import pandas as pd\n",
        "import numpy as np\n",
        "import networkx as nx\n",
        "from node2vec import Node2Vec\n",
        "from sklearn.model_selection import train_test_split, cross_val_score, GridSearchCV\n",
        "from sklearn.ensemble import RandomForestClassifier, GradientBoostingClassifier\n",
        "from sklearn.svm import SVC\n",
        "from sklearn.neural_network import MLPClassifier\n",
        "from sklearn.metrics import classification_report, confusion_matrix\n",
        "from sklearn.ensemble import StackingClassifier\n",
        "from xgboost import XGBClassifier"
      ],
      "metadata": {
        "id": "Zh727-eZVJWQ"
      },
      "execution_count": null,
      "outputs": []
    },
    {
      "cell_type": "code",
      "source": [
        "# Load the data\n",
        "objectclass_df = pd.read_csv('/content/Data/objectclass.csv')\n",
        "attributes_df = pd.read_csv('/content/Data/attributes.csv')\n",
        "violations_df = pd.read_csv('/content/Data/rules_separated_permissions.csv')"
      ],
      "metadata": {
        "id": "Mpzm7uDFY3X-"
      },
      "execution_count": null,
      "outputs": []
    },
    {
      "cell_type": "code",
      "source": [
        "# Create a graph\n",
        "G = nx.Graph()\n",
        "\n",
        "# Add nodes and edges from attributes and object classes\n",
        "for index, row in attributes_df.iterrows():\n",
        "    attribute = row['attribute']\n",
        "    types = row['types'].split(',')\n",
        "    for t in types:\n",
        "        G.add_node(t, type=attribute)\n",
        "        G.add_edge(attribute, t)\n",
        "\n",
        "for index, row in objectclass_df.iterrows():\n",
        "    object_class = row['object_class']\n",
        "    permissions = row['permissions'].split(',')\n",
        "    for perm in permissions:\n",
        "        G.add_node(perm, type='permission')\n",
        "        G.add_edge(object_class, perm)\n"
      ],
      "metadata": {
        "id": "7RBnnwpXY5zL"
      },
      "execution_count": null,
      "outputs": []
    },
    {
      "cell_type": "code",
      "source": [
        "# Add nodes and edges for violations\n",
        "for index, row in violations_df.iterrows():\n",
        "    source = row['source_type']\n",
        "    target = row['target_type']\n",
        "    obj_class = row['object_class']\n",
        "    perms = row['permissions'].split(',')\n",
        "\n",
        "    # Add nodes for source, target, and object class\n",
        "    G.add_node(source, type='source_type')\n",
        "    G.add_node(target, type='target_type')\n",
        "    G.add_node(obj_class, type='object_class')\n",
        "\n",
        "    # Add edges between source, target, object class, and permissions\n",
        "    G.add_edge(source, target)\n",
        "    G.add_edge(source, obj_class)\n",
        "    for perm in perms:\n",
        "        G.add_edge(obj_class, perm)\n"
      ],
      "metadata": {
        "id": "eYCwv4SCY7S4"
      },
      "execution_count": null,
      "outputs": []
    },
    {
      "cell_type": "code",
      "source": [
        "# Generate node embeddings using Node2Vec\n",
        "node2vec = Node2Vec(G, dimensions=64, walk_length=15, num_walks=200, workers=4)\n",
        "model = node2vec.fit(window=5, min_count=1, batch_words=4)\n"
      ],
      "metadata": {
        "colab": {
          "base_uri": "https://localhost:8080/",
          "height": 49,
          "referenced_widgets": [
            "282e989f809b4d90be81a2eb9e5289e6",
            "4f6003067d744adba8df899794743b7e",
            "55385b061b3e4f3dad52e50638da9178",
            "8363e187688649789dad3e735482c5c7",
            "97413d64eb2941e0bd93964e104e36c0",
            "ffc5032bee6e426b862887e7147404f3",
            "90962fb74f2b4edcb034a9b5bc1d3bd5",
            "4a602f5abbcb43e484eb3d4fc1fcb644",
            "a1bcd81eabb64adea33a5080fc3f1bfd",
            "a4c7f6209d0945f8a3366dfa481175c7",
            "f6ca22be168b4d368e10f9f6963bf613"
          ]
        },
        "id": "xROQgIL3Y87_",
        "outputId": "7a396165-9cdf-4102-9456-b716d064e0bb"
      },
      "execution_count": null,
      "outputs": [
        {
          "output_type": "display_data",
          "data": {
            "text/plain": [
              "Computing transition probabilities:   0%|          | 0/407 [00:00<?, ?it/s]"
            ],
            "application/vnd.jupyter.widget-view+json": {
              "version_major": 2,
              "version_minor": 0,
              "model_id": "282e989f809b4d90be81a2eb9e5289e6"
            }
          },
          "metadata": {}
        }
      ]
    },
    {
      "cell_type": "code",
      "source": [
        "# Create embeddings for the source, target, and object classes\n",
        "def get_embedding(row):\n",
        "    source_emb = model.wv[row['source_type']]\n",
        "    target_emb = model.wv[row['target_type']]\n",
        "    obj_class_emb = model.wv[row['object_class']]\n",
        "    return (source_emb + target_emb + obj_class_emb) / 3\n",
        "\n",
        "violations_df['embedding'] = violations_df.apply(get_embedding, axis=1)\n"
      ],
      "metadata": {
        "id": "ehnBizYkY-eJ"
      },
      "execution_count": null,
      "outputs": []
    },
    {
      "cell_type": "code",
      "source": [
        "X = np.array(list(violations_df['embedding']))\n",
        "y = violations_df['violation_class'].astype(int)\n",
        "\n",
        "X_train, X_test, y_train, y_test = train_test_split(X, y, test_size=0.3, random_state=42)\n"
      ],
      "metadata": {
        "id": "yNUOdxB8adr5"
      },
      "execution_count": null,
      "outputs": []
    },
    {
      "cell_type": "code",
      "source": [
        "# Initialize models with hyperparameters\n",
        "rf_clf = RandomForestClassifier(n_estimators=300, random_state=42)\n",
        "svm_clf = SVC(kernel='rbf', gamma='scale', C=10, random_state=42, probability=True)\n",
        "mlp_clf = MLPClassifier(hidden_layer_sizes=(128, 64, 32), max_iter=600, random_state=42)\n",
        "xgb_clf = XGBClassifier(n_estimators=300, learning_rate=0.05, random_state=42)\n"
      ],
      "metadata": {
        "id": "1yqhIEGVafih"
      },
      "execution_count": null,
      "outputs": []
    },
    {
      "cell_type": "code",
      "source": [
        "# Cross-validation to check model performance\n",
        "cv_rf = cross_val_score(rf_clf, X_train, y_train, cv=5, scoring='accuracy').mean()\n",
        "cv_svm = cross_val_score(svm_clf, X_train, y_train, cv=5, scoring='accuracy').mean()\n",
        "cv_mlp = cross_val_score(mlp_clf, X_train, y_train, cv=5, scoring='accuracy').mean()\n",
        "cv_xgb = cross_val_score(xgb_clf, X_train, y_train, cv=5, scoring='accuracy').mean()\n",
        "\n",
        "print(\"Cross-Validation Results:\")\n",
        "print(f\"Random Forest: {cv_rf}\")\n",
        "print(f\"SVM: {cv_svm}\")\n",
        "print(f\"MLP Neural Network: {cv_mlp}\")\n",
        "print(f\"XGBoost: {cv_xgb}\")"
      ],
      "metadata": {
        "colab": {
          "base_uri": "https://localhost:8080/"
        },
        "id": "2z-YNfg-ahHJ",
        "outputId": "cbd523e2-a2b7-44d3-f62f-11b742b1059b"
      },
      "execution_count": null,
      "outputs": [
        {
          "output_type": "stream",
          "name": "stdout",
          "text": [
            "Cross-Validation Results:\n",
            "Random Forest: 0.8222200328407224\n",
            "SVM: 0.7970114942528735\n",
            "MLP Neural Network: 0.8268374384236454\n",
            "XGBoost: 0.8268111658456487\n"
          ]
        }
      ]
    },
    {
      "cell_type": "code",
      "source": [
        "# Train the models\n",
        "rf_clf.fit(X_train, y_train)\n",
        "svm_clf.fit(X_train, y_train)\n",
        "mlp_clf.fit(X_train, y_train)\n",
        "xgb_clf.fit(X_train, y_train)\n",
        "\n",
        "# Stacking ensemble model\n",
        "estimators = [\n",
        "    ('rf', rf_clf),\n",
        "    ('svm', svm_clf),\n",
        "    ('mlp', mlp_clf)\n",
        "]\n",
        "\n",
        "stacking_clf = StackingClassifier(estimators=estimators, final_estimator=xgb_clf, cv=5)\n",
        "stacking_clf.fit(X_train, y_train)\n",
        "\n",
        "def evaluate_model(y_true, y_pred, model_name):\n",
        "    print(f\"{model_name} Evaluation:\")\n",
        "    print(classification_report(y_true, y_pred))\n",
        "    print(\"Confusion Matrix:\")\n",
        "    print(confusion_matrix(y_true, y_pred))\n",
        "    print(\"\\n\")\n",
        "\n",
        "y_pred_stacking = stacking_clf.predict(X_test)\n",
        "evaluate_model(y_test, y_pred_stacking, \"Stacking Ensemble\")"
      ],
      "metadata": {
        "colab": {
          "base_uri": "https://localhost:8080/"
        },
        "id": "VXgJRo5-anmj",
        "outputId": "35df9f50-0dfe-4aba-9354-663797ecb286"
      },
      "execution_count": null,
      "outputs": [
        {
          "output_type": "stream",
          "name": "stdout",
          "text": [
            "Stacking Ensemble Evaluation:\n",
            "              precision    recall  f1-score   support\n",
            "\n",
            "           0       0.83      0.79      0.81       125\n",
            "           1       0.51      0.71      0.59        34\n",
            "           2       0.97      0.93      0.95        83\n",
            "           3       1.00      0.97      0.99        40\n",
            "           4       1.00      0.88      0.93        24\n",
            "           5       0.36      0.45      0.40        11\n",
            "           6       0.12      0.14      0.13         7\n",
            "           7       1.00      0.86      0.92        14\n",
            "           8       1.00      0.89      0.94        19\n",
            "           9       0.80      0.80      0.80        10\n",
            "          10       0.89      1.00      0.94         8\n",
            "\n",
            "    accuracy                           0.83       375\n",
            "   macro avg       0.77      0.77      0.77       375\n",
            "weighted avg       0.85      0.83      0.84       375\n",
            "\n",
            "Confusion Matrix:\n",
            "[[99 13  0  0  0  7  5  0  0  0  1]\n",
            " [10 24  0  0  0  0  0  0  0  0  0]\n",
            " [ 0  6 77  0  0  0  0  0  0  0  0]\n",
            " [ 0  0  0 39  0  0  0  0  0  1  0]\n",
            " [ 0  0  2  0 21  0  0  0  0  1  0]\n",
            " [ 4  0  0  0  0  5  2  0  0  0  0]\n",
            " [ 4  0  0  0  0  2  1  0  0  0  0]\n",
            " [ 0  2  0  0  0  0  0 12  0  0  0]\n",
            " [ 0  2  0  0  0  0  0  0 17  0  0]\n",
            " [ 2  0  0  0  0  0  0  0  0  8  0]\n",
            " [ 0  0  0  0  0  0  0  0  0  0  8]]\n",
            "\n",
            "\n"
          ]
        }
      ]
    },
    {
      "cell_type": "code",
      "source": [
        "# detect and categorize violations using the stacking ensemble model\n",
        "def detect_and_categorize_violations_with_stacking(df):\n",
        "    X = np.array(list(df['embedding']))\n",
        "    predictions = stacking_clf.predict(X)\n",
        "    df['predicted_violation_class'] = predictions\n",
        "    return df[['source_type', 'target_type', 'object_class', 'permissions', 'predicted_violation_class']]\n",
        "\n",
        "categorized_violations_df = detect_and_categorize_violations_with_stacking(violations_df)\n",
        "print(\"Categorized Violations with Stacking Ensemble:\")\n",
        "print(categorized_violations_df)"
      ],
      "metadata": {
        "colab": {
          "base_uri": "https://localhost:8080/"
        },
        "id": "sTljbq2iiUqF",
        "outputId": "ef325378-0586-4c1b-a33f-33406919ca2c"
      },
      "execution_count": null,
      "outputs": [
        {
          "output_type": "stream",
          "name": "stdout",
          "text": [
            "Categorized Violations with Stacking Ensemble:\n",
            "     source_type   target_type object_class   permissions  \\\n",
            "0         user_t   user_home_t          dir          read   \n",
            "1         user_t   user_home_t          dir         write   \n",
            "2         user_t   user_home_t          dir        search   \n",
            "3        staff_t  staff_home_t          dir          read   \n",
            "4        staff_t  staff_home_t          dir         write   \n",
            "...          ...           ...          ...           ...   \n",
            "1242       gdm_t    dns_port_t   udp_socket  name_connect   \n",
            "1243  iptables_t    ntp_port_t   udp_socket  name_connect   \n",
            "1244  kerberos_t   http_port_t   tcp_socket  name_connect   \n",
            "1245      ldap_t    ftp_port_t   tcp_socket  name_connect   \n",
            "1246   openvpn_t  mysql_port_t   tcp_socket  name_connect   \n",
            "\n",
            "      predicted_violation_class  \n",
            "0                             0  \n",
            "1                             0  \n",
            "2                             0  \n",
            "3                             0  \n",
            "4                             0  \n",
            "...                         ...  \n",
            "1242                         10  \n",
            "1243                         10  \n",
            "1244                         10  \n",
            "1245                         10  \n",
            "1246                         10  \n",
            "\n",
            "[1247 rows x 5 columns]\n"
          ]
        }
      ]
    },
    {
      "cell_type": "code",
      "source": [],
      "metadata": {
        "id": "y3Sf4EKMkdha"
      },
      "execution_count": null,
      "outputs": []
    }
  ]
}