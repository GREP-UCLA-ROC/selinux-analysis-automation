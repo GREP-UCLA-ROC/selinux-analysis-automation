{
  "nbformat": 4,
  "nbformat_minor": 0,
  "metadata": {
    "colab": {
      "provenance": []
    },
    "kernelspec": {
      "name": "python3",
      "display_name": "Python 3"
    },
    "language_info": {
      "name": "python"
    },
    "widgets": {
      "application/vnd.jupyter.widget-state+json": {
        "cbd0fb1d93b64e229e7c7b614c3f2a98": {
          "model_module": "@jupyter-widgets/controls",
          "model_name": "HBoxModel",
          "model_module_version": "1.5.0",
          "state": {
            "_dom_classes": [],
            "_model_module": "@jupyter-widgets/controls",
            "_model_module_version": "1.5.0",
            "_model_name": "HBoxModel",
            "_view_count": null,
            "_view_module": "@jupyter-widgets/controls",
            "_view_module_version": "1.5.0",
            "_view_name": "HBoxView",
            "box_style": "",
            "children": [
              "IPY_MODEL_d075f119898f464daf71a87f2d51ff3a",
              "IPY_MODEL_1c3d4adff4674a8ca12f15e89c5f8f93",
              "IPY_MODEL_61b724810c164d9c96c8919dbbbf0a04"
            ],
            "layout": "IPY_MODEL_990e0161a76e402eb3ed8e9a4c9e090d"
          }
        },
        "d075f119898f464daf71a87f2d51ff3a": {
          "model_module": "@jupyter-widgets/controls",
          "model_name": "HTMLModel",
          "model_module_version": "1.5.0",
          "state": {
            "_dom_classes": [],
            "_model_module": "@jupyter-widgets/controls",
            "_model_module_version": "1.5.0",
            "_model_name": "HTMLModel",
            "_view_count": null,
            "_view_module": "@jupyter-widgets/controls",
            "_view_module_version": "1.5.0",
            "_view_name": "HTMLView",
            "description": "",
            "description_tooltip": null,
            "layout": "IPY_MODEL_44eda0f43f7642f1aec95098e925c160",
            "placeholder": "​",
            "style": "IPY_MODEL_5c3139ec59c0471690b78b4d6af859a6",
            "value": "Computing transition probabilities: 100%"
          }
        },
        "1c3d4adff4674a8ca12f15e89c5f8f93": {
          "model_module": "@jupyter-widgets/controls",
          "model_name": "FloatProgressModel",
          "model_module_version": "1.5.0",
          "state": {
            "_dom_classes": [],
            "_model_module": "@jupyter-widgets/controls",
            "_model_module_version": "1.5.0",
            "_model_name": "FloatProgressModel",
            "_view_count": null,
            "_view_module": "@jupyter-widgets/controls",
            "_view_module_version": "1.5.0",
            "_view_name": "ProgressView",
            "bar_style": "success",
            "description": "",
            "description_tooltip": null,
            "layout": "IPY_MODEL_ee6ba197fbb84abd8f9a93ba314b940a",
            "max": 149,
            "min": 0,
            "orientation": "horizontal",
            "style": "IPY_MODEL_457d7970e6254f52a4a012c8eab73e46",
            "value": 149
          }
        },
        "61b724810c164d9c96c8919dbbbf0a04": {
          "model_module": "@jupyter-widgets/controls",
          "model_name": "HTMLModel",
          "model_module_version": "1.5.0",
          "state": {
            "_dom_classes": [],
            "_model_module": "@jupyter-widgets/controls",
            "_model_module_version": "1.5.0",
            "_model_name": "HTMLModel",
            "_view_count": null,
            "_view_module": "@jupyter-widgets/controls",
            "_view_module_version": "1.5.0",
            "_view_name": "HTMLView",
            "description": "",
            "description_tooltip": null,
            "layout": "IPY_MODEL_f167e33d73af4c10868f4293610574bc",
            "placeholder": "​",
            "style": "IPY_MODEL_157934e9df4440b4872c668a35393169",
            "value": " 149/149 [00:00&lt;00:00, 984.61it/s]"
          }
        },
        "990e0161a76e402eb3ed8e9a4c9e090d": {
          "model_module": "@jupyter-widgets/base",
          "model_name": "LayoutModel",
          "model_module_version": "1.2.0",
          "state": {
            "_model_module": "@jupyter-widgets/base",
            "_model_module_version": "1.2.0",
            "_model_name": "LayoutModel",
            "_view_count": null,
            "_view_module": "@jupyter-widgets/base",
            "_view_module_version": "1.2.0",
            "_view_name": "LayoutView",
            "align_content": null,
            "align_items": null,
            "align_self": null,
            "border": null,
            "bottom": null,
            "display": null,
            "flex": null,
            "flex_flow": null,
            "grid_area": null,
            "grid_auto_columns": null,
            "grid_auto_flow": null,
            "grid_auto_rows": null,
            "grid_column": null,
            "grid_gap": null,
            "grid_row": null,
            "grid_template_areas": null,
            "grid_template_columns": null,
            "grid_template_rows": null,
            "height": null,
            "justify_content": null,
            "justify_items": null,
            "left": null,
            "margin": null,
            "max_height": null,
            "max_width": null,
            "min_height": null,
            "min_width": null,
            "object_fit": null,
            "object_position": null,
            "order": null,
            "overflow": null,
            "overflow_x": null,
            "overflow_y": null,
            "padding": null,
            "right": null,
            "top": null,
            "visibility": null,
            "width": null
          }
        },
        "44eda0f43f7642f1aec95098e925c160": {
          "model_module": "@jupyter-widgets/base",
          "model_name": "LayoutModel",
          "model_module_version": "1.2.0",
          "state": {
            "_model_module": "@jupyter-widgets/base",
            "_model_module_version": "1.2.0",
            "_model_name": "LayoutModel",
            "_view_count": null,
            "_view_module": "@jupyter-widgets/base",
            "_view_module_version": "1.2.0",
            "_view_name": "LayoutView",
            "align_content": null,
            "align_items": null,
            "align_self": null,
            "border": null,
            "bottom": null,
            "display": null,
            "flex": null,
            "flex_flow": null,
            "grid_area": null,
            "grid_auto_columns": null,
            "grid_auto_flow": null,
            "grid_auto_rows": null,
            "grid_column": null,
            "grid_gap": null,
            "grid_row": null,
            "grid_template_areas": null,
            "grid_template_columns": null,
            "grid_template_rows": null,
            "height": null,
            "justify_content": null,
            "justify_items": null,
            "left": null,
            "margin": null,
            "max_height": null,
            "max_width": null,
            "min_height": null,
            "min_width": null,
            "object_fit": null,
            "object_position": null,
            "order": null,
            "overflow": null,
            "overflow_x": null,
            "overflow_y": null,
            "padding": null,
            "right": null,
            "top": null,
            "visibility": null,
            "width": null
          }
        },
        "5c3139ec59c0471690b78b4d6af859a6": {
          "model_module": "@jupyter-widgets/controls",
          "model_name": "DescriptionStyleModel",
          "model_module_version": "1.5.0",
          "state": {
            "_model_module": "@jupyter-widgets/controls",
            "_model_module_version": "1.5.0",
            "_model_name": "DescriptionStyleModel",
            "_view_count": null,
            "_view_module": "@jupyter-widgets/base",
            "_view_module_version": "1.2.0",
            "_view_name": "StyleView",
            "description_width": ""
          }
        },
        "ee6ba197fbb84abd8f9a93ba314b940a": {
          "model_module": "@jupyter-widgets/base",
          "model_name": "LayoutModel",
          "model_module_version": "1.2.0",
          "state": {
            "_model_module": "@jupyter-widgets/base",
            "_model_module_version": "1.2.0",
            "_model_name": "LayoutModel",
            "_view_count": null,
            "_view_module": "@jupyter-widgets/base",
            "_view_module_version": "1.2.0",
            "_view_name": "LayoutView",
            "align_content": null,
            "align_items": null,
            "align_self": null,
            "border": null,
            "bottom": null,
            "display": null,
            "flex": null,
            "flex_flow": null,
            "grid_area": null,
            "grid_auto_columns": null,
            "grid_auto_flow": null,
            "grid_auto_rows": null,
            "grid_column": null,
            "grid_gap": null,
            "grid_row": null,
            "grid_template_areas": null,
            "grid_template_columns": null,
            "grid_template_rows": null,
            "height": null,
            "justify_content": null,
            "justify_items": null,
            "left": null,
            "margin": null,
            "max_height": null,
            "max_width": null,
            "min_height": null,
            "min_width": null,
            "object_fit": null,
            "object_position": null,
            "order": null,
            "overflow": null,
            "overflow_x": null,
            "overflow_y": null,
            "padding": null,
            "right": null,
            "top": null,
            "visibility": null,
            "width": null
          }
        },
        "457d7970e6254f52a4a012c8eab73e46": {
          "model_module": "@jupyter-widgets/controls",
          "model_name": "ProgressStyleModel",
          "model_module_version": "1.5.0",
          "state": {
            "_model_module": "@jupyter-widgets/controls",
            "_model_module_version": "1.5.0",
            "_model_name": "ProgressStyleModel",
            "_view_count": null,
            "_view_module": "@jupyter-widgets/base",
            "_view_module_version": "1.2.0",
            "_view_name": "StyleView",
            "bar_color": null,
            "description_width": ""
          }
        },
        "f167e33d73af4c10868f4293610574bc": {
          "model_module": "@jupyter-widgets/base",
          "model_name": "LayoutModel",
          "model_module_version": "1.2.0",
          "state": {
            "_model_module": "@jupyter-widgets/base",
            "_model_module_version": "1.2.0",
            "_model_name": "LayoutModel",
            "_view_count": null,
            "_view_module": "@jupyter-widgets/base",
            "_view_module_version": "1.2.0",
            "_view_name": "LayoutView",
            "align_content": null,
            "align_items": null,
            "align_self": null,
            "border": null,
            "bottom": null,
            "display": null,
            "flex": null,
            "flex_flow": null,
            "grid_area": null,
            "grid_auto_columns": null,
            "grid_auto_flow": null,
            "grid_auto_rows": null,
            "grid_column": null,
            "grid_gap": null,
            "grid_row": null,
            "grid_template_areas": null,
            "grid_template_columns": null,
            "grid_template_rows": null,
            "height": null,
            "justify_content": null,
            "justify_items": null,
            "left": null,
            "margin": null,
            "max_height": null,
            "max_width": null,
            "min_height": null,
            "min_width": null,
            "object_fit": null,
            "object_position": null,
            "order": null,
            "overflow": null,
            "overflow_x": null,
            "overflow_y": null,
            "padding": null,
            "right": null,
            "top": null,
            "visibility": null,
            "width": null
          }
        },
        "157934e9df4440b4872c668a35393169": {
          "model_module": "@jupyter-widgets/controls",
          "model_name": "DescriptionStyleModel",
          "model_module_version": "1.5.0",
          "state": {
            "_model_module": "@jupyter-widgets/controls",
            "_model_module_version": "1.5.0",
            "_model_name": "DescriptionStyleModel",
            "_view_count": null,
            "_view_module": "@jupyter-widgets/base",
            "_view_module_version": "1.2.0",
            "_view_name": "StyleView",
            "description_width": ""
          }
        },
        "4503adaae5be4a379405eafcca8ccb8c": {
          "model_module": "@jupyter-widgets/controls",
          "model_name": "HBoxModel",
          "model_module_version": "1.5.0",
          "state": {
            "_dom_classes": [],
            "_model_module": "@jupyter-widgets/controls",
            "_model_module_version": "1.5.0",
            "_model_name": "HBoxModel",
            "_view_count": null,
            "_view_module": "@jupyter-widgets/controls",
            "_view_module_version": "1.5.0",
            "_view_name": "HBoxView",
            "box_style": "",
            "children": [
              "IPY_MODEL_c5791fb0d48c474c9e39edba8ab4c37b",
              "IPY_MODEL_56e74b258494418ead364a1428be6899",
              "IPY_MODEL_985e0a7d808543c4be42289c4771f63e"
            ],
            "layout": "IPY_MODEL_fdcf12b8391849239da052aa12746e7f"
          }
        },
        "c5791fb0d48c474c9e39edba8ab4c37b": {
          "model_module": "@jupyter-widgets/controls",
          "model_name": "HTMLModel",
          "model_module_version": "1.5.0",
          "state": {
            "_dom_classes": [],
            "_model_module": "@jupyter-widgets/controls",
            "_model_module_version": "1.5.0",
            "_model_name": "HTMLModel",
            "_view_count": null,
            "_view_module": "@jupyter-widgets/controls",
            "_view_module_version": "1.5.0",
            "_view_name": "HTMLView",
            "description": "",
            "description_tooltip": null,
            "layout": "IPY_MODEL_5882c590417d4dcc87f0207445744ca5",
            "placeholder": "​",
            "style": "IPY_MODEL_665bb3f9e8b4449d9bcbcc529c04a9f8",
            "value": "Computing transition probabilities: 100%"
          }
        },
        "56e74b258494418ead364a1428be6899": {
          "model_module": "@jupyter-widgets/controls",
          "model_name": "FloatProgressModel",
          "model_module_version": "1.5.0",
          "state": {
            "_dom_classes": [],
            "_model_module": "@jupyter-widgets/controls",
            "_model_module_version": "1.5.0",
            "_model_name": "FloatProgressModel",
            "_view_count": null,
            "_view_module": "@jupyter-widgets/controls",
            "_view_module_version": "1.5.0",
            "_view_name": "ProgressView",
            "bar_style": "success",
            "description": "",
            "description_tooltip": null,
            "layout": "IPY_MODEL_d70ec59d1b284b0898301497fdb19a14",
            "max": 144,
            "min": 0,
            "orientation": "horizontal",
            "style": "IPY_MODEL_fe08e100d6fd4aa8a01f8ffdf9e38483",
            "value": 144
          }
        },
        "985e0a7d808543c4be42289c4771f63e": {
          "model_module": "@jupyter-widgets/controls",
          "model_name": "HTMLModel",
          "model_module_version": "1.5.0",
          "state": {
            "_dom_classes": [],
            "_model_module": "@jupyter-widgets/controls",
            "_model_module_version": "1.5.0",
            "_model_name": "HTMLModel",
            "_view_count": null,
            "_view_module": "@jupyter-widgets/controls",
            "_view_module_version": "1.5.0",
            "_view_name": "HTMLView",
            "description": "",
            "description_tooltip": null,
            "layout": "IPY_MODEL_ac17e765a7444fa8962bae2dbcf96ddc",
            "placeholder": "​",
            "style": "IPY_MODEL_20d2c8895f704eb7916622590ed68f17",
            "value": " 144/144 [00:00&lt;00:00, 359.77it/s]"
          }
        },
        "fdcf12b8391849239da052aa12746e7f": {
          "model_module": "@jupyter-widgets/base",
          "model_name": "LayoutModel",
          "model_module_version": "1.2.0",
          "state": {
            "_model_module": "@jupyter-widgets/base",
            "_model_module_version": "1.2.0",
            "_model_name": "LayoutModel",
            "_view_count": null,
            "_view_module": "@jupyter-widgets/base",
            "_view_module_version": "1.2.0",
            "_view_name": "LayoutView",
            "align_content": null,
            "align_items": null,
            "align_self": null,
            "border": null,
            "bottom": null,
            "display": null,
            "flex": null,
            "flex_flow": null,
            "grid_area": null,
            "grid_auto_columns": null,
            "grid_auto_flow": null,
            "grid_auto_rows": null,
            "grid_column": null,
            "grid_gap": null,
            "grid_row": null,
            "grid_template_areas": null,
            "grid_template_columns": null,
            "grid_template_rows": null,
            "height": null,
            "justify_content": null,
            "justify_items": null,
            "left": null,
            "margin": null,
            "max_height": null,
            "max_width": null,
            "min_height": null,
            "min_width": null,
            "object_fit": null,
            "object_position": null,
            "order": null,
            "overflow": null,
            "overflow_x": null,
            "overflow_y": null,
            "padding": null,
            "right": null,
            "top": null,
            "visibility": null,
            "width": null
          }
        },
        "5882c590417d4dcc87f0207445744ca5": {
          "model_module": "@jupyter-widgets/base",
          "model_name": "LayoutModel",
          "model_module_version": "1.2.0",
          "state": {
            "_model_module": "@jupyter-widgets/base",
            "_model_module_version": "1.2.0",
            "_model_name": "LayoutModel",
            "_view_count": null,
            "_view_module": "@jupyter-widgets/base",
            "_view_module_version": "1.2.0",
            "_view_name": "LayoutView",
            "align_content": null,
            "align_items": null,
            "align_self": null,
            "border": null,
            "bottom": null,
            "display": null,
            "flex": null,
            "flex_flow": null,
            "grid_area": null,
            "grid_auto_columns": null,
            "grid_auto_flow": null,
            "grid_auto_rows": null,
            "grid_column": null,
            "grid_gap": null,
            "grid_row": null,
            "grid_template_areas": null,
            "grid_template_columns": null,
            "grid_template_rows": null,
            "height": null,
            "justify_content": null,
            "justify_items": null,
            "left": null,
            "margin": null,
            "max_height": null,
            "max_width": null,
            "min_height": null,
            "min_width": null,
            "object_fit": null,
            "object_position": null,
            "order": null,
            "overflow": null,
            "overflow_x": null,
            "overflow_y": null,
            "padding": null,
            "right": null,
            "top": null,
            "visibility": null,
            "width": null
          }
        },
        "665bb3f9e8b4449d9bcbcc529c04a9f8": {
          "model_module": "@jupyter-widgets/controls",
          "model_name": "DescriptionStyleModel",
          "model_module_version": "1.5.0",
          "state": {
            "_model_module": "@jupyter-widgets/controls",
            "_model_module_version": "1.5.0",
            "_model_name": "DescriptionStyleModel",
            "_view_count": null,
            "_view_module": "@jupyter-widgets/base",
            "_view_module_version": "1.2.0",
            "_view_name": "StyleView",
            "description_width": ""
          }
        },
        "d70ec59d1b284b0898301497fdb19a14": {
          "model_module": "@jupyter-widgets/base",
          "model_name": "LayoutModel",
          "model_module_version": "1.2.0",
          "state": {
            "_model_module": "@jupyter-widgets/base",
            "_model_module_version": "1.2.0",
            "_model_name": "LayoutModel",
            "_view_count": null,
            "_view_module": "@jupyter-widgets/base",
            "_view_module_version": "1.2.0",
            "_view_name": "LayoutView",
            "align_content": null,
            "align_items": null,
            "align_self": null,
            "border": null,
            "bottom": null,
            "display": null,
            "flex": null,
            "flex_flow": null,
            "grid_area": null,
            "grid_auto_columns": null,
            "grid_auto_flow": null,
            "grid_auto_rows": null,
            "grid_column": null,
            "grid_gap": null,
            "grid_row": null,
            "grid_template_areas": null,
            "grid_template_columns": null,
            "grid_template_rows": null,
            "height": null,
            "justify_content": null,
            "justify_items": null,
            "left": null,
            "margin": null,
            "max_height": null,
            "max_width": null,
            "min_height": null,
            "min_width": null,
            "object_fit": null,
            "object_position": null,
            "order": null,
            "overflow": null,
            "overflow_x": null,
            "overflow_y": null,
            "padding": null,
            "right": null,
            "top": null,
            "visibility": null,
            "width": null
          }
        },
        "fe08e100d6fd4aa8a01f8ffdf9e38483": {
          "model_module": "@jupyter-widgets/controls",
          "model_name": "ProgressStyleModel",
          "model_module_version": "1.5.0",
          "state": {
            "_model_module": "@jupyter-widgets/controls",
            "_model_module_version": "1.5.0",
            "_model_name": "ProgressStyleModel",
            "_view_count": null,
            "_view_module": "@jupyter-widgets/base",
            "_view_module_version": "1.2.0",
            "_view_name": "StyleView",
            "bar_color": null,
            "description_width": ""
          }
        },
        "ac17e765a7444fa8962bae2dbcf96ddc": {
          "model_module": "@jupyter-widgets/base",
          "model_name": "LayoutModel",
          "model_module_version": "1.2.0",
          "state": {
            "_model_module": "@jupyter-widgets/base",
            "_model_module_version": "1.2.0",
            "_model_name": "LayoutModel",
            "_view_count": null,
            "_view_module": "@jupyter-widgets/base",
            "_view_module_version": "1.2.0",
            "_view_name": "LayoutView",
            "align_content": null,
            "align_items": null,
            "align_self": null,
            "border": null,
            "bottom": null,
            "display": null,
            "flex": null,
            "flex_flow": null,
            "grid_area": null,
            "grid_auto_columns": null,
            "grid_auto_flow": null,
            "grid_auto_rows": null,
            "grid_column": null,
            "grid_gap": null,
            "grid_row": null,
            "grid_template_areas": null,
            "grid_template_columns": null,
            "grid_template_rows": null,
            "height": null,
            "justify_content": null,
            "justify_items": null,
            "left": null,
            "margin": null,
            "max_height": null,
            "max_width": null,
            "min_height": null,
            "min_width": null,
            "object_fit": null,
            "object_position": null,
            "order": null,
            "overflow": null,
            "overflow_x": null,
            "overflow_y": null,
            "padding": null,
            "right": null,
            "top": null,
            "visibility": null,
            "width": null
          }
        },
        "20d2c8895f704eb7916622590ed68f17": {
          "model_module": "@jupyter-widgets/controls",
          "model_name": "DescriptionStyleModel",
          "model_module_version": "1.5.0",
          "state": {
            "_model_module": "@jupyter-widgets/controls",
            "_model_module_version": "1.5.0",
            "_model_name": "DescriptionStyleModel",
            "_view_count": null,
            "_view_module": "@jupyter-widgets/base",
            "_view_module_version": "1.2.0",
            "_view_name": "StyleView",
            "description_width": ""
          }
        }
      }
    }
  },
  "cells": [
    {
      "cell_type": "code",
      "execution_count": null,
      "metadata": {
        "id": "rY_nSzYsy5pO"
      },
      "outputs": [],
      "source": [
        "# 0: No anomalies\n",
        "# 1: Separation of Duty (SoD) violation - single subject with read and write access to sensitive data\n",
        "# 2: Overly permissive access\n",
        "# 3: Improper privilege assignment\n",
        "# 4: Critical system file modification\n",
        "# 5: Contradictory allow rules for same subject-object-permission combination\n",
        "# 6: Missing necessary port access for network services\n",
        "# 7: Incorrect type usage\n",
        "# 8: Domain transition issues\n",
        "# 9: Mislabeled files or processes\n",
        "# 10: Unauthorized network access\n",
        "# 11: Separation of Duty (SoD) violation - single subject with access to multiple mutually exclusive roles\n",
        "# 12: Contradictory allow and deny rules for same subject-object-permission combination\n",
        "# 13: Contradictory type transitions for the same process\n",
        "# 14: Missing necessary file access for system processes\n",
        "# 15: Missing necessary directory access for system processes\n",
        "# 16: Missing necessary network access for system processes"
      ]
    },
    {
      "cell_type": "code",
      "source": [
        "!pip install networkx node2vec scikit-learn pandas"
      ],
      "metadata": {
        "colab": {
          "base_uri": "https://localhost:8080/"
        },
        "id": "6tcs19Po0AWE",
        "outputId": "9e5df1e1-0098-41a3-ea7c-27210f104c9e"
      },
      "execution_count": null,
      "outputs": [
        {
          "output_type": "stream",
          "name": "stdout",
          "text": [
            "Requirement already satisfied: networkx in /usr/local/lib/python3.10/dist-packages (3.3)\n",
            "Requirement already satisfied: node2vec in /usr/local/lib/python3.10/dist-packages (0.5.0)\n",
            "Requirement already satisfied: scikit-learn in /usr/local/lib/python3.10/dist-packages (1.3.2)\n",
            "Requirement already satisfied: pandas in /usr/local/lib/python3.10/dist-packages (2.1.4)\n",
            "Requirement already satisfied: gensim<5.0.0,>=4.3.0 in /usr/local/lib/python3.10/dist-packages (from node2vec) (4.3.3)\n",
            "Requirement already satisfied: joblib<2.0.0,>=1.4.0 in /usr/local/lib/python3.10/dist-packages (from node2vec) (1.4.2)\n",
            "Requirement already satisfied: numpy<2.0.0,>=1.24.0 in /usr/local/lib/python3.10/dist-packages (from node2vec) (1.26.4)\n",
            "Requirement already satisfied: tqdm<5.0.0,>=4.66.1 in /usr/local/lib/python3.10/dist-packages (from node2vec) (4.66.5)\n",
            "Requirement already satisfied: scipy>=1.5.0 in /usr/local/lib/python3.10/dist-packages (from scikit-learn) (1.13.1)\n",
            "Requirement already satisfied: threadpoolctl>=2.0.0 in /usr/local/lib/python3.10/dist-packages (from scikit-learn) (3.5.0)\n",
            "Requirement already satisfied: python-dateutil>=2.8.2 in /usr/local/lib/python3.10/dist-packages (from pandas) (2.8.2)\n",
            "Requirement already satisfied: pytz>=2020.1 in /usr/local/lib/python3.10/dist-packages (from pandas) (2024.1)\n",
            "Requirement already satisfied: tzdata>=2022.1 in /usr/local/lib/python3.10/dist-packages (from pandas) (2024.1)\n",
            "Requirement already satisfied: smart-open>=1.8.1 in /usr/local/lib/python3.10/dist-packages (from gensim<5.0.0,>=4.3.0->node2vec) (7.0.4)\n",
            "Requirement already satisfied: six>=1.5 in /usr/local/lib/python3.10/dist-packages (from python-dateutil>=2.8.2->pandas) (1.16.0)\n",
            "Requirement already satisfied: wrapt in /usr/local/lib/python3.10/dist-packages (from smart-open>=1.8.1->gensim<5.0.0,>=4.3.0->node2vec) (1.16.0)\n"
          ]
        }
      ]
    },
    {
      "cell_type": "code",
      "source": [
        "import pandas as pd\n",
        "import networkx as nx\n",
        "from node2vec import Node2Vec\n",
        "from sklearn.model_selection import train_test_split\n",
        "from sklearn.ensemble import RandomForestClassifier\n",
        "from sklearn.svm import SVC\n",
        "from sklearn.neural_network import MLPClassifier\n",
        "from sklearn.metrics import classification_report, confusion_matrix"
      ],
      "metadata": {
        "id": "5D-tUjwQ0CAX"
      },
      "execution_count": null,
      "outputs": []
    },
    {
      "cell_type": "code",
      "source": [
        "# Load the data\n",
        "objectclass_df = pd.read_csv('/content/Data/objectclass.csv')\n",
        "attributes_df = pd.read_csv('/content/Data/attributes.csv')\n",
        "violations_df = pd.read_csv('/content/Data/filtered_separated_permissions.csv')"
      ],
      "metadata": {
        "id": "XWes58bM0VuM"
      },
      "execution_count": null,
      "outputs": []
    },
    {
      "cell_type": "code",
      "source": [
        "# Create a graph\n",
        "G = nx.Graph()\n",
        "\n",
        "# Add nodes and edges from attributes and object classes\n",
        "for index, row in attributes_df.iterrows():\n",
        "    attribute = row['attribute']\n",
        "    types = row['types'].split(',')\n",
        "    for t in types:\n",
        "        G.add_node(t, type=attribute)\n",
        "        G.add_edge(attribute, t)\n",
        "\n",
        "for index, row in objectclass_df.iterrows():\n",
        "    object_class = row['object_class']\n",
        "    permissions = row['permissions'].split(',')\n",
        "    for perm in permissions:\n",
        "        G.add_node(perm, type='permission')\n",
        "        G.add_edge(object_class, perm)\n"
      ],
      "metadata": {
        "id": "3TxwmCHZ0kBk"
      },
      "execution_count": null,
      "outputs": []
    },
    {
      "cell_type": "code",
      "source": [
        "# Add nodes and edges for violations\n",
        "for index, row in violations_df.iterrows():\n",
        "    source = row['source_type']\n",
        "    target = row['target_type']\n",
        "    obj_class = row['object_class']\n",
        "    perms = row['permissions'].split(',')\n",
        "\n",
        "    # Add nodes for source, target, and object class\n",
        "    G.add_node(source, type='source_type')\n",
        "    G.add_node(target, type='target_type')\n",
        "    G.add_node(obj_class, type='object_class')\n",
        "\n",
        "    # Add edges between source, target, object class, and permissions\n",
        "    G.add_edge(source, target)\n",
        "    G.add_edge(source, obj_class)\n",
        "    for perm in perms:\n",
        "        G.add_edge(obj_class, perm)\n"
      ],
      "metadata": {
        "id": "VjnLH5Xm0lhl"
      },
      "execution_count": null,
      "outputs": []
    },
    {
      "cell_type": "code",
      "source": [
        "# Generate node embeddings using Node2Vec\n",
        "node2vec = Node2Vec(G, dimensions=64, walk_length=15, num_walks=200, workers=2)\n",
        "model = node2vec.fit(window=5, min_count=1, batch_words=4)\n"
      ],
      "metadata": {
        "colab": {
          "base_uri": "https://localhost:8080/",
          "height": 49,
          "referenced_widgets": [
            "cbd0fb1d93b64e229e7c7b614c3f2a98",
            "d075f119898f464daf71a87f2d51ff3a",
            "1c3d4adff4674a8ca12f15e89c5f8f93",
            "61b724810c164d9c96c8919dbbbf0a04",
            "990e0161a76e402eb3ed8e9a4c9e090d",
            "44eda0f43f7642f1aec95098e925c160",
            "5c3139ec59c0471690b78b4d6af859a6",
            "ee6ba197fbb84abd8f9a93ba314b940a",
            "457d7970e6254f52a4a012c8eab73e46",
            "f167e33d73af4c10868f4293610574bc",
            "157934e9df4440b4872c668a35393169"
          ]
        },
        "id": "ezEoEaBR0mzN",
        "outputId": "5845dbe0-45cd-41d7-a6d7-17c3946b4329"
      },
      "execution_count": null,
      "outputs": [
        {
          "output_type": "display_data",
          "data": {
            "text/plain": [
              "Computing transition probabilities:   0%|          | 0/149 [00:00<?, ?it/s]"
            ],
            "application/vnd.jupyter.widget-view+json": {
              "version_major": 2,
              "version_minor": 0,
              "model_id": "cbd0fb1d93b64e229e7c7b614c3f2a98"
            }
          },
          "metadata": {}
        }
      ]
    },
    {
      "cell_type": "code",
      "source": [
        "# Create embeddings for the source, target, and object classes\n",
        "def get_embedding(row):\n",
        "    source_emb = model.wv[row['source_type']]\n",
        "    target_emb = model.wv[row['target_type']]\n",
        "    obj_class_emb = model.wv[row['object_class']]\n",
        "    return (source_emb + target_emb + obj_class_emb) / 3\n",
        "\n",
        "violations_df['embedding'] = violations_df.apply(get_embedding, axis=1)\n"
      ],
      "metadata": {
        "id": "uaPvv4Zj0oEB"
      },
      "execution_count": null,
      "outputs": []
    },
    {
      "cell_type": "code",
      "source": [
        "# Prepare data for classification\n",
        "X = list(violations_df['embedding'])\n",
        "y = violations_df['violation_class'].astype(int)\n"
      ],
      "metadata": {
        "id": "nhdxRYeB1ELE"
      },
      "execution_count": null,
      "outputs": []
    },
    {
      "cell_type": "code",
      "source": [
        "# Split data into train and test sets\n",
        "X_train, X_test, y_train, y_test = train_test_split(X, y, test_size=0.3, random_state=42)\n",
        "\n",
        "rf_clf = RandomForestClassifier(n_estimators=200, random_state=42)\n",
        "svm_clf = SVC(kernel='rbf', gamma='scale', random_state=42)\n",
        "mlp_clf = MLPClassifier(hidden_layer_sizes=(64, 32, 16), max_iter=500, random_state=42)\n"
      ],
      "metadata": {
        "id": "3vObNzuJ1FRp"
      },
      "execution_count": null,
      "outputs": []
    },
    {
      "cell_type": "code",
      "source": [
        "# Train the classifiers\n",
        "rf_clf.fit(X_train, y_train)\n",
        "svm_clf.fit(X_train, y_train)\n",
        "mlp_clf.fit(X_train, y_train)\n",
        "\n",
        "y_pred_rf = rf_clf.predict(X_test)\n",
        "y_pred_svm = svm_clf.predict(X_test)\n",
        "y_pred_mlp = mlp_clf.predict(X_test)"
      ],
      "metadata": {
        "id": "QZ9WBiTU1Giu"
      },
      "execution_count": null,
      "outputs": []
    },
    {
      "cell_type": "code",
      "source": [
        "# Evaluate the models\n",
        "def evaluate_model(y_true, y_pred, model_name):\n",
        "    print(f\"{model_name} Evaluation:\")\n",
        "    print(classification_report(y_true, y_pred))\n",
        "    print(\"Confusion Matrix:\")\n",
        "    print(confusion_matrix(y_true, y_pred))\n",
        "    print(\"\\n\")\n",
        "\n",
        "evaluate_model(y_test, y_pred_rf, \"Random Forest\")\n",
        "evaluate_model(y_test, y_pred_svm, \"SVM\")\n",
        "evaluate_model(y_test, y_pred_mlp, \"MLP Neural Network\")"
      ],
      "metadata": {
        "colab": {
          "base_uri": "https://localhost:8080/"
        },
        "id": "6H6BzTW31HuD",
        "outputId": "458026c3-9ff9-4fcf-a7ad-0c89c9768c51"
      },
      "execution_count": null,
      "outputs": [
        {
          "output_type": "stream",
          "name": "stdout",
          "text": [
            "Random Forest Evaluation:\n",
            "              precision    recall  f1-score   support\n",
            "\n",
            "           1       1.00      1.00      1.00        38\n",
            "           2       0.80      1.00      0.89        53\n",
            "           3       1.00      1.00      1.00        46\n",
            "           4       1.00      1.00      1.00        26\n",
            "           7       1.00      1.00      1.00        17\n",
            "           8       1.00      1.00      1.00        14\n",
            "           9       1.00      1.00      1.00        17\n",
            "          10       1.00      1.00      1.00        18\n",
            "          11       1.00      1.00      1.00        14\n",
            "          13       1.00      1.00      1.00        22\n",
            "          14       1.00      0.25      0.40        16\n",
            "          15       1.00      0.95      0.98        22\n",
            "\n",
            "    accuracy                           0.96       303\n",
            "   macro avg       0.98      0.93      0.94       303\n",
            "weighted avg       0.97      0.96      0.95       303\n",
            "\n",
            "Confusion Matrix:\n",
            "[[38  0  0  0  0  0  0  0  0  0  0  0]\n",
            " [ 0 53  0  0  0  0  0  0  0  0  0  0]\n",
            " [ 0  0 46  0  0  0  0  0  0  0  0  0]\n",
            " [ 0  0  0 26  0  0  0  0  0  0  0  0]\n",
            " [ 0  0  0  0 17  0  0  0  0  0  0  0]\n",
            " [ 0  0  0  0  0 14  0  0  0  0  0  0]\n",
            " [ 0  0  0  0  0  0 17  0  0  0  0  0]\n",
            " [ 0  0  0  0  0  0  0 18  0  0  0  0]\n",
            " [ 0  0  0  0  0  0  0  0 14  0  0  0]\n",
            " [ 0  0  0  0  0  0  0  0  0 22  0  0]\n",
            " [ 0 12  0  0  0  0  0  0  0  0  4  0]\n",
            " [ 0  1  0  0  0  0  0  0  0  0  0 21]]\n",
            "\n",
            "\n",
            "SVM Evaluation:\n",
            "              precision    recall  f1-score   support\n",
            "\n",
            "           1       0.86      1.00      0.93        38\n",
            "           2       0.78      1.00      0.88        53\n",
            "           3       1.00      1.00      1.00        46\n",
            "           4       1.00      1.00      1.00        26\n",
            "           7       1.00      0.65      0.79        17\n",
            "           8       1.00      1.00      1.00        14\n",
            "           9       1.00      1.00      1.00        17\n",
            "          10       1.00      1.00      1.00        18\n",
            "          11       1.00      1.00      1.00        14\n",
            "          13       1.00      1.00      1.00        22\n",
            "          14       1.00      0.06      0.12        16\n",
            "          15       1.00      1.00      1.00        22\n",
            "\n",
            "    accuracy                           0.93       303\n",
            "   macro avg       0.97      0.89      0.89       303\n",
            "weighted avg       0.94      0.93      0.91       303\n",
            "\n",
            "Confusion Matrix:\n",
            "[[38  0  0  0  0  0  0  0  0  0  0  0]\n",
            " [ 0 53  0  0  0  0  0  0  0  0  0  0]\n",
            " [ 0  0 46  0  0  0  0  0  0  0  0  0]\n",
            " [ 0  0  0 26  0  0  0  0  0  0  0  0]\n",
            " [ 6  0  0  0 11  0  0  0  0  0  0  0]\n",
            " [ 0  0  0  0  0 14  0  0  0  0  0  0]\n",
            " [ 0  0  0  0  0  0 17  0  0  0  0  0]\n",
            " [ 0  0  0  0  0  0  0 18  0  0  0  0]\n",
            " [ 0  0  0  0  0  0  0  0 14  0  0  0]\n",
            " [ 0  0  0  0  0  0  0  0  0 22  0  0]\n",
            " [ 0 15  0  0  0  0  0  0  0  0  1  0]\n",
            " [ 0  0  0  0  0  0  0  0  0  0  0 22]]\n",
            "\n",
            "\n",
            "MLP Neural Network Evaluation:\n",
            "              precision    recall  f1-score   support\n",
            "\n",
            "           1       1.00      1.00      1.00        38\n",
            "           2       0.81      0.98      0.89        53\n",
            "           3       1.00      1.00      1.00        46\n",
            "           4       1.00      1.00      1.00        26\n",
            "           7       1.00      1.00      1.00        17\n",
            "           8       1.00      1.00      1.00        14\n",
            "           9       1.00      1.00      1.00        17\n",
            "          10       1.00      1.00      1.00        18\n",
            "          11       1.00      1.00      1.00        14\n",
            "          13       1.00      1.00      1.00        22\n",
            "          14       0.80      0.25      0.38        16\n",
            "          15       1.00      1.00      1.00        22\n",
            "\n",
            "    accuracy                           0.96       303\n",
            "   macro avg       0.97      0.94      0.94       303\n",
            "weighted avg       0.96      0.96      0.95       303\n",
            "\n",
            "Confusion Matrix:\n",
            "[[38  0  0  0  0  0  0  0  0  0  0  0]\n",
            " [ 0 52  0  0  0  0  0  0  0  0  1  0]\n",
            " [ 0  0 46  0  0  0  0  0  0  0  0  0]\n",
            " [ 0  0  0 26  0  0  0  0  0  0  0  0]\n",
            " [ 0  0  0  0 17  0  0  0  0  0  0  0]\n",
            " [ 0  0  0  0  0 14  0  0  0  0  0  0]\n",
            " [ 0  0  0  0  0  0 17  0  0  0  0  0]\n",
            " [ 0  0  0  0  0  0  0 18  0  0  0  0]\n",
            " [ 0  0  0  0  0  0  0  0 14  0  0  0]\n",
            " [ 0  0  0  0  0  0  0  0  0 22  0  0]\n",
            " [ 0 12  0  0  0  0  0  0  0  0  4  0]\n",
            " [ 0  0  0  0  0  0  0  0  0  0  0 22]]\n",
            "\n",
            "\n"
          ]
        }
      ]
    },
    {
      "cell_type": "markdown",
      "source": [
        "0: No anomalies\n",
        "1: Separation of Duty (SoD) violation - single subject with read and write access to sensitive data\n",
        "2: Improper privilege assignment\n",
        "3: Critical system file modification\n",
        "4: Incorrect type usage\n",
        "5: Domain transition issues\n",
        "6: Mislabeled files or processes\n",
        "7: Unauthorized network access\n",
        "8: Separation of Duty (SoD) violation - single subject with access to multiple mutually exclusive roles\n",
        "9: Contradictory type transitions for the same process\n",
        "10: Missing necessary file access for system processes"
      ],
      "metadata": {
        "id": "elP7aIAgS8rN"
      }
    },
    {
      "cell_type": "code",
      "source": [
        "objectclass_df = pd.read_csv('/content/Data/objectclass.csv')\n",
        "attributes_df = pd.read_csv('/content/Data/attributes.csv')\n",
        "violations_df = pd.read_csv('/content/Data/new_filtered_separated_rules.csv')"
      ],
      "metadata": {
        "id": "EW7cMgXZ1Kos"
      },
      "execution_count": null,
      "outputs": []
    },
    {
      "cell_type": "code",
      "source": [
        "# Create a graph\n",
        "G = nx.Graph()\n",
        "\n",
        "# Add nodes and edges from attributes and object classes\n",
        "for index, row in attributes_df.iterrows():\n",
        "    attribute = row['attribute']\n",
        "    types = row['types'].split(',')\n",
        "    for t in types:\n",
        "        G.add_node(t, type=attribute)\n",
        "        G.add_edge(attribute, t)\n",
        "\n",
        "for index, row in objectclass_df.iterrows():\n",
        "    object_class = row['object_class']\n",
        "    permissions = row['permissions'].split(',')\n",
        "    for perm in permissions:\n",
        "        G.add_node(perm, type='permission')\n",
        "        G.add_edge(object_class, perm)\n"
      ],
      "metadata": {
        "id": "IaN4Iz6h01Eq"
      },
      "execution_count": null,
      "outputs": []
    },
    {
      "cell_type": "code",
      "source": [
        "# Add nodes and edges for violations\n",
        "for index, row in violations_df.iterrows():\n",
        "    source = row['source_type']\n",
        "    target = row['target_type']\n",
        "    obj_class = row['object_class']\n",
        "    perms = row['permissions'].split(',')\n",
        "\n",
        "    # Add nodes for source, target, and object class\n",
        "    G.add_node(source, type='source_type')\n",
        "    G.add_node(target, type='target_type')\n",
        "    G.add_node(obj_class, type='object_class')\n",
        "\n",
        "    # Add edges between source, target, object class, and permissions\n",
        "    G.add_edge(source, target)\n",
        "    G.add_edge(source, obj_class)\n",
        "    for perm in perms:\n",
        "        G.add_edge(obj_class, perm)\n"
      ],
      "metadata": {
        "id": "Yz2HD_Es06Uo"
      },
      "execution_count": null,
      "outputs": []
    },
    {
      "cell_type": "code",
      "source": [
        "# Generate node embeddings using Node2Vec\n",
        "node2vec = Node2Vec(G, dimensions=64, walk_length=15, num_walks=200, workers=2)\n",
        "model = node2vec.fit(window=5, min_count=1, batch_words=4)\n"
      ],
      "metadata": {
        "colab": {
          "base_uri": "https://localhost:8080/",
          "height": 49,
          "referenced_widgets": [
            "4503adaae5be4a379405eafcca8ccb8c",
            "c5791fb0d48c474c9e39edba8ab4c37b",
            "56e74b258494418ead364a1428be6899",
            "985e0a7d808543c4be42289c4771f63e",
            "fdcf12b8391849239da052aa12746e7f",
            "5882c590417d4dcc87f0207445744ca5",
            "665bb3f9e8b4449d9bcbcc529c04a9f8",
            "d70ec59d1b284b0898301497fdb19a14",
            "fe08e100d6fd4aa8a01f8ffdf9e38483",
            "ac17e765a7444fa8962bae2dbcf96ddc",
            "20d2c8895f704eb7916622590ed68f17"
          ]
        },
        "id": "ygC2pcKS08P1",
        "outputId": "6e93041c-06a9-4bc0-dac9-1b65879405b7"
      },
      "execution_count": null,
      "outputs": [
        {
          "output_type": "display_data",
          "data": {
            "text/plain": [
              "Computing transition probabilities:   0%|          | 0/144 [00:00<?, ?it/s]"
            ],
            "application/vnd.jupyter.widget-view+json": {
              "version_major": 2,
              "version_minor": 0,
              "model_id": "4503adaae5be4a379405eafcca8ccb8c"
            }
          },
          "metadata": {}
        }
      ]
    },
    {
      "cell_type": "code",
      "source": [
        "# Create embeddings for the source, target, and object classes\n",
        "def get_embedding(row):\n",
        "    source_emb = model.wv[row['source_type']]\n",
        "    target_emb = model.wv[row['target_type']]\n",
        "    obj_class_emb = model.wv[row['object_class']]\n",
        "    return (source_emb + target_emb + obj_class_emb) / 3\n",
        "\n",
        "violations_df['embedding'] = violations_df.apply(get_embedding, axis=1)\n"
      ],
      "metadata": {
        "id": "C-jFjHF00-AR"
      },
      "execution_count": null,
      "outputs": []
    },
    {
      "cell_type": "code",
      "source": [
        "# Prepare data for classification\n",
        "X = list(violations_df['embedding'])\n",
        "y = violations_df['violation_class'].astype(int)\n"
      ],
      "metadata": {
        "id": "FpfN0DO510WT"
      },
      "execution_count": null,
      "outputs": []
    },
    {
      "cell_type": "code",
      "source": [
        "# Split data into train and test sets\n",
        "X_train, X_test, y_train, y_test = train_test_split(X, y, test_size=0.3, random_state=42)\n",
        "\n",
        "rf_clf = RandomForestClassifier(n_estimators=200, random_state=42)\n",
        "svm_clf = SVC(kernel='rbf', gamma='scale', random_state=42)\n",
        "mlp_clf = MLPClassifier(hidden_layer_sizes=(64, 32, 16), max_iter=500, random_state=42)\n"
      ],
      "metadata": {
        "id": "xYEpY2AK117_"
      },
      "execution_count": null,
      "outputs": []
    },
    {
      "cell_type": "code",
      "source": [
        "# Train the classifiers\n",
        "rf_clf.fit(X_train, y_train)\n",
        "svm_clf.fit(X_train, y_train)\n",
        "mlp_clf.fit(X_train, y_train)\n",
        "\n",
        "y_pred_rf = rf_clf.predict(X_test)\n",
        "y_pred_svm = svm_clf.predict(X_test)\n",
        "y_pred_mlp = mlp_clf.predict(X_test)"
      ],
      "metadata": {
        "id": "M66Xbacv2Qts"
      },
      "execution_count": null,
      "outputs": []
    },
    {
      "cell_type": "code",
      "source": [
        "# Evaluate the models\n",
        "def evaluate_model(y_true, y_pred, model_name):\n",
        "    print(f\"{model_name} Evaluation:\")\n",
        "    print(classification_report(y_true, y_pred))\n",
        "    print(\"Confusion Matrix:\")\n",
        "    print(confusion_matrix(y_true, y_pred))\n",
        "    print(\"\\n\")\n",
        "\n",
        "evaluate_model(y_test, y_pred_rf, \"Random Forest\")\n",
        "evaluate_model(y_test, y_pred_svm, \"SVM\")\n",
        "evaluate_model(y_test, y_pred_mlp, \"MLP Neural Network\")"
      ],
      "metadata": {
        "colab": {
          "base_uri": "https://localhost:8080/"
        },
        "id": "o2yB60tV2TTj",
        "outputId": "17587584-660b-4795-832f-f785eff3ad6b"
      },
      "execution_count": null,
      "outputs": [
        {
          "output_type": "stream",
          "name": "stdout",
          "text": [
            "Random Forest Evaluation:\n",
            "              precision    recall  f1-score   support\n",
            "\n",
            "           0       0.91      0.90      0.91       126\n",
            "           1       1.00      1.00      1.00        28\n",
            "           2       1.00      1.00      1.00        45\n",
            "           3       1.00      0.97      0.98        33\n",
            "           4       1.00      1.00      1.00        16\n",
            "           5       0.80      0.86      0.83        14\n",
            "           6       0.95      1.00      0.97        19\n",
            "           7       1.00      0.83      0.91        12\n",
            "           8       1.00      1.00      1.00        20\n",
            "           9       1.00      1.00      1.00        23\n",
            "          10       0.57      0.63      0.60        19\n",
            "\n",
            "    accuracy                           0.93       355\n",
            "   macro avg       0.93      0.93      0.93       355\n",
            "weighted avg       0.94      0.93      0.93       355\n",
            "\n",
            "Confusion Matrix:\n",
            "[[114   0   0   0   0   3   0   0   0   0   9]\n",
            " [  0  28   0   0   0   0   0   0   0   0   0]\n",
            " [  0   0  45   0   0   0   0   0   0   0   0]\n",
            " [  1   0   0  32   0   0   0   0   0   0   0]\n",
            " [  0   0   0   0  16   0   0   0   0   0   0]\n",
            " [  1   0   0   0   0  12   1   0   0   0   0]\n",
            " [  0   0   0   0   0   0  19   0   0   0   0]\n",
            " [  2   0   0   0   0   0   0  10   0   0   0]\n",
            " [  0   0   0   0   0   0   0   0  20   0   0]\n",
            " [  0   0   0   0   0   0   0   0   0  23   0]\n",
            " [  7   0   0   0   0   0   0   0   0   0  12]]\n",
            "\n",
            "\n",
            "SVM Evaluation:\n",
            "              precision    recall  f1-score   support\n",
            "\n",
            "           0       0.87      0.92      0.90       126\n",
            "           1       1.00      1.00      1.00        28\n",
            "           2       0.98      1.00      0.99        45\n",
            "           3       1.00      0.82      0.90        33\n",
            "           4       1.00      1.00      1.00        16\n",
            "           5       0.82      1.00      0.90        14\n",
            "           6       1.00      1.00      1.00        19\n",
            "           7       0.83      0.83      0.83        12\n",
            "           8       1.00      1.00      1.00        20\n",
            "           9       0.96      0.96      0.96        23\n",
            "          10       0.79      0.58      0.67        19\n",
            "\n",
            "    accuracy                           0.92       355\n",
            "   macro avg       0.93      0.92      0.92       355\n",
            "weighted avg       0.92      0.92      0.92       355\n",
            "\n",
            "Confusion Matrix:\n",
            "[[116   0   1   0   0   3   0   2   0   1   3]\n",
            " [  0  28   0   0   0   0   0   0   0   0   0]\n",
            " [  0   0  45   0   0   0   0   0   0   0   0]\n",
            " [  6   0   0  27   0   0   0   0   0   0   0]\n",
            " [  0   0   0   0  16   0   0   0   0   0   0]\n",
            " [  0   0   0   0   0  14   0   0   0   0   0]\n",
            " [  0   0   0   0   0   0  19   0   0   0   0]\n",
            " [  2   0   0   0   0   0   0  10   0   0   0]\n",
            " [  0   0   0   0   0   0   0   0  20   0   0]\n",
            " [  1   0   0   0   0   0   0   0   0  22   0]\n",
            " [  8   0   0   0   0   0   0   0   0   0  11]]\n",
            "\n",
            "\n",
            "MLP Neural Network Evaluation:\n",
            "              precision    recall  f1-score   support\n",
            "\n",
            "           0       0.97      0.89      0.93       126\n",
            "           1       1.00      1.00      1.00        28\n",
            "           2       1.00      1.00      1.00        45\n",
            "           3       1.00      1.00      1.00        33\n",
            "           4       1.00      1.00      1.00        16\n",
            "           5       0.82      1.00      0.90        14\n",
            "           6       1.00      1.00      1.00        19\n",
            "           7       1.00      0.83      0.91        12\n",
            "           8       1.00      1.00      1.00        20\n",
            "           9       1.00      1.00      1.00        23\n",
            "          10       0.61      0.89      0.72        19\n",
            "\n",
            "    accuracy                           0.95       355\n",
            "   macro avg       0.95      0.97      0.95       355\n",
            "weighted avg       0.96      0.95      0.95       355\n",
            "\n",
            "Confusion Matrix:\n",
            "[[112   0   0   0   0   3   0   0   0   0  11]\n",
            " [  0  28   0   0   0   0   0   0   0   0   0]\n",
            " [  0   0  45   0   0   0   0   0   0   0   0]\n",
            " [  0   0   0  33   0   0   0   0   0   0   0]\n",
            " [  0   0   0   0  16   0   0   0   0   0   0]\n",
            " [  0   0   0   0   0  14   0   0   0   0   0]\n",
            " [  0   0   0   0   0   0  19   0   0   0   0]\n",
            " [  2   0   0   0   0   0   0  10   0   0   0]\n",
            " [  0   0   0   0   0   0   0   0  20   0   0]\n",
            " [  0   0   0   0   0   0   0   0   0  23   0]\n",
            " [  2   0   0   0   0   0   0   0   0   0  17]]\n",
            "\n",
            "\n"
          ]
        }
      ]
    },
    {
      "cell_type": "code",
      "source": [],
      "metadata": {
        "id": "wYPSof0820mr"
      },
      "execution_count": null,
      "outputs": []
    }
  ]
}