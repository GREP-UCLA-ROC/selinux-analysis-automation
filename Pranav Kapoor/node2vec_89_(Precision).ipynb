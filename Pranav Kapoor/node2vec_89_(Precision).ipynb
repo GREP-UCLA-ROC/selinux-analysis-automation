{
  "cells": [
    {
      "cell_type": "code",
      "execution_count": null,
      "metadata": {},
      "outputs": [],
      "source": [
        "#   This is using node2vec, achieving 89% precision. Though the violations are not categorized properly."
      ]
    },
    {
      "cell_type": "code",
      "execution_count": null,
      "metadata": {
        "colab": {
          "base_uri": "https://localhost:8080/"
        },
        "collapsed": true,
        "id": "RTrxl7tdKEaL",
        "outputId": "31cd29dd-3772-4bf9-86d7-65d42a7a029d"
      },
      "outputs": [
        {
          "name": "stdout",
          "output_type": "stream",
          "text": [
            "Collecting node2vec\n",
            "  Downloading node2vec-0.4.6-py3-none-any.whl (7.0 kB)\n",
            "Requirement already satisfied: gensim<5.0.0,>=4.1.2 in /usr/local/lib/python3.10/dist-packages (from node2vec) (4.3.2)\n",
            "Requirement already satisfied: joblib<2.0.0,>=1.1.0 in /usr/local/lib/python3.10/dist-packages (from node2vec) (1.4.2)\n",
            "Collecting networkx<3.0,>=2.5 (from node2vec)\n",
            "  Downloading networkx-2.8.8-py3-none-any.whl (2.0 MB)\n",
            "\u001b[2K     \u001b[90m━━━━━━━━━━━━━━━━━━━━━━━━━━━━━━━━━━━━━━━━\u001b[0m \u001b[32m2.0/2.0 MB\u001b[0m \u001b[31m25.9 MB/s\u001b[0m eta \u001b[36m0:00:00\u001b[0m\n",
            "\u001b[?25hRequirement already satisfied: numpy<2.0.0,>=1.19.5 in /usr/local/lib/python3.10/dist-packages (from node2vec) (1.25.2)\n",
            "Requirement already satisfied: tqdm<5.0.0,>=4.55.1 in /usr/local/lib/python3.10/dist-packages (from node2vec) (4.66.4)\n",
            "Requirement already satisfied: scipy>=1.7.0 in /usr/local/lib/python3.10/dist-packages (from gensim<5.0.0,>=4.1.2->node2vec) (1.11.4)\n",
            "Requirement already satisfied: smart-open>=1.8.1 in /usr/local/lib/python3.10/dist-packages (from gensim<5.0.0,>=4.1.2->node2vec) (7.0.4)\n",
            "Requirement already satisfied: wrapt in /usr/local/lib/python3.10/dist-packages (from smart-open>=1.8.1->gensim<5.0.0,>=4.1.2->node2vec) (1.14.1)\n",
            "Installing collected packages: networkx, node2vec\n",
            "  Attempting uninstall: networkx\n",
            "    Found existing installation: networkx 3.3\n",
            "    Uninstalling networkx-3.3:\n",
            "      Successfully uninstalled networkx-3.3\n",
            "\u001b[31mERROR: pip's dependency resolver does not currently take into account all the packages that are installed. This behaviour is the source of the following dependency conflicts.\n",
            "torch 2.3.1+cu121 requires nvidia-cublas-cu12==12.1.3.1; platform_system == \"Linux\" and platform_machine == \"x86_64\", which is not installed.\n",
            "torch 2.3.1+cu121 requires nvidia-cuda-cupti-cu12==12.1.105; platform_system == \"Linux\" and platform_machine == \"x86_64\", which is not installed.\n",
            "torch 2.3.1+cu121 requires nvidia-cuda-nvrtc-cu12==12.1.105; platform_system == \"Linux\" and platform_machine == \"x86_64\", which is not installed.\n",
            "torch 2.3.1+cu121 requires nvidia-cuda-runtime-cu12==12.1.105; platform_system == \"Linux\" and platform_machine == \"x86_64\", which is not installed.\n",
            "torch 2.3.1+cu121 requires nvidia-cudnn-cu12==8.9.2.26; platform_system == \"Linux\" and platform_machine == \"x86_64\", which is not installed.\n",
            "torch 2.3.1+cu121 requires nvidia-cufft-cu12==11.0.2.54; platform_system == \"Linux\" and platform_machine == \"x86_64\", which is not installed.\n",
            "torch 2.3.1+cu121 requires nvidia-curand-cu12==10.3.2.106; platform_system == \"Linux\" and platform_machine == \"x86_64\", which is not installed.\n",
            "torch 2.3.1+cu121 requires nvidia-cusolver-cu12==11.4.5.107; platform_system == \"Linux\" and platform_machine == \"x86_64\", which is not installed.\n",
            "torch 2.3.1+cu121 requires nvidia-cusparse-cu12==12.1.0.106; platform_system == \"Linux\" and platform_machine == \"x86_64\", which is not installed.\n",
            "torch 2.3.1+cu121 requires nvidia-nccl-cu12==2.20.5; platform_system == \"Linux\" and platform_machine == \"x86_64\", which is not installed.\n",
            "torch 2.3.1+cu121 requires nvidia-nvtx-cu12==12.1.105; platform_system == \"Linux\" and platform_machine == \"x86_64\", which is not installed.\u001b[0m\u001b[31m\n",
            "\u001b[0mSuccessfully installed networkx-2.8.8 node2vec-0.4.6\n"
          ]
        }
      ],
      "source": [
        "!pip install node2vec"
      ]
    },
    {
      "cell_type": "code",
      "execution_count": null,
      "metadata": {
        "id": "N6EbEz5PM0dJ"
      },
      "outputs": [],
      "source": [
        "import pandas as pd\n",
        "import networkx as nx\n",
        "from node2vec import Node2Vec\n",
        "from sklearn.model_selection import train_test_split\n",
        "from sklearn.ensemble import IsolationForest\n",
        "from sklearn.neighbors import LocalOutlierFactor\n",
        "from sklearn.svm import OneClassSVM\n",
        "import numpy as np"
      ]
    },
    {
      "cell_type": "code",
      "execution_count": null,
      "metadata": {
        "id": "S5CfgPYMKFdn"
      },
      "outputs": [],
      "source": [
        "import pandas as pd\n",
        "import networkx as nx\n",
        "from node2vec import Node2Vec\n",
        "\n",
        "# Loading data\n",
        "selinux_data = pd.read_csv('/content/Data/SELinuxRealTE.csv')\n",
        "attributes_data = pd.read_csv('/content/Data/attributes.csv')\n",
        "objectclass_data = pd.read_csv('/content/Data/objectclass.csv')"
      ]
    },
    {
      "cell_type": "code",
      "execution_count": null,
      "metadata": {
        "id": "rtV4DbxDNWxC"
      },
      "outputs": [],
      "source": [
        "# Creating an empty directed graph\n",
        "G_selinux = nx.DiGraph()\n",
        "\n",
        "# Add nodes and edges from SELinuxRealTE.csv\n",
        "for index, row in selinux_data.iterrows():\n",
        "    source = row['Source']\n",
        "    target = row['Target']\n",
        "    object_class = row['ObjectClass']\n",
        "    permission = row['Permission']\n",
        "    G_selinux.add_edge(source, target, object_class=object_class, permission=permission)"
      ]
    },
    {
      "cell_type": "code",
      "execution_count": null,
      "metadata": {
        "id": "mxTmf7d6NeNV"
      },
      "outputs": [],
      "source": [
        "# Creating an empty directed graph\n",
        "G_attributes = nx.DiGraph()\n",
        "\n",
        "# Add attributes to nodes from attributes.csv\n",
        "for index, row in attributes_data.iterrows():\n",
        "    node = row['1']\n",
        "    attributes = row['2'].split(', ')\n",
        "    G_attributes.add_node(node)\n",
        "    for attr in attributes:\n",
        "        G_attributes.add_edge(node, attr)\n"
      ]
    },
    {
      "cell_type": "code",
      "execution_count": null,
      "metadata": {
        "id": "Z7oexYl3RvQt"
      },
      "outputs": [],
      "source": [
        "# Creating objectclass graph\n",
        "G_objectclass = nx.Graph()\n",
        "\n",
        "# Adding object class permissions\n",
        "for index, row in objectclass_data.iterrows():\n",
        "    object_class = row['Name']\n",
        "    permissions = row['Permissions'].split(',')\n",
        "    G_objectclass.add_node(object_class)\n",
        "    for perm in permissions:\n",
        "        G_objectclass.add_edge(object_class, perm)"
      ]
    },
    {
      "cell_type": "code",
      "execution_count": null,
      "metadata": {
        "colab": {
          "base_uri": "https://localhost:8080/",
          "height": 49,
          "referenced_widgets": [
            "5e8fcecb8fee47a6ac37b1b33f5d45bd",
            "09e47900479a45ad89fdf3fabf844534",
            "2fa9b1b9c34f40dbab0933eaf5aa7a27",
            "c45edacc44d94b64b522ef8ec3fe432b",
            "06792ae4ecae4d4d8d1ff1353b279c33",
            "00c27b74af294425a3a9bc9b30f904f9",
            "4a8f311f68d14ccfa144016ba824c502",
            "8193924dc30249f8937d547eb5bb0ecd",
            "471c6e97c6b04c31ae10196805cbb6c2",
            "6f1e2f3d24ca478ebe93f55f22b9d01c",
            "5687fdb293c048a5a53f91bed76abec0"
          ]
        },
        "id": "0IWSPqbrR1pf",
        "outputId": "e7c43170-7bc2-4319-d390-37c83badfb83"
      },
      "outputs": [
        {
          "data": {
            "application/vnd.jupyter.widget-view+json": {
              "model_id": "5e8fcecb8fee47a6ac37b1b33f5d45bd",
              "version_major": 2,
              "version_minor": 0
            },
            "text/plain": [
              "Computing transition probabilities:   0%|          | 0/4721 [00:00<?, ?it/s]"
            ]
          },
          "metadata": {},
          "output_type": "display_data"
        }
      ],
      "source": [
        "# Generating node2vec embeddings with attributes\n",
        "node2vec = Node2Vec(G_selinux, dimensions=64, walk_length=30, num_walks=200, workers=4)  # Initialize Node2Vec\n"
      ]
    },
    {
      "cell_type": "code",
      "execution_count": null,
      "metadata": {
        "id": "JxROW19sR63n"
      },
      "outputs": [],
      "source": [
        "# Precomputing the probabilities and generating walks\n",
        "model = node2vec.fit(window=10, min_count=1, batch_words=4)"
      ]
    },
    {
      "cell_type": "code",
      "execution_count": null,
      "metadata": {
        "id": "idInxjSYbOba"
      },
      "outputs": [],
      "source": [
        "# Get node embeddings\n",
        "embeddings_selinux = {node: model.wv[node] for node in G_selinux.nodes}"
      ]
    },
    {
      "cell_type": "code",
      "execution_count": null,
      "metadata": {
        "colab": {
          "base_uri": "https://localhost:8080/",
          "height": 81,
          "referenced_widgets": [
            "eba099dc02c6467bbe843ec2f068c66f",
            "c63570374c0c4e33aed0e1b93d878b6c",
            "b98817b881364052b379b7a84187d401",
            "93da2da9d6344d5caa6d3b7b055ce899",
            "97e30b2f08f948f1abc0b8dd4ee610e2",
            "4b987b8e4b9141319870c0e5339bfd19",
            "10c0bc3c149442289b25fa0e3dc2e86f",
            "14df78f864c544319b44554f4353c475",
            "ea6ebdab7efc43e190054a6d35d7e809",
            "8f2aded6ce2448ee80f3a53fb22e1e65",
            "249e13937fe541e29220ad300885b32f",
            "5fab68b000a048d0bad6b250f42775d7",
            "0e7dd6890de64f9c83291e38a28f6a85",
            "d34d258850184c4d82d711f89db58375",
            "5fda27cb16f04b94afdb4f1971354646",
            "8babbb8e218740fab6f8e0914ad665b9",
            "e21e2e0f441e488ba465a6b7b61d3f19",
            "833d4dfb30d841b6a1acd48dc972a145",
            "22a3896f2b3441e3989752f6b5e5c3b4",
            "e294ad2e7d194d8b9dd1687933e0fa8f",
            "a788319ebf614a68b56dab0c03678f07",
            "d551929c3ad44a8caf9718f2edc2c9a3"
          ]
        },
        "id": "aKgxWfZRc3ER",
        "outputId": "a4260248-d6d8-4a70-e43e-6ffb0972db7b"
      },
      "outputs": [
        {
          "data": {
            "application/vnd.jupyter.widget-view+json": {
              "model_id": "eba099dc02c6467bbe843ec2f068c66f",
              "version_major": 2,
              "version_minor": 0
            },
            "text/plain": [
              "Computing transition probabilities:   0%|          | 0/5234 [00:00<?, ?it/s]"
            ]
          },
          "metadata": {},
          "output_type": "display_data"
        },
        {
          "data": {
            "application/vnd.jupyter.widget-view+json": {
              "model_id": "5fab68b000a048d0bad6b250f42775d7",
              "version_major": 2,
              "version_minor": 0
            },
            "text/plain": [
              "Computing transition probabilities:   0%|          | 0/410 [00:00<?, ?it/s]"
            ]
          },
          "metadata": {},
          "output_type": "display_data"
        }
      ],
      "source": [
        "# Applying node2vec to attribute and objectclass graphs\n",
        "node2vec_attributes = Node2Vec(G_attributes, dimensions=64, walk_length=30, num_walks=200, workers=4)\n",
        "model_attributes = node2vec_attributes.fit(window=10, min_count=1, batch_words=4)\n",
        "embeddings_attributes = {node: model_attributes.wv[node] for node in G_attributes.nodes}\n",
        "\n",
        "node2vec_objectclass = Node2Vec(G_objectclass, dimensions=64, walk_length=30, num_walks=200, workers=4)\n",
        "model_objectclass = node2vec_objectclass.fit(window=10, min_count=1, batch_words=4)\n",
        "embeddings_objectclass = {node: model_objectclass.wv[node] for node in G_objectclass.nodes}"
      ]
    },
    {
      "cell_type": "code",
      "execution_count": null,
      "metadata": {
        "id": "briG98WAsBFV"
      },
      "outputs": [],
      "source": [
        "# Combine embeddings into a single dictionary\n",
        "all_embeddings = {}"
      ]
    },
    {
      "cell_type": "code",
      "execution_count": null,
      "metadata": {
        "id": "o5sCC4c8xE7P"
      },
      "outputs": [],
      "source": [
        "# Add SELinux embeddings\n",
        "for node, emb in embeddings_selinux.items():\n",
        "    all_embeddings[node] = emb"
      ]
    },
    {
      "cell_type": "code",
      "execution_count": null,
      "metadata": {
        "id": "-XLQu0PkxGlc"
      },
      "outputs": [],
      "source": [
        "# Add attributes embeddings\n",
        "for node, emb in embeddings_attributes.items():\n",
        "    if node in all_embeddings:\n",
        "        all_embeddings[node] = np.concatenate((all_embeddings[node], emb))\n",
        "    else:\n",
        "        all_embeddings[node] = emb"
      ]
    },
    {
      "cell_type": "code",
      "execution_count": null,
      "metadata": {
        "id": "kzBv-JBYxIHG"
      },
      "outputs": [],
      "source": [
        "# Add object class embeddings\n",
        "for node, emb in embeddings_objectclass.items():\n",
        "    if node in all_embeddings:\n",
        "        all_embeddings[node] = np.concatenate((all_embeddings[node], emb))\n",
        "    else:\n",
        "        all_embeddings[node] = emb"
      ]
    },
    {
      "cell_type": "code",
      "execution_count": null,
      "metadata": {
        "id": "TZ3EKQgixJpM"
      },
      "outputs": [],
      "source": [
        "import numpy as np\n",
        "\n",
        "def get_embedding(node, embeddings, dimension):\n",
        "    \"\"\"Retrieve embedding for a node or return a zero vector if not found.\"\"\"\n",
        "    if node in embeddings:\n",
        "        return embeddings[node]\n",
        "    else:\n",
        "        return np.zeros(dimension)\n",
        "\n",
        "def pad_embeddings(embeddings, dimension):\n",
        "    \"\"\"Pad embeddings to ensure they all have the same dimension.\"\"\"\n",
        "    for node in embeddings:\n",
        "        if len(embeddings[node]) < dimension:\n",
        "            embeddings[node] = np.concatenate((embeddings[node], np.zeros(dimension - len(embeddings[node]))))\n",
        "    return embeddings\n"
      ]
    },
    {
      "cell_type": "code",
      "execution_count": null,
      "metadata": {
        "id": "wY_tgxkTxLiC"
      },
      "outputs": [],
      "source": [
        "# The dimension for each embedding type\n",
        "dimension_selinux = 64\n",
        "dimension_attributes = 64\n",
        "dimension_objectclass = 64\n",
        "\n",
        "# Padding embeddings to ensure they all have the same length\n",
        "embeddings_selinux = pad_embeddings(embeddings_selinux, dimension_selinux)\n",
        "embeddings_attributes = pad_embeddings(embeddings_attributes, dimension_attributes)\n",
        "embeddings_objectclass = pad_embeddings(embeddings_objectclass, dimension_objectclass)\n",
        "\n",
        "# Combining embeddings into a single dictionary\n",
        "all_embeddings = {}\n",
        "for node in set(embeddings_selinux) | set(embeddings_attributes) | set(embeddings_objectclass):\n",
        "    emb_selinux = get_embedding(node, embeddings_selinux, dimension_selinux)\n",
        "    emb_attributes = get_embedding(node, embeddings_attributes, dimension_attributes)\n",
        "    emb_objectclass = get_embedding(node, embeddings_objectclass, dimension_objectclass)\n",
        "    combined_emb = np.concatenate((emb_selinux, emb_attributes, emb_objectclass))\n",
        "    all_embeddings[node] = combined_emb\n"
      ]
    },
    {
      "cell_type": "code",
      "execution_count": null,
      "metadata": {
        "id": "Njo4srBJx3yW"
      },
      "outputs": [],
      "source": [
        "# Convert the combined embeddings to a numpy array\n",
        "embedding_matrix = np.array(list(all_embeddings.values()))\n",
        "\n",
        "# Generate a list of node names corresponding to the embeddings\n",
        "node_names = list(all_embeddings.keys())\n",
        "\n",
        "# Split the data into training and testing sets\n",
        "X_train, X_test, y_train, y_test = train_test_split(embedding_matrix, np.zeros(len(embedding_matrix)), test_size=0.2, random_state=42)\n"
      ]
    },
    {
      "cell_type": "code",
      "execution_count": null,
      "metadata": {
        "id": "o27eo2LAx76a"
      },
      "outputs": [],
      "source": [
        "# Train Isolation Forest\n",
        "isolation_forest = IsolationForest(contamination=0.1, random_state=42)\n",
        "isolation_forest.fit(X_train)\n",
        "\n",
        "# Predict anomalies using Isolation Forest\n",
        "pred_if = isolation_forest.predict(X_test)\n",
        "anomalies_if = [node_names[i] for i, pred in enumerate(pred_if) if pred == -1]"
      ]
    },
    {
      "cell_type": "code",
      "execution_count": null,
      "metadata": {
        "id": "95LuL6O4yCKD"
      },
      "outputs": [],
      "source": [
        "# Predict anomalies using Local Outlier Factor\n",
        "lof = LocalOutlierFactor(n_neighbors=20, contamination=0.1)\n",
        "pred_lof = lof.fit_predict(X_test)\n",
        "anomalies_lof = [node_names[i] for i, pred in enumerate(pred_lof) if pred == -1]\n"
      ]
    },
    {
      "cell_type": "code",
      "execution_count": null,
      "metadata": {
        "id": "G_ocV4U1yHYZ"
      },
      "outputs": [],
      "source": [
        "# Predict anomalies using One-Class SVM\n",
        "ocsvm = OneClassSVM(kernel='rbf', gamma=0.001, nu=0.1)\n",
        "ocsvm.fit(X_train)\n",
        "pred_ocsvm = ocsvm.predict(X_test)\n",
        "anomalies_ocsvm = [node_names[i] for i, pred in enumerate(pred_ocsvm) if pred == -1]"
      ]
    },
    {
      "cell_type": "code",
      "execution_count": null,
      "metadata": {
        "colab": {
          "base_uri": "https://localhost:8080/"
        },
        "id": "ohFE_wGPyNeL",
        "outputId": "ee23b022-73da-4ecb-c8cd-ffe0f695f50a"
      },
      "outputs": [
        {
          "name": "stdout",
          "output_type": "stream",
          "text": [
            "Anomalies detected by Isolation Forest:\n",
            "['cgconfig_initrc_exec_t', 'afs_ka_client_packet_t', 'tor_client_packet_t', 'motion_exec_t', 'asterisk_var_lib_t', 'staff_usertype', 'ssh_server_packet_t', 'afs_fs_client_packet_t', 'netlabel_mgmt_unit_file_t', 'rlogind_t', 'dovecot_spool_t', ' update', 'postfix_master_t', 'gssproxy_exec_t', 'rtsp_client_packet_t', 'pegasus_openlmi_storage_tmp_t', 'mojomojo_script_exec_t', 'telepathy_sofiasip_t', 'piranha_domain', 'getty_tmp_t', 'unconfined_service_t', 'asterisk_t', 'gds_db_client_packet_t', 'sepgsql_safe_lang_t', 'zarafa_gateway_var_run_t', 'pki_tps_script_exec_t', 'mon_procd_t', ' recv_msg', 'systemd_logind_t', 'tape_device_t', 'ntop_tmp_t', 'tcs_client_packet_t', 'certmaster_t', 'rsync_data_t', 'httpd_unit_file_t', 'rngd_t', 'NetworkManager_etc_t', 'ntop_exec_t', 'nutups_cgi_content_t', 'lldpad_var_lib_t', 'milter_data_type', 'puppet_log_t', ' getserv', 'apmd_tmp_t', 'krb5_home_t', 'printer_t', 'kismet_var_run_t', 'inetd_child_port_t', 'dcc_server_packet_t', 'qpasa_agent_client_packet_t', 'dnssec_trigger_exec_t', 'hddtemp_etc_t', 'hostname_t', ' setfscreate', 'mplayer_home_t', 'certmaster_var_lib_t', 'mountd_client_packet_t', ' mounton', 'readahead_var_run_t', 'ipa_custodia_pki_tomcat_exec_t', 'piranha_web_t', 'bfd_control_port_t', 'ftp_client_packet_t', 'sge_spool_t', 'ypbind_exec_t', 'iptables_var_lib_t', 'drbd_tmp_t', 'openshift_rw_content_t', 'tftp_server_packet_t', 'postfix_cleanup_tmp_t', 'sge_job_ssh_t', 'dccm_server_packet_t', 'cupsd_interface_t', 'tvtime_input_xevent_t', 'condor_collector_exec_t', 'pktcable_cops_server_packet_t', 'sblim_initrc_exec_t', 'snort_var_run_t', 'daap_server_packet_t', 'tangd_cache_t', 'sshd_initrc_exec_t', 'neutron_unit_file_t', 'lockdev_lock_t', 'dccp_recv', 'nrpe_t', 'prelude_var_run_t', 'lsmd_t', 'redis_tmp_t', 'NetworkManager_var_run_t', 'httpd_user_htaccess_t', 'statsd_client_packet_t', 'osapi_compute_client_packet_t', 'abrt_retrace_coredump_t', 'container_t', 'openshift_cron_t', 'uml_tmp_t', 'tcpd_t', 'groupd_var_log_t', 'rhnsd_initrc_exec_t', 'mediawiki_tmp_t', 'glusterd_var_lib_t', 'plymouthd_t', ' setsecparam', 'thin_exec_t', 'prelude_initrc_exec_t', 'neutron_client_packet_t', 'puppet_server_packet_t', 'condor_var_run_t', 'pki_tps_var_lib_t', 'dhcp_etc_t', 'spamc_tmp_t', 'xenfs_t', 'netlabel_peer_type', 'updpwd_t', 'opendnssec_tmp_t', 'minissdpd_exec_t', ' send', 'jboss_debug_client_packet_t', 'gear_server_packet_t']\n",
            "Anomalies detected by Local Outlier Factor:\n",
            "['anaconda_t', 'mongod_t', 'delete', 'conntrackd_var_run_t', 'dovecot_var_log_t', 'tftpdir_t', 'pulseaudio_client_packet_t', 'prosody_var_run_t', 'munin_plugin_state_t', 'user_gkeyringd_t', 'mojomojo_script_exec_t', 'vlock_exec_t', 'nagios_plugin_domain', 'lttng_sessiond_tmpfs_t', 'gds_db_client_packet_t', 'sensord_exec_t', 'puppet_client_packet_t', 'mailbox_server_packet_t', 'vdagent_exec_t', 'sysctl_crypto_t', 'rasdaemon_unit_file_t', 'httpd_keytab_t', 'pegasus_conf_t', 'podsleuth_cache_t', 'user_ssh_agent_t', 'qmail_send_t', 'certmaster_t', 'httpd_unit_file_t', 'rngd_t', 'telnetd_port_t', 'udp_socket', 'mysqlmanagerd_initrc_exec_t', 'zabbix_script_t', 'pdns_unit_file_t', 'kismet_var_run_t', 'ionixnetmon_client_packet_t', 'games_input_xevent_t', 'rawip_socket', 'antivirus_exec_t', 'clogd_var_run_t', 'httpd_t', 'chronyd_server_packet_t', 'virt_port_t', 'bcfg2_t', 'dcerpcd_var_run_t', 'haproxy_var_lib_t', 'portmap_server_packet_t', 'cockpit_unit_file_t', 'kubernetes_server_packet_t', 'systemd_home_t', 'logwatch_var_run_t', 'ftp_client_packet_t', 'sge_spool_t', 'iptables_var_lib_t', 'vmware_sys_conf_t', 'sandbox_min_client_t', 'telepathy_msn_tmp_t', 'spamd_update_exec_t', 'varnishd_exec_t', 'wdmd_t', 'timemaster_var_run_t', 'kerberos_port_t', 'httpd_script_exec_type', 'use', 'dccm_server_packet_t', 'nodejs_debug_server_packet_t', 'cupsd_interface_t', 'mdadm_tmp_t', 'dovecot_passwd_t', 'ddclient_var_t', 'dhcpc_tmp_t', 'nfsd_fs_t', 'abrt_upload_watch_exec_t', 'dccp_recv', 'srvsvcd_var_run_t', 'oracleasm_t', 'geneve_port_t', 'mcelog_var_run_t', 'telnetd_var_run_t', 'git_script_tmp_t', 'container_t', 'ftp_port_t', 'cinder_api_t', 'antivirus_home_t', 'conntrackd_exec_t', 'freeipmi_ipmidetectd_t', 'ssdp_port_t', 'getty_unit_file_t', 'prelude_initrc_exec_t', 'install_t', 'apmd_t', 'neutron_client_packet_t', 'postfix_smtpd_tmp_t', 'innd_exec_t', 'systemd_resolved_t', 'mysqld_db_t', ' attach_queue', 'mediawiki_htaccess_t', 'systemd_importd_tmp_t', 'ecryptfs_t', 'ypserv_conf_t', 'dhcpc_client_packet_t', ' chown', 'vhostmd_t', 'lpd_tmp_t', 'ncftool_t', 'selinux_var_lib_t', 'shellinaboxd_port_t', 'zabbix_tmp_t', 'x_cursor', 'systemd_hostnamed_exec_t', 'irssi_t', 'conman_unit_file_t']\n",
            "Anomalies detected by One-Class SVM:\n",
            "['mongod_t', 'ricci_port_t', 'systemd_userdbd_unit_file_t', 'netutils_tmp_t', 'entropyd_initrc_exec_t', 'delete', 'dovecot_var_log_t', 'deltacloudd_exec_t', 'pulseaudio_client_packet_t', 'prosody_var_run_t', 'postfix_master_t', 'gssproxy_exec_t', 'rtsp_client_packet_t', 'mojomojo_script_exec_t', 'irc_conf_t', 'vlock_exec_t', 'unconfined_service_t', 'nagios_plugin_domain', 'gds_db_client_packet_t', 'sepgsql_safe_lang_t', 'sensord_exec_t', 'puppet_client_packet_t', 'pki_tps_script_exec_t', 'mon_procd_t', 'postfix_spool_t', 'sysctl_crypto_t', 'rasdaemon_unit_file_t', 'systemd_logind_t', 'chrome_sandbox_input_xevent_t', 'pegasus_conf_t', 'tape_device_t', 'qmail_send_t', 'certmaster_t', 'rsync_data_t', 'httpd_unit_file_t', 'dovecot_deliver_tmp_t', 'rngd_t', 'telnetd_port_t', 'udp_socket', 'lldpad_var_lib_t', 'mysqlmanagerd_initrc_exec_t', 'squid_exec_t', 'ricci_t', 'apmd_tmp_t', 'kismet_var_run_t', 'ulogd_exec_t', 'ionixnetmon_client_packet_t', 'games_input_xevent_t', 'antivirus_exec_t', 'clogd_var_run_t', 'httpd_t', 'dcc_server_packet_t', 'qpasa_agent_client_packet_t', 'virt_port_t', 'prelude_correlator_config_t', 'haproxy_var_lib_t', 'hostname_t', 'portmap_server_packet_t', 'cockpit_unit_file_t', ' setfscreate', 'mplayer_home_t', 'kubernetes_server_packet_t', 'mountd_client_packet_t', 'logwatch_var_run_t', 'ipa_custodia_pki_tomcat_exec_t', 'ftp_client_packet_t', 'opendnssec_exec_t', 'sge_spool_t', 'iptables_var_lib_t', 'auditadm_sudo_tmp_t', 'vmware_sys_conf_t', 'sandbox_x_client_tmpfs_t', 'sandbox_min_client_t', 'telepathy_msn_tmp_t', 'systemd_runtime_unit_file_t', 'varnishd_exec_t', 'glance_api_unit_file_t', 'wdmd_t', 'timemaster_var_run_t', 'httpd_script_exec_type', 'sge_job_ssh_t', 'dccm_server_packet_t', 'nodejs_debug_server_packet_t', 'cupsd_interface_t', 'condor_collector_exec_t', 'snort_var_run_t', 'dhcpc_tmp_t', 'tangd_cache_t', 'application_exec_type', 'nfsd_fs_t', 'zarafa_etc_t', 'dccp_recv', 'nrpe_t', 'lsmd_t', 'zebra_t', 'msgq', 'srvsvcd_var_run_t', 'NetworkManager_var_run_t', 'httpd_user_htaccess_t', 'oracleasm_t', 'osapi_compute_client_packet_t', 'abrt_retrace_coredump_t', 'git_script_tmp_t', 'container_t', 'cloudform_domain', 'ftp_port_t', 'cinder_api_t', 'mediawiki_tmp_t', 'conntrackd_exec_t', 'cachefiles_var_t', ' setpgid', 'freeipmi_ipmidetectd_t', 'thin_exec_t', 'prelude_initrc_exec_t', 'install_t', 'neutron_client_packet_t', 'pulseaudio_client', 'postfix_smtpd_tmp_t', 'puppet_server_packet_t', 'innd_exec_t', 'systemd_resolved_t', 'pki_tps_var_lib_t', 'dhcp_etc_t', 'slapd_keytab_t', 'mediawiki_htaccess_t', 'systemd_importd_tmp_t', 'opendnssec_tmp_t', 'minissdpd_exec_t', 'ypserv_conf_t', 'dhcpc_client_packet_t', ' chown', 'vhostmd_t', 'ncftool_t', 'selinux_var_lib_t', 'zabbix_tmp_t', 'jboss_debug_client_packet_t', 'ricci_modcluster_var_lib_t', 'conman_unit_file_t']\n"
          ]
        }
      ],
      "source": [
        "# Output anomalies for manual verification\n",
        "print(\"Anomalies detected by Isolation Forest:\")\n",
        "print(anomalies_if)\n",
        "\n",
        "print(\"Anomalies detected by Local Outlier Factor:\")\n",
        "print(anomalies_lof)\n",
        "\n",
        "print(\"Anomalies detected by One-Class SVM:\")\n",
        "print(anomalies_ocsvm)"
      ]
    },
    {
      "cell_type": "code",
      "execution_count": null,
      "metadata": {
        "colab": {
          "base_uri": "https://localhost:8080/"
        },
        "collapsed": true,
        "id": "jfpPUuEi4KYc",
        "outputId": "f66fc601-5184-4e1d-b0c2-ccc088a00fef"
      },
      "outputs": [
        {
          "name": "stdout",
          "output_type": "stream",
          "text": [
            "Number of anomalies detected by Isolation Forest: 119\n",
            "Number of anomalies detected by Local Outlier Factor: 113\n",
            "Number of anomalies detected by One-Class SVM: 138\n",
            "Proportion of anomalies detected by Isolation Forest: 10.54%\n",
            "Proportion of anomalies detected by Local Outlier Factor: 10.01%\n",
            "Proportion of anomalies detected by One-Class SVM: 12.22%\n"
          ]
        }
      ],
      "source": [
        "# # Number of anomalies detected by each method\n",
        "# num_anomalies_if = len(anomalies_if)\n",
        "# num_anomalies_lof = len(anomalies_lof)\n",
        "# num_anomalies_ocsvm = len(anomalies_ocsvm)\n",
        "\n",
        "# print(f\"Number of anomalies detected by Isolation Forest: {num_anomalies_if}\")\n",
        "# print(f\"Number of anomalies detected by Local Outlier Factor: {num_anomalies_lof}\")\n",
        "# print(f\"Number of anomalies detected by One-Class SVM: {num_anomalies_ocsvm}\")\n",
        "\n",
        "# # Proportion of anomalies detected by each method\n",
        "# proportion_anomalies_if = num_anomalies_if / len(X_test)\n",
        "# proportion_anomalies_lof = num_anomalies_lof / len(X_test)\n",
        "# proportion_anomalies_ocsvm = num_anomalies_ocsvm / len(X_test)\n",
        "\n",
        "# print(f\"Proportion of anomalies detected by Isolation Forest: {proportion_anomalies_if:.2%}\")\n",
        "# print(f\"Proportion of anomalies detected by Local Outlier Factor: {proportion_anomalies_lof:.2%}\")\n",
        "# print(f\"Proportion of anomalies detected by One-Class SVM: {proportion_anomalies_ocsvm:.2%}\")\n",
        "\n"
      ]
    },
    {
      "cell_type": "code",
      "execution_count": null,
      "metadata": {
        "colab": {
          "base_uri": "https://localhost:8080/",
          "height": 1000
        },
        "id": "r-hNhvIs5LMf",
        "outputId": "63534a3b-d4f9-4408-d7c7-5c9df585efe0"
      },
      "outputs": [
        {
          "data": {
            "image/png": "[encoded data removed]",
            "text/plain": [
              "<Figure size 1200x800 with 1 Axes>"
            ]
          },
          "metadata": {},
          "output_type": "display_data"
        },
        {
          "data": {
            "image/png": "[encoded data removed]",
            "text/plain": [
              "<Figure size 1200x800 with 1 Axes>"
            ]
          },
          "metadata": {},
          "output_type": "display_data"
        },
        {
          "data": {
            "image/png": "[encoded data removed]",
            "text/plain": [
              "<Figure size 1200x800 with 1 Axes>"
            ]
          },
          "metadata": {},
          "output_type": "display_data"
        }
      ],
      "source": [
        "from sklearn.manifold import TSNE\n",
        "import matplotlib.pyplot as plt\n",
        "\n",
        "# Reduce dimensions with t-SNE\n",
        "tsne = TSNE(n_components=2, random_state=42)\n",
        "X_embedded = tsne.fit_transform(X_test)\n",
        "\n",
        "# Creating a scatter plot for the anomalies\n",
        "def plot_anomalies(X_embedded, anomalies, title):\n",
        "    plt.figure(figsize=(12, 8))\n",
        "    plt.scatter(X_embedded[:, 0], X_embedded[:, 1], c='blue', label='Normal')\n",
        "\n",
        "    # Highlight anomalies\n",
        "    anomaly_indices = [node_names.index(node) for node in anomalies if node in node_names]\n",
        "    plt.scatter(X_embedded[anomaly_indices, 0], X_embedded[anomaly_indices, 1], c='red', label='Anomaly')\n",
        "\n",
        "    plt.title(title)\n",
        "    plt.legend()\n",
        "    plt.show()\n",
        "\n",
        "# Plot anomalies detected by each method\n",
        "plot_anomalies(X_embedded, anomalies_if, 'Anomalies detected by Isolation Forest')\n",
        "plot_anomalies(X_embedded, anomalies_lof, 'Anomalies detected by Local Outlier Factor')\n",
        "plot_anomalies(X_embedded, anomalies_ocsvm, 'Anomalies detected by One-Class SVM')\n"
      ]
    },
    {
      "cell_type": "code",
      "execution_count": null,
      "metadata": {
        "id": "k0RsQT9a6qIT"
      },
      "outputs": [],
      "source": [
        "def inject_anomalies(X, contamination=0.1):\n",
        "    \"\"\"Inject synthetic anomalies into the dataset.\"\"\"\n",
        "    np.random.seed(42)\n",
        "    n_anomalies = int(contamination * X.shape[0])\n",
        "    anomalies = np.random.uniform(low=-1, high=1, size=(n_anomalies, X.shape[1]))\n",
        "    X_with_anomalies = np.vstack([X, anomalies])\n",
        "    y_with_anomalies = np.hstack([np.zeros(X.shape[0]), np.ones(n_anomalies)])\n",
        "    return X_with_anomalies, y_with_anomalies\n",
        "\n",
        "# Inject synthetic anomalies into the test set\n",
        "X_test_with_anomalies, y_test_with_anomalies = inject_anomalies(X_test, contamination=0.1)\n",
        "\n",
        "\n"
      ]
    },
    {
      "cell_type": "code",
      "execution_count": null,
      "metadata": {
        "colab": {
          "base_uri": "https://localhost:8080/",
          "height": 75
        },
        "id": "Qj-MPaTG7HKq",
        "outputId": "9d8f55de-6bb8-4bed-c41b-525c75672e44"
      },
      "outputs": [
        {
          "data": {
            "text/html": [
              "<style>#sk-container-id-1 {color: black;background-color: white;}#sk-container-id-1 pre{padding: 0;}#sk-container-id-1 div.sk-toggleable {background-color: white;}#sk-container-id-1 label.sk-toggleable__label {cursor: pointer;display: block;width: 100%;margin-bottom: 0;padding: 0.3em;box-sizing: border-box;text-align: center;}#sk-container-id-1 label.sk-toggleable__label-arrow:before {content: \"▸\";float: left;margin-right: 0.25em;color: #696969;}#sk-container-id-1 label.sk-toggleable__label-arrow:hover:before {color: black;}#sk-container-id-1 div.sk-estimator:hover label.sk-toggleable__label-arrow:before {color: black;}#sk-container-id-1 div.sk-toggleable__content {max-height: 0;max-width: 0;overflow: hidden;text-align: left;background-color: #f0f8ff;}#sk-container-id-1 div.sk-toggleable__content pre {margin: 0.2em;color: black;border-radius: 0.25em;background-color: #f0f8ff;}#sk-container-id-1 input.sk-toggleable__control:checked~div.sk-toggleable__content {max-height: 200px;max-width: 100%;overflow: auto;}#sk-container-id-1 input.sk-toggleable__control:checked~label.sk-toggleable__label-arrow:before {content: \"▾\";}#sk-container-id-1 div.sk-estimator input.sk-toggleable__control:checked~label.sk-toggleable__label {background-color: #d4ebff;}#sk-container-id-1 div.sk-label input.sk-toggleable__control:checked~label.sk-toggleable__label {background-color: #d4ebff;}#sk-container-id-1 input.sk-hidden--visually {border: 0;clip: rect(1px 1px 1px 1px);clip: rect(1px, 1px, 1px, 1px);height: 1px;margin: -1px;overflow: hidden;padding: 0;position: absolute;width: 1px;}#sk-container-id-1 div.sk-estimator {font-family: monospace;background-color: #f0f8ff;border: 1px dotted black;border-radius: 0.25em;box-sizing: border-box;margin-bottom: 0.5em;}#sk-container-id-1 div.sk-estimator:hover {background-color: #d4ebff;}#sk-container-id-1 div.sk-parallel-item::after {content: \"\";width: 100%;border-bottom: 1px solid gray;flex-grow: 1;}#sk-container-id-1 div.sk-label:hover label.sk-toggleable__label {background-color: #d4ebff;}#sk-container-id-1 div.sk-serial::before {content: \"\";position: absolute;border-left: 1px solid gray;box-sizing: border-box;top: 0;bottom: 0;left: 50%;z-index: 0;}#sk-container-id-1 div.sk-serial {display: flex;flex-direction: column;align-items: center;background-color: white;padding-right: 0.2em;padding-left: 0.2em;position: relative;}#sk-container-id-1 div.sk-item {position: relative;z-index: 1;}#sk-container-id-1 div.sk-parallel {display: flex;align-items: stretch;justify-content: center;background-color: white;position: relative;}#sk-container-id-1 div.sk-item::before, #sk-container-id-1 div.sk-parallel-item::before {content: \"\";position: absolute;border-left: 1px solid gray;box-sizing: border-box;top: 0;bottom: 0;left: 50%;z-index: -1;}#sk-container-id-1 div.sk-parallel-item {display: flex;flex-direction: column;z-index: 1;position: relative;background-color: white;}#sk-container-id-1 div.sk-parallel-item:first-child::after {align-self: flex-end;width: 50%;}#sk-container-id-1 div.sk-parallel-item:last-child::after {align-self: flex-start;width: 50%;}#sk-container-id-1 div.sk-parallel-item:only-child::after {width: 0;}#sk-container-id-1 div.sk-dashed-wrapped {border: 1px dashed gray;margin: 0 0.4em 0.5em 0.4em;box-sizing: border-box;padding-bottom: 0.4em;background-color: white;}#sk-container-id-1 div.sk-label label {font-family: monospace;font-weight: bold;display: inline-block;line-height: 1.2em;}#sk-container-id-1 div.sk-label-container {text-align: center;}#sk-container-id-1 div.sk-container {/* jupyter's `normalize.less` sets `[hidden] { display: none; }` but bootstrap.min.css set `[hidden] { display: none !important; }` so we also need the `!important` here to be able to override the default hidden behavior on the sphinx rendered scikit-learn.org. See: https://github.com/scikit-learn/scikit-learn/issues/21755 */display: inline-block !important;position: relative;}#sk-container-id-1 div.sk-text-repr-fallback {display: none;}</style><div id=\"sk-container-id-1\" class=\"sk-top-container\"><div class=\"sk-text-repr-fallback\"><pre>IsolationForest(contamination=0.1, random_state=42)</pre><b>In a Jupyter environment, please rerun this cell to show the HTML representation or trust the notebook. <br />On GitHub, the HTML representation is unable to render, please try loading this page with nbviewer.org.</b></div><div class=\"sk-container\" hidden><div class=\"sk-item\"><div class=\"sk-estimator sk-toggleable\"><input class=\"sk-toggleable__control sk-hidden--visually\" id=\"sk-estimator-id-1\" type=\"checkbox\" checked><label for=\"sk-estimator-id-1\" class=\"sk-toggleable__label sk-toggleable__label-arrow\">IsolationForest</label><div class=\"sk-toggleable__content\"><pre>IsolationForest(contamination=0.1, random_state=42)</pre></div></div></div></div></div>"
            ],
            "text/plain": [
              "IsolationForest(contamination=0.1, random_state=42)"
            ]
          },
          "execution_count": 26,
          "metadata": {},
          "output_type": "execute_result"
        }
      ],
      "source": [
        "# Train Isolation Forest\n",
        "isolation_forest = IsolationForest(contamination=0.1, random_state=42, n_estimators = 100)\n",
        "isolation_forest.fit(X_train)\n"
      ]
    },
    {
      "cell_type": "code",
      "execution_count": null,
      "metadata": {
        "id": "iHq17njFFkvE"
      },
      "outputs": [],
      "source": [
        "# Train Local Outlier Factor\n",
        "lof = LocalOutlierFactor(n_neighbors=10, contamination=0.1)\n",
        "# Note: LOF does not have a fit method; it directly predicts on the data\n"
      ]
    },
    {
      "cell_type": "code",
      "execution_count": null,
      "metadata": {
        "colab": {
          "base_uri": "https://localhost:8080/",
          "height": 75
        },
        "id": "itDJHKTeFtxA",
        "outputId": "1dcc483c-c6e8-4a25-e084-f2d81d7c3978"
      },
      "outputs": [
        {
          "data": {
            "text/html": [
              "<style>#sk-container-id-2 {color: black;background-color: white;}#sk-container-id-2 pre{padding: 0;}#sk-container-id-2 div.sk-toggleable {background-color: white;}#sk-container-id-2 label.sk-toggleable__label {cursor: pointer;display: block;width: 100%;margin-bottom: 0;padding: 0.3em;box-sizing: border-box;text-align: center;}#sk-container-id-2 label.sk-toggleable__label-arrow:before {content: \"▸\";float: left;margin-right: 0.25em;color: #696969;}#sk-container-id-2 label.sk-toggleable__label-arrow:hover:before {color: black;}#sk-container-id-2 div.sk-estimator:hover label.sk-toggleable__label-arrow:before {color: black;}#sk-container-id-2 div.sk-toggleable__content {max-height: 0;max-width: 0;overflow: hidden;text-align: left;background-color: #f0f8ff;}#sk-container-id-2 div.sk-toggleable__content pre {margin: 0.2em;color: black;border-radius: 0.25em;background-color: #f0f8ff;}#sk-container-id-2 input.sk-toggleable__control:checked~div.sk-toggleable__content {max-height: 200px;max-width: 100%;overflow: auto;}#sk-container-id-2 input.sk-toggleable__control:checked~label.sk-toggleable__label-arrow:before {content: \"▾\";}#sk-container-id-2 div.sk-estimator input.sk-toggleable__control:checked~label.sk-toggleable__label {background-color: #d4ebff;}#sk-container-id-2 div.sk-label input.sk-toggleable__control:checked~label.sk-toggleable__label {background-color: #d4ebff;}#sk-container-id-2 input.sk-hidden--visually {border: 0;clip: rect(1px 1px 1px 1px);clip: rect(1px, 1px, 1px, 1px);height: 1px;margin: -1px;overflow: hidden;padding: 0;position: absolute;width: 1px;}#sk-container-id-2 div.sk-estimator {font-family: monospace;background-color: #f0f8ff;border: 1px dotted black;border-radius: 0.25em;box-sizing: border-box;margin-bottom: 0.5em;}#sk-container-id-2 div.sk-estimator:hover {background-color: #d4ebff;}#sk-container-id-2 div.sk-parallel-item::after {content: \"\";width: 100%;border-bottom: 1px solid gray;flex-grow: 1;}#sk-container-id-2 div.sk-label:hover label.sk-toggleable__label {background-color: #d4ebff;}#sk-container-id-2 div.sk-serial::before {content: \"\";position: absolute;border-left: 1px solid gray;box-sizing: border-box;top: 0;bottom: 0;left: 50%;z-index: 0;}#sk-container-id-2 div.sk-serial {display: flex;flex-direction: column;align-items: center;background-color: white;padding-right: 0.2em;padding-left: 0.2em;position: relative;}#sk-container-id-2 div.sk-item {position: relative;z-index: 1;}#sk-container-id-2 div.sk-parallel {display: flex;align-items: stretch;justify-content: center;background-color: white;position: relative;}#sk-container-id-2 div.sk-item::before, #sk-container-id-2 div.sk-parallel-item::before {content: \"\";position: absolute;border-left: 1px solid gray;box-sizing: border-box;top: 0;bottom: 0;left: 50%;z-index: -1;}#sk-container-id-2 div.sk-parallel-item {display: flex;flex-direction: column;z-index: 1;position: relative;background-color: white;}#sk-container-id-2 div.sk-parallel-item:first-child::after {align-self: flex-end;width: 50%;}#sk-container-id-2 div.sk-parallel-item:last-child::after {align-self: flex-start;width: 50%;}#sk-container-id-2 div.sk-parallel-item:only-child::after {width: 0;}#sk-container-id-2 div.sk-dashed-wrapped {border: 1px dashed gray;margin: 0 0.4em 0.5em 0.4em;box-sizing: border-box;padding-bottom: 0.4em;background-color: white;}#sk-container-id-2 div.sk-label label {font-family: monospace;font-weight: bold;display: inline-block;line-height: 1.2em;}#sk-container-id-2 div.sk-label-container {text-align: center;}#sk-container-id-2 div.sk-container {/* jupyter's `normalize.less` sets `[hidden] { display: none; }` but bootstrap.min.css set `[hidden] { display: none !important; }` so we also need the `!important` here to be able to override the default hidden behavior on the sphinx rendered scikit-learn.org. See: https://github.com/scikit-learn/scikit-learn/issues/21755 */display: inline-block !important;position: relative;}#sk-container-id-2 div.sk-text-repr-fallback {display: none;}</style><div id=\"sk-container-id-2\" class=\"sk-top-container\"><div class=\"sk-text-repr-fallback\"><pre>OneClassSVM(gamma=0.001, nu=0.1)</pre><b>In a Jupyter environment, please rerun this cell to show the HTML representation or trust the notebook. <br />On GitHub, the HTML representation is unable to render, please try loading this page with nbviewer.org.</b></div><div class=\"sk-container\" hidden><div class=\"sk-item\"><div class=\"sk-estimator sk-toggleable\"><input class=\"sk-toggleable__control sk-hidden--visually\" id=\"sk-estimator-id-2\" type=\"checkbox\" checked><label for=\"sk-estimator-id-2\" class=\"sk-toggleable__label sk-toggleable__label-arrow\">OneClassSVM</label><div class=\"sk-toggleable__content\"><pre>OneClassSVM(gamma=0.001, nu=0.1)</pre></div></div></div></div></div>"
            ],
            "text/plain": [
              "OneClassSVM(gamma=0.001, nu=0.1)"
            ]
          },
          "execution_count": 28,
          "metadata": {},
          "output_type": "execute_result"
        }
      ],
      "source": [
        "# Train One-Class SVM\n",
        "ocsvm = OneClassSVM(kernel='rbf', gamma=0.001, nu=0.1)\n",
        "ocsvm.fit(X_train)"
      ]
    },
    {
      "cell_type": "code",
      "execution_count": null,
      "metadata": {
        "id": "X7o-7NWOFuuE"
      },
      "outputs": [],
      "source": [
        "# Predict anomalies using Isolation Forest\n",
        "pred_if = isolation_forest.predict(X_test_with_anomalies)\n",
        "pred_if = np.where(pred_if == 1, 0, 1)  # Convert output to binary labels (1 for anomaly)\n",
        "\n",
        "# Predict anomalies using Local Outlier Factor\n",
        "pred_lof = lof.fit_predict(X_test_with_anomalies)\n",
        "pred_lof = np.where(pred_lof == 1, 0, 1)  # Convert output to binary labels (1 for anomaly)\n",
        "\n",
        "# Predict anomalies using One-Class SVM\n",
        "pred_ocsvm = ocsvm.predict(X_test_with_anomalies)\n",
        "pred_ocsvm = np.where(pred_ocsvm == 1, 0, 1)  # Convert output to binary labels (1 for anomaly)\n"
      ]
    },
    {
      "cell_type": "code",
      "execution_count": null,
      "metadata": {
        "colab": {
          "base_uri": "https://localhost:8080/"
        },
        "id": "CFIVxksoFxK3",
        "outputId": "0fbb780c-98bf-4dca-9b78-f1544929d106"
      },
      "outputs": [
        {
          "name": "stdout",
          "output_type": "stream",
          "text": [
            "Isolation Forest: Precision=0.48, Recall=1.00, F1-Score=0.65, AUC-ROC=0.95\n",
            "Local Outlier Factor: Precision=0.89, Recall=0.98, F1-Score=0.93, AUC-ROC=0.98\n",
            "One-Class SVM: Precision=0.45, Recall=1.00, F1-Score=0.62, AUC-ROC=0.94\n"
          ]
        }
      ],
      "source": [
        "from sklearn.metrics import precision_score, recall_score, f1_score, roc_auc_score\n",
        "\n",
        "def evaluate_model(y_true, y_pred):\n",
        "    precision = precision_score(y_true, y_pred)\n",
        "    recall = recall_score(y_true, y_pred)\n",
        "    f1 = f1_score(y_true, y_pred)\n",
        "    auc = roc_auc_score(y_true, y_pred)\n",
        "    return precision, recall, f1, auc\n",
        "\n",
        "# Evaluate Isolation Forest\n",
        "precision_if, recall_if, f1_if, auc_if = evaluate_model(y_test_with_anomalies, pred_if)\n",
        "\n",
        "# Evaluate Local Outlier Factor\n",
        "precision_lof, recall_lof, f1_lof, auc_lof = evaluate_model(y_test_with_anomalies, pred_lof)\n",
        "\n",
        "# Evaluate One-Class SVM\n",
        "precision_ocsvm, recall_ocsvm, f1_ocsvm, auc_ocsvm = evaluate_model(y_test_with_anomalies, pred_ocsvm)\n",
        "\n",
        "# Print evaluation results\n",
        "print(f\"Isolation Forest: Precision={precision_if:.2f}, Recall={recall_if:.2f}, F1-Score={f1_if:.2f}, AUC-ROC={auc_if:.2f}\")\n",
        "print(f\"Local Outlier Factor: Precision={precision_lof:.2f}, Recall={recall_lof:.2f}, F1-Score={f1_lof:.2f}, AUC-ROC={auc_lof:.2f}\")\n",
        "print(f\"One-Class SVM: Precision={precision_ocsvm:.2f}, Recall={recall_ocsvm:.2f}, F1-Score={f1_ocsvm:.2f}, AUC-ROC={auc_ocsvm:.2f}\")\n"
      ]
    },
    {
      "cell_type": "code",
      "execution_count": null,
      "metadata": {
        "id": "ZNuKKCQcR38t"
      },
      "outputs": [],
      "source": []
    }
  ],
  "metadata": {
    "accelerator": "GPU",
    "colab": {
      "gpuType": "T4",
      "provenance": []
    },
    "kernelspec": {
      "display_name": "Python 3",
      "name": "python3"
    },
    "language_info": {
      "name": "python"
    },
    "widgets": {
      "application/vnd.jupyter.widget-state+json": {
        "00c27b74af294425a3a9bc9b30f904f9": {
          "model_module": "@jupyter-widgets/base",
          "model_module_version": "1.2.0",
          "model_name": "LayoutModel",
          "state": {
            "_model_module": "@jupyter-widgets/base",
            "_model_module_version": "1.2.0",
            "_model_name": "LayoutModel",
            "_view_count": null,
            "_view_module": "@jupyter-widgets/base",
            "_view_module_version": "1.2.0",
            "_view_name": "LayoutView",
            "align_content": null,
            "align_items": null,
            "align_self": null,
            "border": null,
            "bottom": null,
            "display": null,
            "flex": null,
            "flex_flow": null,
            "grid_area": null,
            "grid_auto_columns": null,
            "grid_auto_flow": null,
            "grid_auto_rows": null,
            "grid_column": null,
            "grid_gap": null,
            "grid_row": null,
            "grid_template_areas": null,
            "grid_template_columns": null,
            "grid_template_rows": null,
            "height": null,
            "justify_content": null,
            "justify_items": null,
            "left": null,
            "margin": null,
            "max_height": null,
            "max_width": null,
            "min_height": null,
            "min_width": null,
            "object_fit": null,
            "object_position": null,
            "order": null,
            "overflow": null,
            "overflow_x": null,
            "overflow_y": null,
            "padding": null,
            "right": null,
            "top": null,
            "visibility": null,
            "width": null
          }
        },
        "06792ae4ecae4d4d8d1ff1353b279c33": {
          "model_module": "@jupyter-widgets/base",
          "model_module_version": "1.2.0",
          "model_name": "LayoutModel",
          "state": {
            "_model_module": "@jupyter-widgets/base",
            "_model_module_version": "1.2.0",
            "_model_name": "LayoutModel",
            "_view_count": null,
            "_view_module": "@jupyter-widgets/base",
            "_view_module_version": "1.2.0",
            "_view_name": "LayoutView",
            "align_content": null,
            "align_items": null,
            "align_self": null,
            "border": null,
            "bottom": null,
            "display": null,
            "flex": null,
            "flex_flow": null,
            "grid_area": null,
            "grid_auto_columns": null,
            "grid_auto_flow": null,
            "grid_auto_rows": null,
            "grid_column": null,
            "grid_gap": null,
            "grid_row": null,
            "grid_template_areas": null,
            "grid_template_columns": null,
            "grid_template_rows": null,
            "height": null,
            "justify_content": null,
            "justify_items": null,
            "left": null,
            "margin": null,
            "max_height": null,
            "max_width": null,
            "min_height": null,
            "min_width": null,
            "object_fit": null,
            "object_position": null,
            "order": null,
            "overflow": null,
            "overflow_x": null,
            "overflow_y": null,
            "padding": null,
            "right": null,
            "top": null,
            "visibility": null,
            "width": null
          }
        },
        "09e47900479a45ad89fdf3fabf844534": {
          "model_module": "@jupyter-widgets/controls",
          "model_module_version": "1.5.0",
          "model_name": "HTMLModel",
          "state": {
            "_dom_classes": [],
            "_model_module": "@jupyter-widgets/controls",
            "_model_module_version": "1.5.0",
            "_model_name": "HTMLModel",
            "_view_count": null,
            "_view_module": "@jupyter-widgets/controls",
            "_view_module_version": "1.5.0",
            "_view_name": "HTMLView",
            "description": "",
            "description_tooltip": null,
            "layout": "IPY_MODEL_00c27b74af294425a3a9bc9b30f904f9",
            "placeholder": "​",
            "style": "IPY_MODEL_4a8f311f68d14ccfa144016ba824c502",
            "value": "Computing transition probabilities: 100%"
          }
        },
        "0e7dd6890de64f9c83291e38a28f6a85": {
          "model_module": "@jupyter-widgets/controls",
          "model_module_version": "1.5.0",
          "model_name": "HTMLModel",
          "state": {
            "_dom_classes": [],
            "_model_module": "@jupyter-widgets/controls",
            "_model_module_version": "1.5.0",
            "_model_name": "HTMLModel",
            "_view_count": null,
            "_view_module": "@jupyter-widgets/controls",
            "_view_module_version": "1.5.0",
            "_view_name": "HTMLView",
            "description": "",
            "description_tooltip": null,
            "layout": "IPY_MODEL_e21e2e0f441e488ba465a6b7b61d3f19",
            "placeholder": "​",
            "style": "IPY_MODEL_833d4dfb30d841b6a1acd48dc972a145",
            "value": "Computing transition probabilities: 100%"
          }
        },
        "10c0bc3c149442289b25fa0e3dc2e86f": {
          "model_module": "@jupyter-widgets/controls",
          "model_module_version": "1.5.0",
          "model_name": "DescriptionStyleModel",
          "state": {
            "_model_module": "@jupyter-widgets/controls",
            "_model_module_version": "1.5.0",
            "_model_name": "DescriptionStyleModel",
            "_view_count": null,
            "_view_module": "@jupyter-widgets/base",
            "_view_module_version": "1.2.0",
            "_view_name": "StyleView",
            "description_width": ""
          }
        },
        "14df78f864c544319b44554f4353c475": {
          "model_module": "@jupyter-widgets/base",
          "model_module_version": "1.2.0",
          "model_name": "LayoutModel",
          "state": {
            "_model_module": "@jupyter-widgets/base",
            "_model_module_version": "1.2.0",
            "_model_name": "LayoutModel",
            "_view_count": null,
            "_view_module": "@jupyter-widgets/base",
            "_view_module_version": "1.2.0",
            "_view_name": "LayoutView",
            "align_content": null,
            "align_items": null,
            "align_self": null,
            "border": null,
            "bottom": null,
            "display": null,
            "flex": null,
            "flex_flow": null,
            "grid_area": null,
            "grid_auto_columns": null,
            "grid_auto_flow": null,
            "grid_auto_rows": null,
            "grid_column": null,
            "grid_gap": null,
            "grid_row": null,
            "grid_template_areas": null,
            "grid_template_columns": null,
            "grid_template_rows": null,
            "height": null,
            "justify_content": null,
            "justify_items": null,
            "left": null,
            "margin": null,
            "max_height": null,
            "max_width": null,
            "min_height": null,
            "min_width": null,
            "object_fit": null,
            "object_position": null,
            "order": null,
            "overflow": null,
            "overflow_x": null,
            "overflow_y": null,
            "padding": null,
            "right": null,
            "top": null,
            "visibility": null,
            "width": null
          }
        },
        "22a3896f2b3441e3989752f6b5e5c3b4": {
          "model_module": "@jupyter-widgets/base",
          "model_module_version": "1.2.0",
          "model_name": "LayoutModel",
          "state": {
            "_model_module": "@jupyter-widgets/base",
            "_model_module_version": "1.2.0",
            "_model_name": "LayoutModel",
            "_view_count": null,
            "_view_module": "@jupyter-widgets/base",
            "_view_module_version": "1.2.0",
            "_view_name": "LayoutView",
            "align_content": null,
            "align_items": null,
            "align_self": null,
            "border": null,
            "bottom": null,
            "display": null,
            "flex": null,
            "flex_flow": null,
            "grid_area": null,
            "grid_auto_columns": null,
            "grid_auto_flow": null,
            "grid_auto_rows": null,
            "grid_column": null,
            "grid_gap": null,
            "grid_row": null,
            "grid_template_areas": null,
            "grid_template_columns": null,
            "grid_template_rows": null,
            "height": null,
            "justify_content": null,
            "justify_items": null,
            "left": null,
            "margin": null,
            "max_height": null,
            "max_width": null,
            "min_height": null,
            "min_width": null,
            "object_fit": null,
            "object_position": null,
            "order": null,
            "overflow": null,
            "overflow_x": null,
            "overflow_y": null,
            "padding": null,
            "right": null,
            "top": null,
            "visibility": null,
            "width": null
          }
        },
        "249e13937fe541e29220ad300885b32f": {
          "model_module": "@jupyter-widgets/controls",
          "model_module_version": "1.5.0",
          "model_name": "DescriptionStyleModel",
          "state": {
            "_model_module": "@jupyter-widgets/controls",
            "_model_module_version": "1.5.0",
            "_model_name": "DescriptionStyleModel",
            "_view_count": null,
            "_view_module": "@jupyter-widgets/base",
            "_view_module_version": "1.2.0",
            "_view_name": "StyleView",
            "description_width": ""
          }
        },
        "2fa9b1b9c34f40dbab0933eaf5aa7a27": {
          "model_module": "@jupyter-widgets/controls",
          "model_module_version": "1.5.0",
          "model_name": "FloatProgressModel",
          "state": {
            "_dom_classes": [],
            "_model_module": "@jupyter-widgets/controls",
            "_model_module_version": "1.5.0",
            "_model_name": "FloatProgressModel",
            "_view_count": null,
            "_view_module": "@jupyter-widgets/controls",
            "_view_module_version": "1.5.0",
            "_view_name": "ProgressView",
            "bar_style": "success",
            "description": "",
            "description_tooltip": null,
            "layout": "IPY_MODEL_8193924dc30249f8937d547eb5bb0ecd",
            "max": 4721,
            "min": 0,
            "orientation": "horizontal",
            "style": "IPY_MODEL_471c6e97c6b04c31ae10196805cbb6c2",
            "value": 4721
          }
        },
        "471c6e97c6b04c31ae10196805cbb6c2": {
          "model_module": "@jupyter-widgets/controls",
          "model_module_version": "1.5.0",
          "model_name": "ProgressStyleModel",
          "state": {
            "_model_module": "@jupyter-widgets/controls",
            "_model_module_version": "1.5.0",
            "_model_name": "ProgressStyleModel",
            "_view_count": null,
            "_view_module": "@jupyter-widgets/base",
            "_view_module_version": "1.2.0",
            "_view_name": "StyleView",
            "bar_color": null,
            "description_width": ""
          }
        },
        "4a8f311f68d14ccfa144016ba824c502": {
          "model_module": "@jupyter-widgets/controls",
          "model_module_version": "1.5.0",
          "model_name": "DescriptionStyleModel",
          "state": {
            "_model_module": "@jupyter-widgets/controls",
            "_model_module_version": "1.5.0",
            "_model_name": "DescriptionStyleModel",
            "_view_count": null,
            "_view_module": "@jupyter-widgets/base",
            "_view_module_version": "1.2.0",
            "_view_name": "StyleView",
            "description_width": ""
          }
        },
        "4b987b8e4b9141319870c0e5339bfd19": {
          "model_module": "@jupyter-widgets/base",
          "model_module_version": "1.2.0",
          "model_name": "LayoutModel",
          "state": {
            "_model_module": "@jupyter-widgets/base",
            "_model_module_version": "1.2.0",
            "_model_name": "LayoutModel",
            "_view_count": null,
            "_view_module": "@jupyter-widgets/base",
            "_view_module_version": "1.2.0",
            "_view_name": "LayoutView",
            "align_content": null,
            "align_items": null,
            "align_self": null,
            "border": null,
            "bottom": null,
            "display": null,
            "flex": null,
            "flex_flow": null,
            "grid_area": null,
            "grid_auto_columns": null,
            "grid_auto_flow": null,
            "grid_auto_rows": null,
            "grid_column": null,
            "grid_gap": null,
            "grid_row": null,
            "grid_template_areas": null,
            "grid_template_columns": null,
            "grid_template_rows": null,
            "height": null,
            "justify_content": null,
            "justify_items": null,
            "left": null,
            "margin": null,
            "max_height": null,
            "max_width": null,
            "min_height": null,
            "min_width": null,
            "object_fit": null,
            "object_position": null,
            "order": null,
            "overflow": null,
            "overflow_x": null,
            "overflow_y": null,
            "padding": null,
            "right": null,
            "top": null,
            "visibility": null,
            "width": null
          }
        },
        "5687fdb293c048a5a53f91bed76abec0": {
          "model_module": "@jupyter-widgets/controls",
          "model_module_version": "1.5.0",
          "model_name": "DescriptionStyleModel",
          "state": {
            "_model_module": "@jupyter-widgets/controls",
            "_model_module_version": "1.5.0",
            "_model_name": "DescriptionStyleModel",
            "_view_count": null,
            "_view_module": "@jupyter-widgets/base",
            "_view_module_version": "1.2.0",
            "_view_name": "StyleView",
            "description_width": ""
          }
        },
        "5e8fcecb8fee47a6ac37b1b33f5d45bd": {
          "model_module": "@jupyter-widgets/controls",
          "model_module_version": "1.5.0",
          "model_name": "HBoxModel",
          "state": {
            "_dom_classes": [],
            "_model_module": "@jupyter-widgets/controls",
            "_model_module_version": "1.5.0",
            "_model_name": "HBoxModel",
            "_view_count": null,
            "_view_module": "@jupyter-widgets/controls",
            "_view_module_version": "1.5.0",
            "_view_name": "HBoxView",
            "box_style": "",
            "children": [
              "IPY_MODEL_09e47900479a45ad89fdf3fabf844534",
              "IPY_MODEL_2fa9b1b9c34f40dbab0933eaf5aa7a27",
              "IPY_MODEL_c45edacc44d94b64b522ef8ec3fe432b"
            ],
            "layout": "IPY_MODEL_06792ae4ecae4d4d8d1ff1353b279c33"
          }
        },
        "5fab68b000a048d0bad6b250f42775d7": {
          "model_module": "@jupyter-widgets/controls",
          "model_module_version": "1.5.0",
          "model_name": "HBoxModel",
          "state": {
            "_dom_classes": [],
            "_model_module": "@jupyter-widgets/controls",
            "_model_module_version": "1.5.0",
            "_model_name": "HBoxModel",
            "_view_count": null,
            "_view_module": "@jupyter-widgets/controls",
            "_view_module_version": "1.5.0",
            "_view_name": "HBoxView",
            "box_style": "",
            "children": [
              "IPY_MODEL_0e7dd6890de64f9c83291e38a28f6a85",
              "IPY_MODEL_d34d258850184c4d82d711f89db58375",
              "IPY_MODEL_5fda27cb16f04b94afdb4f1971354646"
            ],
            "layout": "IPY_MODEL_8babbb8e218740fab6f8e0914ad665b9"
          }
        },
        "5fda27cb16f04b94afdb4f1971354646": {
          "model_module": "@jupyter-widgets/controls",
          "model_module_version": "1.5.0",
          "model_name": "HTMLModel",
          "state": {
            "_dom_classes": [],
            "_model_module": "@jupyter-widgets/controls",
            "_model_module_version": "1.5.0",
            "_model_name": "HTMLModel",
            "_view_count": null,
            "_view_module": "@jupyter-widgets/controls",
            "_view_module_version": "1.5.0",
            "_view_name": "HTMLView",
            "description": "",
            "description_tooltip": null,
            "layout": "IPY_MODEL_a788319ebf614a68b56dab0c03678f07",
            "placeholder": "​",
            "style": "IPY_MODEL_d551929c3ad44a8caf9718f2edc2c9a3",
            "value": " 410/410 [00:00&lt;00:00, 683.17it/s]"
          }
        },
        "6f1e2f3d24ca478ebe93f55f22b9d01c": {
          "model_module": "@jupyter-widgets/base",
          "model_module_version": "1.2.0",
          "model_name": "LayoutModel",
          "state": {
            "_model_module": "@jupyter-widgets/base",
            "_model_module_version": "1.2.0",
            "_model_name": "LayoutModel",
            "_view_count": null,
            "_view_module": "@jupyter-widgets/base",
            "_view_module_version": "1.2.0",
            "_view_name": "LayoutView",
            "align_content": null,
            "align_items": null,
            "align_self": null,
            "border": null,
            "bottom": null,
            "display": null,
            "flex": null,
            "flex_flow": null,
            "grid_area": null,
            "grid_auto_columns": null,
            "grid_auto_flow": null,
            "grid_auto_rows": null,
            "grid_column": null,
            "grid_gap": null,
            "grid_row": null,
            "grid_template_areas": null,
            "grid_template_columns": null,
            "grid_template_rows": null,
            "height": null,
            "justify_content": null,
            "justify_items": null,
            "left": null,
            "margin": null,
            "max_height": null,
            "max_width": null,
            "min_height": null,
            "min_width": null,
            "object_fit": null,
            "object_position": null,
            "order": null,
            "overflow": null,
            "overflow_x": null,
            "overflow_y": null,
            "padding": null,
            "right": null,
            "top": null,
            "visibility": null,
            "width": null
          }
        },
        "8193924dc30249f8937d547eb5bb0ecd": {
          "model_module": "@jupyter-widgets/base",
          "model_module_version": "1.2.0",
          "model_name": "LayoutModel",
          "state": {
            "_model_module": "@jupyter-widgets/base",
            "_model_module_version": "1.2.0",
            "_model_name": "LayoutModel",
            "_view_count": null,
            "_view_module": "@jupyter-widgets/base",
            "_view_module_version": "1.2.0",
            "_view_name": "LayoutView",
            "align_content": null,
            "align_items": null,
            "align_self": null,
            "border": null,
            "bottom": null,
            "display": null,
            "flex": null,
            "flex_flow": null,
            "grid_area": null,
            "grid_auto_columns": null,
            "grid_auto_flow": null,
            "grid_auto_rows": null,
            "grid_column": null,
            "grid_gap": null,
            "grid_row": null,
            "grid_template_areas": null,
            "grid_template_columns": null,
            "grid_template_rows": null,
            "height": null,
            "justify_content": null,
            "justify_items": null,
            "left": null,
            "margin": null,
            "max_height": null,
            "max_width": null,
            "min_height": null,
            "min_width": null,
            "object_fit": null,
            "object_position": null,
            "order": null,
            "overflow": null,
            "overflow_x": null,
            "overflow_y": null,
            "padding": null,
            "right": null,
            "top": null,
            "visibility": null,
            "width": null
          }
        },
        "833d4dfb30d841b6a1acd48dc972a145": {
          "model_module": "@jupyter-widgets/controls",
          "model_module_version": "1.5.0",
          "model_name": "DescriptionStyleModel",
          "state": {
            "_model_module": "@jupyter-widgets/controls",
            "_model_module_version": "1.5.0",
            "_model_name": "DescriptionStyleModel",
            "_view_count": null,
            "_view_module": "@jupyter-widgets/base",
            "_view_module_version": "1.2.0",
            "_view_name": "StyleView",
            "description_width": ""
          }
        },
        "8babbb8e218740fab6f8e0914ad665b9": {
          "model_module": "@jupyter-widgets/base",
          "model_module_version": "1.2.0",
          "model_name": "LayoutModel",
          "state": {
            "_model_module": "@jupyter-widgets/base",
            "_model_module_version": "1.2.0",
            "_model_name": "LayoutModel",
            "_view_count": null,
            "_view_module": "@jupyter-widgets/base",
            "_view_module_version": "1.2.0",
            "_view_name": "LayoutView",
            "align_content": null,
            "align_items": null,
            "align_self": null,
            "border": null,
            "bottom": null,
            "display": null,
            "flex": null,
            "flex_flow": null,
            "grid_area": null,
            "grid_auto_columns": null,
            "grid_auto_flow": null,
            "grid_auto_rows": null,
            "grid_column": null,
            "grid_gap": null,
            "grid_row": null,
            "grid_template_areas": null,
            "grid_template_columns": null,
            "grid_template_rows": null,
            "height": null,
            "justify_content": null,
            "justify_items": null,
            "left": null,
            "margin": null,
            "max_height": null,
            "max_width": null,
            "min_height": null,
            "min_width": null,
            "object_fit": null,
            "object_position": null,
            "order": null,
            "overflow": null,
            "overflow_x": null,
            "overflow_y": null,
            "padding": null,
            "right": null,
            "top": null,
            "visibility": null,
            "width": null
          }
        },
        "8f2aded6ce2448ee80f3a53fb22e1e65": {
          "model_module": "@jupyter-widgets/base",
          "model_module_version": "1.2.0",
          "model_name": "LayoutModel",
          "state": {
            "_model_module": "@jupyter-widgets/base",
            "_model_module_version": "1.2.0",
            "_model_name": "LayoutModel",
            "_view_count": null,
            "_view_module": "@jupyter-widgets/base",
            "_view_module_version": "1.2.0",
            "_view_name": "LayoutView",
            "align_content": null,
            "align_items": null,
            "align_self": null,
            "border": null,
            "bottom": null,
            "display": null,
            "flex": null,
            "flex_flow": null,
            "grid_area": null,
            "grid_auto_columns": null,
            "grid_auto_flow": null,
            "grid_auto_rows": null,
            "grid_column": null,
            "grid_gap": null,
            "grid_row": null,
            "grid_template_areas": null,
            "grid_template_columns": null,
            "grid_template_rows": null,
            "height": null,
            "justify_content": null,
            "justify_items": null,
            "left": null,
            "margin": null,
            "max_height": null,
            "max_width": null,
            "min_height": null,
            "min_width": null,
            "object_fit": null,
            "object_position": null,
            "order": null,
            "overflow": null,
            "overflow_x": null,
            "overflow_y": null,
            "padding": null,
            "right": null,
            "top": null,
            "visibility": null,
            "width": null
          }
        },
        "93da2da9d6344d5caa6d3b7b055ce899": {
          "model_module": "@jupyter-widgets/controls",
          "model_module_version": "1.5.0",
          "model_name": "HTMLModel",
          "state": {
            "_dom_classes": [],
            "_model_module": "@jupyter-widgets/controls",
            "_model_module_version": "1.5.0",
            "_model_name": "HTMLModel",
            "_view_count": null,
            "_view_module": "@jupyter-widgets/controls",
            "_view_module_version": "1.5.0",
            "_view_name": "HTMLView",
            "description": "",
            "description_tooltip": null,
            "layout": "IPY_MODEL_8f2aded6ce2448ee80f3a53fb22e1e65",
            "placeholder": "​",
            "style": "IPY_MODEL_249e13937fe541e29220ad300885b32f",
            "value": " 5234/5234 [00:00&lt;00:00, 17741.97it/s]"
          }
        },
        "97e30b2f08f948f1abc0b8dd4ee610e2": {
          "model_module": "@jupyter-widgets/base",
          "model_module_version": "1.2.0",
          "model_name": "LayoutModel",
          "state": {
            "_model_module": "@jupyter-widgets/base",
            "_model_module_version": "1.2.0",
            "_model_name": "LayoutModel",
            "_view_count": null,
            "_view_module": "@jupyter-widgets/base",
            "_view_module_version": "1.2.0",
            "_view_name": "LayoutView",
            "align_content": null,
            "align_items": null,
            "align_self": null,
            "border": null,
            "bottom": null,
            "display": null,
            "flex": null,
            "flex_flow": null,
            "grid_area": null,
            "grid_auto_columns": null,
            "grid_auto_flow": null,
            "grid_auto_rows": null,
            "grid_column": null,
            "grid_gap": null,
            "grid_row": null,
            "grid_template_areas": null,
            "grid_template_columns": null,
            "grid_template_rows": null,
            "height": null,
            "justify_content": null,
            "justify_items": null,
            "left": null,
            "margin": null,
            "max_height": null,
            "max_width": null,
            "min_height": null,
            "min_width": null,
            "object_fit": null,
            "object_position": null,
            "order": null,
            "overflow": null,
            "overflow_x": null,
            "overflow_y": null,
            "padding": null,
            "right": null,
            "top": null,
            "visibility": null,
            "width": null
          }
        },
        "a788319ebf614a68b56dab0c03678f07": {
          "model_module": "@jupyter-widgets/base",
          "model_module_version": "1.2.0",
          "model_name": "LayoutModel",
          "state": {
            "_model_module": "@jupyter-widgets/base",
            "_model_module_version": "1.2.0",
            "_model_name": "LayoutModel",
            "_view_count": null,
            "_view_module": "@jupyter-widgets/base",
            "_view_module_version": "1.2.0",
            "_view_name": "LayoutView",
            "align_content": null,
            "align_items": null,
            "align_self": null,
            "border": null,
            "bottom": null,
            "display": null,
            "flex": null,
            "flex_flow": null,
            "grid_area": null,
            "grid_auto_columns": null,
            "grid_auto_flow": null,
            "grid_auto_rows": null,
            "grid_column": null,
            "grid_gap": null,
            "grid_row": null,
            "grid_template_areas": null,
            "grid_template_columns": null,
            "grid_template_rows": null,
            "height": null,
            "justify_content": null,
            "justify_items": null,
            "left": null,
            "margin": null,
            "max_height": null,
            "max_width": null,
            "min_height": null,
            "min_width": null,
            "object_fit": null,
            "object_position": null,
            "order": null,
            "overflow": null,
            "overflow_x": null,
            "overflow_y": null,
            "padding": null,
            "right": null,
            "top": null,
            "visibility": null,
            "width": null
          }
        },
        "b98817b881364052b379b7a84187d401": {
          "model_module": "@jupyter-widgets/controls",
          "model_module_version": "1.5.0",
          "model_name": "FloatProgressModel",
          "state": {
            "_dom_classes": [],
            "_model_module": "@jupyter-widgets/controls",
            "_model_module_version": "1.5.0",
            "_model_name": "FloatProgressModel",
            "_view_count": null,
            "_view_module": "@jupyter-widgets/controls",
            "_view_module_version": "1.5.0",
            "_view_name": "ProgressView",
            "bar_style": "success",
            "description": "",
            "description_tooltip": null,
            "layout": "IPY_MODEL_14df78f864c544319b44554f4353c475",
            "max": 5234,
            "min": 0,
            "orientation": "horizontal",
            "style": "IPY_MODEL_ea6ebdab7efc43e190054a6d35d7e809",
            "value": 5234
          }
        },
        "c45edacc44d94b64b522ef8ec3fe432b": {
          "model_module": "@jupyter-widgets/controls",
          "model_module_version": "1.5.0",
          "model_name": "HTMLModel",
          "state": {
            "_dom_classes": [],
            "_model_module": "@jupyter-widgets/controls",
            "_model_module_version": "1.5.0",
            "_model_name": "HTMLModel",
            "_view_count": null,
            "_view_module": "@jupyter-widgets/controls",
            "_view_module_version": "1.5.0",
            "_view_name": "HTMLView",
            "description": "",
            "description_tooltip": null,
            "layout": "IPY_MODEL_6f1e2f3d24ca478ebe93f55f22b9d01c",
            "placeholder": "​",
            "style": "IPY_MODEL_5687fdb293c048a5a53f91bed76abec0",
            "value": " 4721/4721 [00:02&lt;00:00, 3111.93it/s]"
          }
        },
        "c63570374c0c4e33aed0e1b93d878b6c": {
          "model_module": "@jupyter-widgets/controls",
          "model_module_version": "1.5.0",
          "model_name": "HTMLModel",
          "state": {
            "_dom_classes": [],
            "_model_module": "@jupyter-widgets/controls",
            "_model_module_version": "1.5.0",
            "_model_name": "HTMLModel",
            "_view_count": null,
            "_view_module": "@jupyter-widgets/controls",
            "_view_module_version": "1.5.0",
            "_view_name": "HTMLView",
            "description": "",
            "description_tooltip": null,
            "layout": "IPY_MODEL_4b987b8e4b9141319870c0e5339bfd19",
            "placeholder": "​",
            "style": "IPY_MODEL_10c0bc3c149442289b25fa0e3dc2e86f",
            "value": "Computing transition probabilities: 100%"
          }
        },
        "d34d258850184c4d82d711f89db58375": {
          "model_module": "@jupyter-widgets/controls",
          "model_module_version": "1.5.0",
          "model_name": "FloatProgressModel",
          "state": {
            "_dom_classes": [],
            "_model_module": "@jupyter-widgets/controls",
            "_model_module_version": "1.5.0",
            "_model_name": "FloatProgressModel",
            "_view_count": null,
            "_view_module": "@jupyter-widgets/controls",
            "_view_module_version": "1.5.0",
            "_view_name": "ProgressView",
            "bar_style": "success",
            "description": "",
            "description_tooltip": null,
            "layout": "IPY_MODEL_22a3896f2b3441e3989752f6b5e5c3b4",
            "max": 410,
            "min": 0,
            "orientation": "horizontal",
            "style": "IPY_MODEL_e294ad2e7d194d8b9dd1687933e0fa8f",
            "value": 410
          }
        },
        "d551929c3ad44a8caf9718f2edc2c9a3": {
          "model_module": "@jupyter-widgets/controls",
          "model_module_version": "1.5.0",
          "model_name": "DescriptionStyleModel",
          "state": {
            "_model_module": "@jupyter-widgets/controls",
            "_model_module_version": "1.5.0",
            "_model_name": "DescriptionStyleModel",
            "_view_count": null,
            "_view_module": "@jupyter-widgets/base",
            "_view_module_version": "1.2.0",
            "_view_name": "StyleView",
            "description_width": ""
          }
        },
        "e21e2e0f441e488ba465a6b7b61d3f19": {
          "model_module": "@jupyter-widgets/base",
          "model_module_version": "1.2.0",
          "model_name": "LayoutModel",
          "state": {
            "_model_module": "@jupyter-widgets/base",
            "_model_module_version": "1.2.0",
            "_model_name": "LayoutModel",
            "_view_count": null,
            "_view_module": "@jupyter-widgets/base",
            "_view_module_version": "1.2.0",
            "_view_name": "LayoutView",
            "align_content": null,
            "align_items": null,
            "align_self": null,
            "border": null,
            "bottom": null,
            "display": null,
            "flex": null,
            "flex_flow": null,
            "grid_area": null,
            "grid_auto_columns": null,
            "grid_auto_flow": null,
            "grid_auto_rows": null,
            "grid_column": null,
            "grid_gap": null,
            "grid_row": null,
            "grid_template_areas": null,
            "grid_template_columns": null,
            "grid_template_rows": null,
            "height": null,
            "justify_content": null,
            "justify_items": null,
            "left": null,
            "margin": null,
            "max_height": null,
            "max_width": null,
            "min_height": null,
            "min_width": null,
            "object_fit": null,
            "object_position": null,
            "order": null,
            "overflow": null,
            "overflow_x": null,
            "overflow_y": null,
            "padding": null,
            "right": null,
            "top": null,
            "visibility": null,
            "width": null
          }
        },
        "e294ad2e7d194d8b9dd1687933e0fa8f": {
          "model_module": "@jupyter-widgets/controls",
          "model_module_version": "1.5.0",
          "model_name": "ProgressStyleModel",
          "state": {
            "_model_module": "@jupyter-widgets/controls",
            "_model_module_version": "1.5.0",
            "_model_name": "ProgressStyleModel",
            "_view_count": null,
            "_view_module": "@jupyter-widgets/base",
            "_view_module_version": "1.2.0",
            "_view_name": "StyleView",
            "bar_color": null,
            "description_width": ""
          }
        },
        "ea6ebdab7efc43e190054a6d35d7e809": {
          "model_module": "@jupyter-widgets/controls",
          "model_module_version": "1.5.0",
          "model_name": "ProgressStyleModel",
          "state": {
            "_model_module": "@jupyter-widgets/controls",
            "_model_module_version": "1.5.0",
            "_model_name": "ProgressStyleModel",
            "_view_count": null,
            "_view_module": "@jupyter-widgets/base",
            "_view_module_version": "1.2.0",
            "_view_name": "StyleView",
            "bar_color": null,
            "description_width": ""
          }
        },
        "eba099dc02c6467bbe843ec2f068c66f": {
          "model_module": "@jupyter-widgets/controls",
          "model_module_version": "1.5.0",
          "model_name": "HBoxModel",
          "state": {
            "_dom_classes": [],
            "_model_module": "@jupyter-widgets/controls",
            "_model_module_version": "1.5.0",
            "_model_name": "HBoxModel",
            "_view_count": null,
            "_view_module": "@jupyter-widgets/controls",
            "_view_module_version": "1.5.0",
            "_view_name": "HBoxView",
            "box_style": "",
            "children": [
              "IPY_MODEL_c63570374c0c4e33aed0e1b93d878b6c",
              "IPY_MODEL_b98817b881364052b379b7a84187d401",
              "IPY_MODEL_93da2da9d6344d5caa6d3b7b055ce899"
            ],
            "layout": "IPY_MODEL_97e30b2f08f948f1abc0b8dd4ee610e2"
          }
        }
      }
    }
  },
  "nbformat": 4,
  "nbformat_minor": 0
}
